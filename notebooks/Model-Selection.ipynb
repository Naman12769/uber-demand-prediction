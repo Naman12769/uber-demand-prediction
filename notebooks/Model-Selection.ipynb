{
 "cells": [
  {
   "cell_type": "code",
   "execution_count": 18,
   "id": "0d02059f",
   "metadata": {},
   "outputs": [],
   "source": [
    "import pandas as pd\n",
    "import numpy as np\n",
    "from sklearn.preprocessing import OneHotEncoder\n",
    "from sklearn.compose import ColumnTransformer\n",
    "from sklearn.linear_model import LinearRegression,Ridge\n",
    "from sklearn.pipeline import Pipeline\n",
    "from sklearn.metrics import mean_absolute_percentage_error\n",
    "from sklearn.svm import SVR\n",
    "from sklearn.ensemble import RandomForestRegressor,GradientBoostingRegressor\n",
    "from xgboost import XGBRegressor\n",
    "import mlflow"
   ]
  },
  {
   "cell_type": "code",
   "execution_count": 2,
   "id": "4ddc7596",
   "metadata": {},
   "outputs": [],
   "source": [
    "mlflow.set_tracking_uri(\"https://dagshub.com/Naman12769/uber-demand-prediction.mlflow\")"
   ]
  },
  {
   "cell_type": "code",
   "execution_count": 3,
   "id": "0662bfd9",
   "metadata": {},
   "outputs": [
    {
     "data": {
      "text/html": [
       "<pre style=\"white-space:pre;overflow-x:auto;line-height:normal;font-family:Menlo,'DejaVu Sans Mono',consolas,'Courier New',monospace\">Accessing as Naman12769\n",
       "</pre>\n"
      ],
      "text/plain": [
       "Accessing as Naman12769\n"
      ]
     },
     "metadata": {},
     "output_type": "display_data"
    },
    {
     "data": {
      "text/html": [
       "<pre style=\"white-space:pre;overflow-x:auto;line-height:normal;font-family:Menlo,'DejaVu Sans Mono',consolas,'Courier New',monospace\">Initialized MLflow to track repo <span style=\"color: #008000; text-decoration-color: #008000\">\"Naman12769/uber-demand-prediction\"</span>\n",
       "</pre>\n"
      ],
      "text/plain": [
       "Initialized MLflow to track repo \u001b[32m\"Naman12769/uber-demand-prediction\"\u001b[0m\n"
      ]
     },
     "metadata": {},
     "output_type": "display_data"
    },
    {
     "data": {
      "text/html": [
       "<pre style=\"white-space:pre;overflow-x:auto;line-height:normal;font-family:Menlo,'DejaVu Sans Mono',consolas,'Courier New',monospace\">Repository Naman12769/uber-demand-prediction initialized!\n",
       "</pre>\n"
      ],
      "text/plain": [
       "Repository Naman12769/uber-demand-prediction initialized!\n"
      ]
     },
     "metadata": {},
     "output_type": "display_data"
    }
   ],
   "source": [
    "import dagshub\n",
    "dagshub.init(repo_owner='Naman12769', repo_name='uber-demand-prediction', mlflow=True)\n"
   ]
  },
  {
   "cell_type": "code",
   "execution_count": 4,
   "id": "a0a60c65",
   "metadata": {},
   "outputs": [],
   "source": [
    "\n",
    "# load the training and test data\n",
    "\n",
    "train_data_path = \"../data/processed/train.csv\"\n",
    "test_data_path = \"../data/processed/test.csv\"\n",
    "\n",
    "train_df = pd.read_csv(train_data_path, parse_dates=[\"tpep_pickup_datetime\"]).set_index(\"tpep_pickup_datetime\")\n",
    "\n",
    "test_df = pd.read_csv(test_data_path, parse_dates=[\"tpep_pickup_datetime\"]).set_index(\"tpep_pickup_datetime\")"
   ]
  },
  {
   "cell_type": "code",
   "execution_count": 5,
   "id": "e2a4ad35",
   "metadata": {},
   "outputs": [
    {
     "data": {
      "text/html": [
       "<div>\n",
       "<style scoped>\n",
       "    .dataframe tbody tr th:only-of-type {\n",
       "        vertical-align: middle;\n",
       "    }\n",
       "\n",
       "    .dataframe tbody tr th {\n",
       "        vertical-align: top;\n",
       "    }\n",
       "\n",
       "    .dataframe thead th {\n",
       "        text-align: right;\n",
       "    }\n",
       "</style>\n",
       "<table border=\"1\" class=\"dataframe\">\n",
       "  <thead>\n",
       "    <tr style=\"text-align: right;\">\n",
       "      <th></th>\n",
       "      <th>lag_1</th>\n",
       "      <th>lag_2</th>\n",
       "      <th>lag_3</th>\n",
       "      <th>lag_4</th>\n",
       "      <th>region</th>\n",
       "      <th>total_pickups</th>\n",
       "      <th>avg_pickups</th>\n",
       "      <th>day_of_week</th>\n",
       "    </tr>\n",
       "    <tr>\n",
       "      <th>tpep_pickup_datetime</th>\n",
       "      <th></th>\n",
       "      <th></th>\n",
       "      <th></th>\n",
       "      <th></th>\n",
       "      <th></th>\n",
       "      <th></th>\n",
       "      <th></th>\n",
       "      <th></th>\n",
       "    </tr>\n",
       "  </thead>\n",
       "  <tbody>\n",
       "    <tr>\n",
       "      <th>2016-01-01 01:00:00</th>\n",
       "      <td>160.0</td>\n",
       "      <td>149.0</td>\n",
       "      <td>120.0</td>\n",
       "      <td>58.0</td>\n",
       "      <td>0</td>\n",
       "      <td>187</td>\n",
       "      <td>161.0</td>\n",
       "      <td>4</td>\n",
       "    </tr>\n",
       "    <tr>\n",
       "      <th>2016-01-01 01:15:00</th>\n",
       "      <td>187.0</td>\n",
       "      <td>160.0</td>\n",
       "      <td>149.0</td>\n",
       "      <td>120.0</td>\n",
       "      <td>0</td>\n",
       "      <td>194</td>\n",
       "      <td>175.0</td>\n",
       "      <td>4</td>\n",
       "    </tr>\n",
       "    <tr>\n",
       "      <th>2016-01-01 01:30:00</th>\n",
       "      <td>194.0</td>\n",
       "      <td>187.0</td>\n",
       "      <td>160.0</td>\n",
       "      <td>149.0</td>\n",
       "      <td>0</td>\n",
       "      <td>180</td>\n",
       "      <td>177.0</td>\n",
       "      <td>4</td>\n",
       "    </tr>\n",
       "    <tr>\n",
       "      <th>2016-01-01 01:45:00</th>\n",
       "      <td>180.0</td>\n",
       "      <td>194.0</td>\n",
       "      <td>187.0</td>\n",
       "      <td>160.0</td>\n",
       "      <td>0</td>\n",
       "      <td>197</td>\n",
       "      <td>185.0</td>\n",
       "      <td>4</td>\n",
       "    </tr>\n",
       "    <tr>\n",
       "      <th>2016-01-01 02:00:00</th>\n",
       "      <td>197.0</td>\n",
       "      <td>180.0</td>\n",
       "      <td>194.0</td>\n",
       "      <td>187.0</td>\n",
       "      <td>0</td>\n",
       "      <td>185</td>\n",
       "      <td>185.0</td>\n",
       "      <td>4</td>\n",
       "    </tr>\n",
       "    <tr>\n",
       "      <th>...</th>\n",
       "      <td>...</td>\n",
       "      <td>...</td>\n",
       "      <td>...</td>\n",
       "      <td>...</td>\n",
       "      <td>...</td>\n",
       "      <td>...</td>\n",
       "      <td>...</td>\n",
       "      <td>...</td>\n",
       "    </tr>\n",
       "    <tr>\n",
       "      <th>2016-02-29 22:45:00</th>\n",
       "      <td>15.0</td>\n",
       "      <td>9.0</td>\n",
       "      <td>11.0</td>\n",
       "      <td>11.0</td>\n",
       "      <td>29</td>\n",
       "      <td>12</td>\n",
       "      <td>12.0</td>\n",
       "      <td>0</td>\n",
       "    </tr>\n",
       "    <tr>\n",
       "      <th>2016-02-29 23:00:00</th>\n",
       "      <td>12.0</td>\n",
       "      <td>15.0</td>\n",
       "      <td>9.0</td>\n",
       "      <td>11.0</td>\n",
       "      <td>29</td>\n",
       "      <td>17</td>\n",
       "      <td>14.0</td>\n",
       "      <td>0</td>\n",
       "    </tr>\n",
       "    <tr>\n",
       "      <th>2016-02-29 23:15:00</th>\n",
       "      <td>17.0</td>\n",
       "      <td>12.0</td>\n",
       "      <td>15.0</td>\n",
       "      <td>9.0</td>\n",
       "      <td>29</td>\n",
       "      <td>15</td>\n",
       "      <td>14.0</td>\n",
       "      <td>0</td>\n",
       "    </tr>\n",
       "    <tr>\n",
       "      <th>2016-02-29 23:30:00</th>\n",
       "      <td>15.0</td>\n",
       "      <td>17.0</td>\n",
       "      <td>12.0</td>\n",
       "      <td>15.0</td>\n",
       "      <td>29</td>\n",
       "      <td>15</td>\n",
       "      <td>15.0</td>\n",
       "      <td>0</td>\n",
       "    </tr>\n",
       "    <tr>\n",
       "      <th>2016-02-29 23:45:00</th>\n",
       "      <td>15.0</td>\n",
       "      <td>15.0</td>\n",
       "      <td>17.0</td>\n",
       "      <td>12.0</td>\n",
       "      <td>29</td>\n",
       "      <td>12</td>\n",
       "      <td>14.0</td>\n",
       "      <td>0</td>\n",
       "    </tr>\n",
       "  </tbody>\n",
       "</table>\n",
       "<p>172680 rows × 8 columns</p>\n",
       "</div>"
      ],
      "text/plain": [
       "                      lag_1  lag_2  lag_3  lag_4  region  total_pickups  \\\n",
       "tpep_pickup_datetime                                                      \n",
       "2016-01-01 01:00:00   160.0  149.0  120.0   58.0       0            187   \n",
       "2016-01-01 01:15:00   187.0  160.0  149.0  120.0       0            194   \n",
       "2016-01-01 01:30:00   194.0  187.0  160.0  149.0       0            180   \n",
       "2016-01-01 01:45:00   180.0  194.0  187.0  160.0       0            197   \n",
       "2016-01-01 02:00:00   197.0  180.0  194.0  187.0       0            185   \n",
       "...                     ...    ...    ...    ...     ...            ...   \n",
       "2016-02-29 22:45:00    15.0    9.0   11.0   11.0      29             12   \n",
       "2016-02-29 23:00:00    12.0   15.0    9.0   11.0      29             17   \n",
       "2016-02-29 23:15:00    17.0   12.0   15.0    9.0      29             15   \n",
       "2016-02-29 23:30:00    15.0   17.0   12.0   15.0      29             15   \n",
       "2016-02-29 23:45:00    15.0   15.0   17.0   12.0      29             12   \n",
       "\n",
       "                      avg_pickups  day_of_week  \n",
       "tpep_pickup_datetime                            \n",
       "2016-01-01 01:00:00         161.0            4  \n",
       "2016-01-01 01:15:00         175.0            4  \n",
       "2016-01-01 01:30:00         177.0            4  \n",
       "2016-01-01 01:45:00         185.0            4  \n",
       "2016-01-01 02:00:00         185.0            4  \n",
       "...                           ...          ...  \n",
       "2016-02-29 22:45:00          12.0            0  \n",
       "2016-02-29 23:00:00          14.0            0  \n",
       "2016-02-29 23:15:00          14.0            0  \n",
       "2016-02-29 23:30:00          15.0            0  \n",
       "2016-02-29 23:45:00          14.0            0  \n",
       "\n",
       "[172680 rows x 8 columns]"
      ]
     },
     "execution_count": 5,
     "metadata": {},
     "output_type": "execute_result"
    }
   ],
   "source": [
    "train_df"
   ]
  },
  {
   "cell_type": "code",
   "execution_count": 6,
   "id": "834bc309",
   "metadata": {},
   "outputs": [
    {
     "data": {
      "text/plain": [
       "lag_1            0\n",
       "lag_2            0\n",
       "lag_3            0\n",
       "lag_4            0\n",
       "region           0\n",
       "total_pickups    0\n",
       "avg_pickups      0\n",
       "day_of_week      0\n",
       "dtype: int64"
      ]
     },
     "execution_count": 6,
     "metadata": {},
     "output_type": "execute_result"
    }
   ],
   "source": [
    "train_df.isna().sum()"
   ]
  },
  {
   "cell_type": "code",
   "execution_count": 7,
   "id": "3e43a4c5",
   "metadata": {},
   "outputs": [
    {
     "data": {
      "text/plain": [
       "lag_1            0\n",
       "lag_2            0\n",
       "lag_3            0\n",
       "lag_4            0\n",
       "region           0\n",
       "total_pickups    0\n",
       "avg_pickups      0\n",
       "day_of_week      0\n",
       "dtype: int64"
      ]
     },
     "execution_count": 7,
     "metadata": {},
     "output_type": "execute_result"
    }
   ],
   "source": [
    "test_df.isna().sum()"
   ]
  },
  {
   "cell_type": "code",
   "execution_count": 8,
   "id": "63b64307",
   "metadata": {},
   "outputs": [],
   "source": [
    "X_train = train_df.drop(columns=[\"total_pickups\"])\n",
    "\n",
    "y_train = train_df[\"total_pickups\"]\n"
   ]
  },
  {
   "cell_type": "code",
   "execution_count": 9,
   "id": "33d85216",
   "metadata": {},
   "outputs": [
    {
     "data": {
      "text/html": [
       "<div>\n",
       "<style scoped>\n",
       "    .dataframe tbody tr th:only-of-type {\n",
       "        vertical-align: middle;\n",
       "    }\n",
       "\n",
       "    .dataframe tbody tr th {\n",
       "        vertical-align: top;\n",
       "    }\n",
       "\n",
       "    .dataframe thead th {\n",
       "        text-align: right;\n",
       "    }\n",
       "</style>\n",
       "<table border=\"1\" class=\"dataframe\">\n",
       "  <thead>\n",
       "    <tr style=\"text-align: right;\">\n",
       "      <th></th>\n",
       "      <th>lag_1</th>\n",
       "      <th>lag_2</th>\n",
       "      <th>lag_3</th>\n",
       "      <th>lag_4</th>\n",
       "      <th>region</th>\n",
       "      <th>avg_pickups</th>\n",
       "      <th>day_of_week</th>\n",
       "    </tr>\n",
       "    <tr>\n",
       "      <th>tpep_pickup_datetime</th>\n",
       "      <th></th>\n",
       "      <th></th>\n",
       "      <th></th>\n",
       "      <th></th>\n",
       "      <th></th>\n",
       "      <th></th>\n",
       "      <th></th>\n",
       "    </tr>\n",
       "  </thead>\n",
       "  <tbody>\n",
       "    <tr>\n",
       "      <th>2016-01-01 01:00:00</th>\n",
       "      <td>160.0</td>\n",
       "      <td>149.0</td>\n",
       "      <td>120.0</td>\n",
       "      <td>58.0</td>\n",
       "      <td>0</td>\n",
       "      <td>161.0</td>\n",
       "      <td>4</td>\n",
       "    </tr>\n",
       "    <tr>\n",
       "      <th>2016-01-01 01:15:00</th>\n",
       "      <td>187.0</td>\n",
       "      <td>160.0</td>\n",
       "      <td>149.0</td>\n",
       "      <td>120.0</td>\n",
       "      <td>0</td>\n",
       "      <td>175.0</td>\n",
       "      <td>4</td>\n",
       "    </tr>\n",
       "    <tr>\n",
       "      <th>2016-01-01 01:30:00</th>\n",
       "      <td>194.0</td>\n",
       "      <td>187.0</td>\n",
       "      <td>160.0</td>\n",
       "      <td>149.0</td>\n",
       "      <td>0</td>\n",
       "      <td>177.0</td>\n",
       "      <td>4</td>\n",
       "    </tr>\n",
       "    <tr>\n",
       "      <th>2016-01-01 01:45:00</th>\n",
       "      <td>180.0</td>\n",
       "      <td>194.0</td>\n",
       "      <td>187.0</td>\n",
       "      <td>160.0</td>\n",
       "      <td>0</td>\n",
       "      <td>185.0</td>\n",
       "      <td>4</td>\n",
       "    </tr>\n",
       "    <tr>\n",
       "      <th>2016-01-01 02:00:00</th>\n",
       "      <td>197.0</td>\n",
       "      <td>180.0</td>\n",
       "      <td>194.0</td>\n",
       "      <td>187.0</td>\n",
       "      <td>0</td>\n",
       "      <td>185.0</td>\n",
       "      <td>4</td>\n",
       "    </tr>\n",
       "  </tbody>\n",
       "</table>\n",
       "</div>"
      ],
      "text/plain": [
       "                      lag_1  lag_2  lag_3  lag_4  region  avg_pickups  \\\n",
       "tpep_pickup_datetime                                                    \n",
       "2016-01-01 01:00:00   160.0  149.0  120.0   58.0       0        161.0   \n",
       "2016-01-01 01:15:00   187.0  160.0  149.0  120.0       0        175.0   \n",
       "2016-01-01 01:30:00   194.0  187.0  160.0  149.0       0        177.0   \n",
       "2016-01-01 01:45:00   180.0  194.0  187.0  160.0       0        185.0   \n",
       "2016-01-01 02:00:00   197.0  180.0  194.0  187.0       0        185.0   \n",
       "\n",
       "                      day_of_week  \n",
       "tpep_pickup_datetime               \n",
       "2016-01-01 01:00:00             4  \n",
       "2016-01-01 01:15:00             4  \n",
       "2016-01-01 01:30:00             4  \n",
       "2016-01-01 01:45:00             4  \n",
       "2016-01-01 02:00:00             4  "
      ]
     },
     "execution_count": 9,
     "metadata": {},
     "output_type": "execute_result"
    }
   ],
   "source": [
    "X_train.head()"
   ]
  },
  {
   "cell_type": "code",
   "execution_count": 10,
   "id": "2a9eb14c",
   "metadata": {},
   "outputs": [],
   "source": [
    "#  make X_test and y_test\n",
    "\n",
    "X_test = test_df.drop(columns=[\"total_pickups\"])\n",
    "\n",
    "y_test = test_df[\"total_pickups\"]"
   ]
  },
  {
   "cell_type": "code",
   "execution_count": 11,
   "id": "b89e35ea",
   "metadata": {},
   "outputs": [
    {
     "data": {
      "text/html": [
       "<div>\n",
       "<style scoped>\n",
       "    .dataframe tbody tr th:only-of-type {\n",
       "        vertical-align: middle;\n",
       "    }\n",
       "\n",
       "    .dataframe tbody tr th {\n",
       "        vertical-align: top;\n",
       "    }\n",
       "\n",
       "    .dataframe thead th {\n",
       "        text-align: right;\n",
       "    }\n",
       "</style>\n",
       "<table border=\"1\" class=\"dataframe\">\n",
       "  <thead>\n",
       "    <tr style=\"text-align: right;\">\n",
       "      <th></th>\n",
       "      <th>lag_1</th>\n",
       "      <th>lag_2</th>\n",
       "      <th>lag_3</th>\n",
       "      <th>lag_4</th>\n",
       "      <th>region</th>\n",
       "      <th>avg_pickups</th>\n",
       "      <th>day_of_week</th>\n",
       "    </tr>\n",
       "    <tr>\n",
       "      <th>tpep_pickup_datetime</th>\n",
       "      <th></th>\n",
       "      <th></th>\n",
       "      <th></th>\n",
       "      <th></th>\n",
       "      <th></th>\n",
       "      <th></th>\n",
       "      <th></th>\n",
       "    </tr>\n",
       "  </thead>\n",
       "  <tbody>\n",
       "    <tr>\n",
       "      <th>2016-03-01 00:00:00</th>\n",
       "      <td>36.0</td>\n",
       "      <td>44.0</td>\n",
       "      <td>31.0</td>\n",
       "      <td>29.0</td>\n",
       "      <td>0</td>\n",
       "      <td>39.0</td>\n",
       "      <td>1</td>\n",
       "    </tr>\n",
       "    <tr>\n",
       "      <th>2016-03-01 00:15:00</th>\n",
       "      <td>41.0</td>\n",
       "      <td>36.0</td>\n",
       "      <td>44.0</td>\n",
       "      <td>31.0</td>\n",
       "      <td>0</td>\n",
       "      <td>37.0</td>\n",
       "      <td>1</td>\n",
       "    </tr>\n",
       "    <tr>\n",
       "      <th>2016-03-01 00:30:00</th>\n",
       "      <td>35.0</td>\n",
       "      <td>41.0</td>\n",
       "      <td>36.0</td>\n",
       "      <td>44.0</td>\n",
       "      <td>0</td>\n",
       "      <td>41.0</td>\n",
       "      <td>1</td>\n",
       "    </tr>\n",
       "    <tr>\n",
       "      <th>2016-03-01 00:45:00</th>\n",
       "      <td>47.0</td>\n",
       "      <td>35.0</td>\n",
       "      <td>41.0</td>\n",
       "      <td>36.0</td>\n",
       "      <td>0</td>\n",
       "      <td>38.0</td>\n",
       "      <td>1</td>\n",
       "    </tr>\n",
       "    <tr>\n",
       "      <th>2016-03-01 01:00:00</th>\n",
       "      <td>34.0</td>\n",
       "      <td>47.0</td>\n",
       "      <td>35.0</td>\n",
       "      <td>41.0</td>\n",
       "      <td>0</td>\n",
       "      <td>35.0</td>\n",
       "      <td>1</td>\n",
       "    </tr>\n",
       "  </tbody>\n",
       "</table>\n",
       "</div>"
      ],
      "text/plain": [
       "                      lag_1  lag_2  lag_3  lag_4  region  avg_pickups  \\\n",
       "tpep_pickup_datetime                                                    \n",
       "2016-03-01 00:00:00    36.0   44.0   31.0   29.0       0         39.0   \n",
       "2016-03-01 00:15:00    41.0   36.0   44.0   31.0       0         37.0   \n",
       "2016-03-01 00:30:00    35.0   41.0   36.0   44.0       0         41.0   \n",
       "2016-03-01 00:45:00    47.0   35.0   41.0   36.0       0         38.0   \n",
       "2016-03-01 01:00:00    34.0   47.0   35.0   41.0       0         35.0   \n",
       "\n",
       "                      day_of_week  \n",
       "tpep_pickup_datetime               \n",
       "2016-03-01 00:00:00             1  \n",
       "2016-03-01 00:15:00             1  \n",
       "2016-03-01 00:30:00             1  \n",
       "2016-03-01 00:45:00             1  \n",
       "2016-03-01 01:00:00             1  "
      ]
     },
     "execution_count": 11,
     "metadata": {},
     "output_type": "execute_result"
    }
   ],
   "source": [
    "X_test.head()"
   ]
  },
  {
   "cell_type": "code",
   "execution_count": 12,
   "id": "a47387bc",
   "metadata": {},
   "outputs": [],
   "source": [
    "\n",
    "from sklearn import set_config\n",
    "\n",
    "set_config(transform_output=\"pandas\")"
   ]
  },
  {
   "cell_type": "code",
   "execution_count": 13,
   "id": "39cd98b4",
   "metadata": {},
   "outputs": [],
   "source": [
    "\n",
    "# encode the data\n",
    "\n",
    "encoder = ColumnTransformer([\n",
    "    (\"ohe\", OneHotEncoder(drop=\"first\",sparse_output=False), [\"region\",\"day_of_week\"])\n",
    "], remainder=\"passthrough\", n_jobs=-1,force_int_remainder_cols=False)"
   ]
  },
  {
   "cell_type": "code",
   "execution_count": 14,
   "id": "6e020502",
   "metadata": {},
   "outputs": [
    {
     "data": {
      "text/html": [
       "<style>#sk-container-id-1 {\n",
       "  /* Definition of color scheme common for light and dark mode */\n",
       "  --sklearn-color-text: #000;\n",
       "  --sklearn-color-text-muted: #666;\n",
       "  --sklearn-color-line: gray;\n",
       "  /* Definition of color scheme for unfitted estimators */\n",
       "  --sklearn-color-unfitted-level-0: #fff5e6;\n",
       "  --sklearn-color-unfitted-level-1: #f6e4d2;\n",
       "  --sklearn-color-unfitted-level-2: #ffe0b3;\n",
       "  --sklearn-color-unfitted-level-3: chocolate;\n",
       "  /* Definition of color scheme for fitted estimators */\n",
       "  --sklearn-color-fitted-level-0: #f0f8ff;\n",
       "  --sklearn-color-fitted-level-1: #d4ebff;\n",
       "  --sklearn-color-fitted-level-2: #b3dbfd;\n",
       "  --sklearn-color-fitted-level-3: cornflowerblue;\n",
       "\n",
       "  /* Specific color for light theme */\n",
       "  --sklearn-color-text-on-default-background: var(--sg-text-color, var(--theme-code-foreground, var(--jp-content-font-color1, black)));\n",
       "  --sklearn-color-background: var(--sg-background-color, var(--theme-background, var(--jp-layout-color0, white)));\n",
       "  --sklearn-color-border-box: var(--sg-text-color, var(--theme-code-foreground, var(--jp-content-font-color1, black)));\n",
       "  --sklearn-color-icon: #696969;\n",
       "\n",
       "  @media (prefers-color-scheme: dark) {\n",
       "    /* Redefinition of color scheme for dark theme */\n",
       "    --sklearn-color-text-on-default-background: var(--sg-text-color, var(--theme-code-foreground, var(--jp-content-font-color1, white)));\n",
       "    --sklearn-color-background: var(--sg-background-color, var(--theme-background, var(--jp-layout-color0, #111)));\n",
       "    --sklearn-color-border-box: var(--sg-text-color, var(--theme-code-foreground, var(--jp-content-font-color1, white)));\n",
       "    --sklearn-color-icon: #878787;\n",
       "  }\n",
       "}\n",
       "\n",
       "#sk-container-id-1 {\n",
       "  color: var(--sklearn-color-text);\n",
       "}\n",
       "\n",
       "#sk-container-id-1 pre {\n",
       "  padding: 0;\n",
       "}\n",
       "\n",
       "#sk-container-id-1 input.sk-hidden--visually {\n",
       "  border: 0;\n",
       "  clip: rect(1px 1px 1px 1px);\n",
       "  clip: rect(1px, 1px, 1px, 1px);\n",
       "  height: 1px;\n",
       "  margin: -1px;\n",
       "  overflow: hidden;\n",
       "  padding: 0;\n",
       "  position: absolute;\n",
       "  width: 1px;\n",
       "}\n",
       "\n",
       "#sk-container-id-1 div.sk-dashed-wrapped {\n",
       "  border: 1px dashed var(--sklearn-color-line);\n",
       "  margin: 0 0.4em 0.5em 0.4em;\n",
       "  box-sizing: border-box;\n",
       "  padding-bottom: 0.4em;\n",
       "  background-color: var(--sklearn-color-background);\n",
       "}\n",
       "\n",
       "#sk-container-id-1 div.sk-container {\n",
       "  /* jupyter's `normalize.less` sets `[hidden] { display: none; }`\n",
       "     but bootstrap.min.css set `[hidden] { display: none !important; }`\n",
       "     so we also need the `!important` here to be able to override the\n",
       "     default hidden behavior on the sphinx rendered scikit-learn.org.\n",
       "     See: https://github.com/scikit-learn/scikit-learn/issues/21755 */\n",
       "  display: inline-block !important;\n",
       "  position: relative;\n",
       "}\n",
       "\n",
       "#sk-container-id-1 div.sk-text-repr-fallback {\n",
       "  display: none;\n",
       "}\n",
       "\n",
       "div.sk-parallel-item,\n",
       "div.sk-serial,\n",
       "div.sk-item {\n",
       "  /* draw centered vertical line to link estimators */\n",
       "  background-image: linear-gradient(var(--sklearn-color-text-on-default-background), var(--sklearn-color-text-on-default-background));\n",
       "  background-size: 2px 100%;\n",
       "  background-repeat: no-repeat;\n",
       "  background-position: center center;\n",
       "}\n",
       "\n",
       "/* Parallel-specific style estimator block */\n",
       "\n",
       "#sk-container-id-1 div.sk-parallel-item::after {\n",
       "  content: \"\";\n",
       "  width: 100%;\n",
       "  border-bottom: 2px solid var(--sklearn-color-text-on-default-background);\n",
       "  flex-grow: 1;\n",
       "}\n",
       "\n",
       "#sk-container-id-1 div.sk-parallel {\n",
       "  display: flex;\n",
       "  align-items: stretch;\n",
       "  justify-content: center;\n",
       "  background-color: var(--sklearn-color-background);\n",
       "  position: relative;\n",
       "}\n",
       "\n",
       "#sk-container-id-1 div.sk-parallel-item {\n",
       "  display: flex;\n",
       "  flex-direction: column;\n",
       "}\n",
       "\n",
       "#sk-container-id-1 div.sk-parallel-item:first-child::after {\n",
       "  align-self: flex-end;\n",
       "  width: 50%;\n",
       "}\n",
       "\n",
       "#sk-container-id-1 div.sk-parallel-item:last-child::after {\n",
       "  align-self: flex-start;\n",
       "  width: 50%;\n",
       "}\n",
       "\n",
       "#sk-container-id-1 div.sk-parallel-item:only-child::after {\n",
       "  width: 0;\n",
       "}\n",
       "\n",
       "/* Serial-specific style estimator block */\n",
       "\n",
       "#sk-container-id-1 div.sk-serial {\n",
       "  display: flex;\n",
       "  flex-direction: column;\n",
       "  align-items: center;\n",
       "  background-color: var(--sklearn-color-background);\n",
       "  padding-right: 1em;\n",
       "  padding-left: 1em;\n",
       "}\n",
       "\n",
       "\n",
       "/* Toggleable style: style used for estimator/Pipeline/ColumnTransformer box that is\n",
       "clickable and can be expanded/collapsed.\n",
       "- Pipeline and ColumnTransformer use this feature and define the default style\n",
       "- Estimators will overwrite some part of the style using the `sk-estimator` class\n",
       "*/\n",
       "\n",
       "/* Pipeline and ColumnTransformer style (default) */\n",
       "\n",
       "#sk-container-id-1 div.sk-toggleable {\n",
       "  /* Default theme specific background. It is overwritten whether we have a\n",
       "  specific estimator or a Pipeline/ColumnTransformer */\n",
       "  background-color: var(--sklearn-color-background);\n",
       "}\n",
       "\n",
       "/* Toggleable label */\n",
       "#sk-container-id-1 label.sk-toggleable__label {\n",
       "  cursor: pointer;\n",
       "  display: flex;\n",
       "  width: 100%;\n",
       "  margin-bottom: 0;\n",
       "  padding: 0.5em;\n",
       "  box-sizing: border-box;\n",
       "  text-align: center;\n",
       "  align-items: start;\n",
       "  justify-content: space-between;\n",
       "  gap: 0.5em;\n",
       "}\n",
       "\n",
       "#sk-container-id-1 label.sk-toggleable__label .caption {\n",
       "  font-size: 0.6rem;\n",
       "  font-weight: lighter;\n",
       "  color: var(--sklearn-color-text-muted);\n",
       "}\n",
       "\n",
       "#sk-container-id-1 label.sk-toggleable__label-arrow:before {\n",
       "  /* Arrow on the left of the label */\n",
       "  content: \"▸\";\n",
       "  float: left;\n",
       "  margin-right: 0.25em;\n",
       "  color: var(--sklearn-color-icon);\n",
       "}\n",
       "\n",
       "#sk-container-id-1 label.sk-toggleable__label-arrow:hover:before {\n",
       "  color: var(--sklearn-color-text);\n",
       "}\n",
       "\n",
       "/* Toggleable content - dropdown */\n",
       "\n",
       "#sk-container-id-1 div.sk-toggleable__content {\n",
       "  max-height: 0;\n",
       "  max-width: 0;\n",
       "  overflow: hidden;\n",
       "  text-align: left;\n",
       "  /* unfitted */\n",
       "  background-color: var(--sklearn-color-unfitted-level-0);\n",
       "}\n",
       "\n",
       "#sk-container-id-1 div.sk-toggleable__content.fitted {\n",
       "  /* fitted */\n",
       "  background-color: var(--sklearn-color-fitted-level-0);\n",
       "}\n",
       "\n",
       "#sk-container-id-1 div.sk-toggleable__content pre {\n",
       "  margin: 0.2em;\n",
       "  border-radius: 0.25em;\n",
       "  color: var(--sklearn-color-text);\n",
       "  /* unfitted */\n",
       "  background-color: var(--sklearn-color-unfitted-level-0);\n",
       "}\n",
       "\n",
       "#sk-container-id-1 div.sk-toggleable__content.fitted pre {\n",
       "  /* unfitted */\n",
       "  background-color: var(--sklearn-color-fitted-level-0);\n",
       "}\n",
       "\n",
       "#sk-container-id-1 input.sk-toggleable__control:checked~div.sk-toggleable__content {\n",
       "  /* Expand drop-down */\n",
       "  max-height: 200px;\n",
       "  max-width: 100%;\n",
       "  overflow: auto;\n",
       "}\n",
       "\n",
       "#sk-container-id-1 input.sk-toggleable__control:checked~label.sk-toggleable__label-arrow:before {\n",
       "  content: \"▾\";\n",
       "}\n",
       "\n",
       "/* Pipeline/ColumnTransformer-specific style */\n",
       "\n",
       "#sk-container-id-1 div.sk-label input.sk-toggleable__control:checked~label.sk-toggleable__label {\n",
       "  color: var(--sklearn-color-text);\n",
       "  background-color: var(--sklearn-color-unfitted-level-2);\n",
       "}\n",
       "\n",
       "#sk-container-id-1 div.sk-label.fitted input.sk-toggleable__control:checked~label.sk-toggleable__label {\n",
       "  background-color: var(--sklearn-color-fitted-level-2);\n",
       "}\n",
       "\n",
       "/* Estimator-specific style */\n",
       "\n",
       "/* Colorize estimator box */\n",
       "#sk-container-id-1 div.sk-estimator input.sk-toggleable__control:checked~label.sk-toggleable__label {\n",
       "  /* unfitted */\n",
       "  background-color: var(--sklearn-color-unfitted-level-2);\n",
       "}\n",
       "\n",
       "#sk-container-id-1 div.sk-estimator.fitted input.sk-toggleable__control:checked~label.sk-toggleable__label {\n",
       "  /* fitted */\n",
       "  background-color: var(--sklearn-color-fitted-level-2);\n",
       "}\n",
       "\n",
       "#sk-container-id-1 div.sk-label label.sk-toggleable__label,\n",
       "#sk-container-id-1 div.sk-label label {\n",
       "  /* The background is the default theme color */\n",
       "  color: var(--sklearn-color-text-on-default-background);\n",
       "}\n",
       "\n",
       "/* On hover, darken the color of the background */\n",
       "#sk-container-id-1 div.sk-label:hover label.sk-toggleable__label {\n",
       "  color: var(--sklearn-color-text);\n",
       "  background-color: var(--sklearn-color-unfitted-level-2);\n",
       "}\n",
       "\n",
       "/* Label box, darken color on hover, fitted */\n",
       "#sk-container-id-1 div.sk-label.fitted:hover label.sk-toggleable__label.fitted {\n",
       "  color: var(--sklearn-color-text);\n",
       "  background-color: var(--sklearn-color-fitted-level-2);\n",
       "}\n",
       "\n",
       "/* Estimator label */\n",
       "\n",
       "#sk-container-id-1 div.sk-label label {\n",
       "  font-family: monospace;\n",
       "  font-weight: bold;\n",
       "  display: inline-block;\n",
       "  line-height: 1.2em;\n",
       "}\n",
       "\n",
       "#sk-container-id-1 div.sk-label-container {\n",
       "  text-align: center;\n",
       "}\n",
       "\n",
       "/* Estimator-specific */\n",
       "#sk-container-id-1 div.sk-estimator {\n",
       "  font-family: monospace;\n",
       "  border: 1px dotted var(--sklearn-color-border-box);\n",
       "  border-radius: 0.25em;\n",
       "  box-sizing: border-box;\n",
       "  margin-bottom: 0.5em;\n",
       "  /* unfitted */\n",
       "  background-color: var(--sklearn-color-unfitted-level-0);\n",
       "}\n",
       "\n",
       "#sk-container-id-1 div.sk-estimator.fitted {\n",
       "  /* fitted */\n",
       "  background-color: var(--sklearn-color-fitted-level-0);\n",
       "}\n",
       "\n",
       "/* on hover */\n",
       "#sk-container-id-1 div.sk-estimator:hover {\n",
       "  /* unfitted */\n",
       "  background-color: var(--sklearn-color-unfitted-level-2);\n",
       "}\n",
       "\n",
       "#sk-container-id-1 div.sk-estimator.fitted:hover {\n",
       "  /* fitted */\n",
       "  background-color: var(--sklearn-color-fitted-level-2);\n",
       "}\n",
       "\n",
       "/* Specification for estimator info (e.g. \"i\" and \"?\") */\n",
       "\n",
       "/* Common style for \"i\" and \"?\" */\n",
       "\n",
       ".sk-estimator-doc-link,\n",
       "a:link.sk-estimator-doc-link,\n",
       "a:visited.sk-estimator-doc-link {\n",
       "  float: right;\n",
       "  font-size: smaller;\n",
       "  line-height: 1em;\n",
       "  font-family: monospace;\n",
       "  background-color: var(--sklearn-color-background);\n",
       "  border-radius: 1em;\n",
       "  height: 1em;\n",
       "  width: 1em;\n",
       "  text-decoration: none !important;\n",
       "  margin-left: 0.5em;\n",
       "  text-align: center;\n",
       "  /* unfitted */\n",
       "  border: var(--sklearn-color-unfitted-level-1) 1pt solid;\n",
       "  color: var(--sklearn-color-unfitted-level-1);\n",
       "}\n",
       "\n",
       ".sk-estimator-doc-link.fitted,\n",
       "a:link.sk-estimator-doc-link.fitted,\n",
       "a:visited.sk-estimator-doc-link.fitted {\n",
       "  /* fitted */\n",
       "  border: var(--sklearn-color-fitted-level-1) 1pt solid;\n",
       "  color: var(--sklearn-color-fitted-level-1);\n",
       "}\n",
       "\n",
       "/* On hover */\n",
       "div.sk-estimator:hover .sk-estimator-doc-link:hover,\n",
       ".sk-estimator-doc-link:hover,\n",
       "div.sk-label-container:hover .sk-estimator-doc-link:hover,\n",
       ".sk-estimator-doc-link:hover {\n",
       "  /* unfitted */\n",
       "  background-color: var(--sklearn-color-unfitted-level-3);\n",
       "  color: var(--sklearn-color-background);\n",
       "  text-decoration: none;\n",
       "}\n",
       "\n",
       "div.sk-estimator.fitted:hover .sk-estimator-doc-link.fitted:hover,\n",
       ".sk-estimator-doc-link.fitted:hover,\n",
       "div.sk-label-container:hover .sk-estimator-doc-link.fitted:hover,\n",
       ".sk-estimator-doc-link.fitted:hover {\n",
       "  /* fitted */\n",
       "  background-color: var(--sklearn-color-fitted-level-3);\n",
       "  color: var(--sklearn-color-background);\n",
       "  text-decoration: none;\n",
       "}\n",
       "\n",
       "/* Span, style for the box shown on hovering the info icon */\n",
       ".sk-estimator-doc-link span {\n",
       "  display: none;\n",
       "  z-index: 9999;\n",
       "  position: relative;\n",
       "  font-weight: normal;\n",
       "  right: .2ex;\n",
       "  padding: .5ex;\n",
       "  margin: .5ex;\n",
       "  width: min-content;\n",
       "  min-width: 20ex;\n",
       "  max-width: 50ex;\n",
       "  color: var(--sklearn-color-text);\n",
       "  box-shadow: 2pt 2pt 4pt #999;\n",
       "  /* unfitted */\n",
       "  background: var(--sklearn-color-unfitted-level-0);\n",
       "  border: .5pt solid var(--sklearn-color-unfitted-level-3);\n",
       "}\n",
       "\n",
       ".sk-estimator-doc-link.fitted span {\n",
       "  /* fitted */\n",
       "  background: var(--sklearn-color-fitted-level-0);\n",
       "  border: var(--sklearn-color-fitted-level-3);\n",
       "}\n",
       "\n",
       ".sk-estimator-doc-link:hover span {\n",
       "  display: block;\n",
       "}\n",
       "\n",
       "/* \"?\"-specific style due to the `<a>` HTML tag */\n",
       "\n",
       "#sk-container-id-1 a.estimator_doc_link {\n",
       "  float: right;\n",
       "  font-size: 1rem;\n",
       "  line-height: 1em;\n",
       "  font-family: monospace;\n",
       "  background-color: var(--sklearn-color-background);\n",
       "  border-radius: 1rem;\n",
       "  height: 1rem;\n",
       "  width: 1rem;\n",
       "  text-decoration: none;\n",
       "  /* unfitted */\n",
       "  color: var(--sklearn-color-unfitted-level-1);\n",
       "  border: var(--sklearn-color-unfitted-level-1) 1pt solid;\n",
       "}\n",
       "\n",
       "#sk-container-id-1 a.estimator_doc_link.fitted {\n",
       "  /* fitted */\n",
       "  border: var(--sklearn-color-fitted-level-1) 1pt solid;\n",
       "  color: var(--sklearn-color-fitted-level-1);\n",
       "}\n",
       "\n",
       "/* On hover */\n",
       "#sk-container-id-1 a.estimator_doc_link:hover {\n",
       "  /* unfitted */\n",
       "  background-color: var(--sklearn-color-unfitted-level-3);\n",
       "  color: var(--sklearn-color-background);\n",
       "  text-decoration: none;\n",
       "}\n",
       "\n",
       "#sk-container-id-1 a.estimator_doc_link.fitted:hover {\n",
       "  /* fitted */\n",
       "  background-color: var(--sklearn-color-fitted-level-3);\n",
       "}\n",
       "</style><div id=\"sk-container-id-1\" class=\"sk-top-container\"><div class=\"sk-text-repr-fallback\"><pre>ColumnTransformer(force_int_remainder_cols=False, n_jobs=-1,\n",
       "                  remainder=&#x27;passthrough&#x27;,\n",
       "                  transformers=[(&#x27;ohe&#x27;,\n",
       "                                 OneHotEncoder(drop=&#x27;first&#x27;,\n",
       "                                               sparse_output=False),\n",
       "                                 [&#x27;region&#x27;, &#x27;day_of_week&#x27;])])</pre><b>In a Jupyter environment, please rerun this cell to show the HTML representation or trust the notebook. <br />On GitHub, the HTML representation is unable to render, please try loading this page with nbviewer.org.</b></div><div class=\"sk-container\" hidden><div class=\"sk-item sk-dashed-wrapped\"><div class=\"sk-label-container\"><div class=\"sk-label  sk-toggleable\"><input class=\"sk-toggleable__control sk-hidden--visually\" id=\"sk-estimator-id-1\" type=\"checkbox\" ><label for=\"sk-estimator-id-1\" class=\"sk-toggleable__label  sk-toggleable__label-arrow\"><div><div>ColumnTransformer</div></div><div><a class=\"sk-estimator-doc-link \" rel=\"noreferrer\" target=\"_blank\" href=\"https://scikit-learn.org/1.6/modules/generated/sklearn.compose.ColumnTransformer.html\">?<span>Documentation for ColumnTransformer</span></a><span class=\"sk-estimator-doc-link \">i<span>Not fitted</span></span></div></label><div class=\"sk-toggleable__content \"><pre>ColumnTransformer(force_int_remainder_cols=False, n_jobs=-1,\n",
       "                  remainder=&#x27;passthrough&#x27;,\n",
       "                  transformers=[(&#x27;ohe&#x27;,\n",
       "                                 OneHotEncoder(drop=&#x27;first&#x27;,\n",
       "                                               sparse_output=False),\n",
       "                                 [&#x27;region&#x27;, &#x27;day_of_week&#x27;])])</pre></div> </div></div><div class=\"sk-parallel\"><div class=\"sk-parallel-item\"><div class=\"sk-item\"><div class=\"sk-label-container\"><div class=\"sk-label  sk-toggleable\"><input class=\"sk-toggleable__control sk-hidden--visually\" id=\"sk-estimator-id-2\" type=\"checkbox\" ><label for=\"sk-estimator-id-2\" class=\"sk-toggleable__label  sk-toggleable__label-arrow\"><div><div>ohe</div></div></label><div class=\"sk-toggleable__content \"><pre>[&#x27;region&#x27;, &#x27;day_of_week&#x27;]</pre></div> </div></div><div class=\"sk-serial\"><div class=\"sk-item\"><div class=\"sk-estimator  sk-toggleable\"><input class=\"sk-toggleable__control sk-hidden--visually\" id=\"sk-estimator-id-3\" type=\"checkbox\" ><label for=\"sk-estimator-id-3\" class=\"sk-toggleable__label  sk-toggleable__label-arrow\"><div><div>OneHotEncoder</div></div><div><a class=\"sk-estimator-doc-link \" rel=\"noreferrer\" target=\"_blank\" href=\"https://scikit-learn.org/1.6/modules/generated/sklearn.preprocessing.OneHotEncoder.html\">?<span>Documentation for OneHotEncoder</span></a></div></label><div class=\"sk-toggleable__content \"><pre>OneHotEncoder(drop=&#x27;first&#x27;, sparse_output=False)</pre></div> </div></div></div></div></div><div class=\"sk-parallel-item\"><div class=\"sk-item\"><div class=\"sk-label-container\"><div class=\"sk-label  sk-toggleable\"><input class=\"sk-toggleable__control sk-hidden--visually\" id=\"sk-estimator-id-4\" type=\"checkbox\" ><label for=\"sk-estimator-id-4\" class=\"sk-toggleable__label  sk-toggleable__label-arrow\"><div><div>remainder</div></div></label><div class=\"sk-toggleable__content \"><pre></pre></div> </div></div><div class=\"sk-serial\"><div class=\"sk-item\"><div class=\"sk-estimator  sk-toggleable\"><input class=\"sk-toggleable__control sk-hidden--visually\" id=\"sk-estimator-id-5\" type=\"checkbox\" ><label for=\"sk-estimator-id-5\" class=\"sk-toggleable__label  sk-toggleable__label-arrow\"><div><div>passthrough</div></div></label><div class=\"sk-toggleable__content \"><pre>passthrough</pre></div> </div></div></div></div></div></div></div></div></div>"
      ],
      "text/plain": [
       "ColumnTransformer(force_int_remainder_cols=False, n_jobs=-1,\n",
       "                  remainder='passthrough',\n",
       "                  transformers=[('ohe',\n",
       "                                 OneHotEncoder(drop='first',\n",
       "                                               sparse_output=False),\n",
       "                                 ['region', 'day_of_week'])])"
      ]
     },
     "execution_count": 14,
     "metadata": {},
     "output_type": "execute_result"
    }
   ],
   "source": [
    "encoder"
   ]
  },
  {
   "cell_type": "code",
   "execution_count": 15,
   "id": "535545f9",
   "metadata": {},
   "outputs": [],
   "source": [
    "# encode the train and test data\n",
    "\n",
    "X_train_encoded = encoder.fit_transform(X_train)\n",
    "X_test_encoded = encoder.transform(X_test)"
   ]
  },
  {
   "cell_type": "code",
   "execution_count": 16,
   "id": "8721da1c",
   "metadata": {},
   "outputs": [
    {
     "name": "stderr",
     "output_type": "stream",
     "text": [
      "c:\\Users\\hi\\AppData\\Local\\Programs\\Python\\Python313\\Lib\\site-packages\\tqdm\\auto.py:21: TqdmWarning: IProgress not found. Please update jupyter and ipywidgets. See https://ipywidgets.readthedocs.io/en/stable/user_install.html\n",
      "  from .autonotebook import tqdm as notebook_tqdm\n"
     ]
    }
   ],
   "source": [
    "import optuna\n",
    "import tqdm"
   ]
  },
  {
   "cell_type": "code",
   "execution_count": 17,
   "id": "61c4e753",
   "metadata": {},
   "outputs": [
    {
     "name": "stderr",
     "output_type": "stream",
     "text": [
      "2025/06/10 17:22:11 INFO mlflow.tracking.fluent: Experiment with name 'Model Selection' does not exist. Creating a new experiment.\n"
     ]
    },
    {
     "data": {
      "text/plain": [
       "<Experiment: artifact_location='mlflow-artifacts:/e1eee2f2bbb44cca9551bace09137416', creation_time=1749556332676, experiment_id='0', last_update_time=1749556332676, lifecycle_stage='active', name='Model Selection', tags={}>"
      ]
     },
     "execution_count": 17,
     "metadata": {},
     "output_type": "execute_result"
    }
   ],
   "source": [
    "mlflow.set_experiment(\"Model Selection\")"
   ]
  },
  {
   "cell_type": "code",
   "execution_count": 21,
   "id": "fa1dc4e8",
   "metadata": {},
   "outputs": [],
   "source": [
    "def objective(trial):\n",
    "    # start the child run\n",
    "    with mlflow.start_run(nested=True) as child:\n",
    "        \n",
    "        # model name search space\n",
    "        list_of_models = [\"LR\", \"RF\", \"GBR\", \"XGBR\"]\n",
    "        model_name = trial.suggest_categorical(\"model_name\", list_of_models)\n",
    "    \n",
    "        if model_name == \"LR\":\n",
    "            model = LinearRegression()\n",
    "    \n",
    "        elif model_name == \"RF\":\n",
    "            n_estimators_rf = trial.suggest_int(\"n_estimators_rf\",10,100,step=10)\n",
    "            max_depth_rf = trial.suggest_int(\"max_depth_rf\",3,10)\n",
    "            model = RandomForestRegressor(n_estimators=n_estimators_rf, \n",
    "                                          max_depth=max_depth_rf, \n",
    "                                          random_state=42, n_jobs=-1)\n",
    "    \n",
    "        elif model_name == \"GBR\":\n",
    "            n_estimators_gb = trial.suggest_int(\"n_estimators_gb\",10,100,step=10)\n",
    "            learning_rate_gb = trial.suggest_float(\"learning_rate_gb\",1e-4,1e-1, log=True)\n",
    "            model = GradientBoostingRegressor(n_estimators=n_estimators_gb, \n",
    "                                              learning_rate=learning_rate_gb,\n",
    "                                             random_state=42)\n",
    "    \n",
    "        elif model_name == \"XGBR\":\n",
    "            n_estimators_xgb = trial.suggest_int(\"n_estimators_xgb\",10,100,step=10)\n",
    "            learning_rate_xgb = trial.suggest_float(\"learning_rate_xgb\",1e-4,1e-1, log=True)\n",
    "            max_depth_xgb = trial.suggest_int(\"max_depth_xgb\",3,10)\n",
    "            model = XGBRegressor(n_estimators=n_estimators_xgb,\n",
    "                                learning_rate=learning_rate_xgb,\n",
    "                                max_depth=max_depth_xgb)\n",
    "    \n",
    "        # log the model name\n",
    "        mlflow.log_param(\"model_name\",model_name)\n",
    "        \n",
    "        # log the model parameters\n",
    "        mlflow.log_params(model.get_params())\n",
    "        \n",
    "        # fit on the data\n",
    "        model.fit(X_train_encoded,y_train)\n",
    "    \n",
    "        # get the predictions\n",
    "        y_pred = model.predict(X_test_encoded)\n",
    "    \n",
    "        # calculate the loss\n",
    "        loss = mean_absolute_percentage_error(y_test, y_pred)\n",
    "    \n",
    "        # log the metric\n",
    "        mlflow.log_metric(\"MAPE\",loss)\n",
    "        return loss"
   ]
  },
  {
   "cell_type": "code",
   "execution_count": 22,
   "id": "cabdfe93",
   "metadata": {},
   "outputs": [
    {
     "name": "stderr",
     "output_type": "stream",
     "text": [
      "[I 2025-06-10 17:38:32,438] A new study created in memory with name: model_selection\n"
     ]
    },
    {
     "name": "stdout",
     "output_type": "stream",
     "text": [
      "🏃 View run funny-hare-572 at: https://dagshub.com/Naman12769/uber-demand-prediction.mlflow/#/experiments/0/runs/abc35bfaf19147649d3b3651679229cb\n",
      "🧪 View experiment at: https://dagshub.com/Naman12769/uber-demand-prediction.mlflow/#/experiments/0\n",
      "🏃 View run defiant-panda-563 at: https://dagshub.com/Naman12769/uber-demand-prediction.mlflow/#/experiments/0/runs/04d662f7865d481d9d782869a7fdce46\n",
      "🧪 View experiment at: https://dagshub.com/Naman12769/uber-demand-prediction.mlflow/#/experiments/0\n",
      "🏃 View run adaptable-loon-970 at: https://dagshub.com/Naman12769/uber-demand-prediction.mlflow/#/experiments/0/runs/982727e060444fadbbe9bdabadf7b45b\n",
      "🧪 View experiment at: https://dagshub.com/Naman12769/uber-demand-prediction.mlflow/#/experiments/0\n"
     ]
    },
    {
     "name": "stderr",
     "output_type": "stream",
     "text": [
      "[I 2025-06-10 17:38:41,421] Trial 2 finished with value: 0.0793479028546311 and parameters: {'model_name': 'LR'}. Best is trial 2 with value: 0.0793479028546311.\n",
      "[I 2025-06-10 17:38:43,531] Trial 1 finished with value: 0.0793479028546311 and parameters: {'model_name': 'LR'}. Best is trial 2 with value: 0.0793479028546311.\n",
      "[I 2025-06-10 17:38:44,439] Trial 0 finished with value: 0.0793479028546311 and parameters: {'model_name': 'LR'}. Best is trial 2 with value: 0.0793479028546311.\n"
     ]
    },
    {
     "name": "stdout",
     "output_type": "stream",
     "text": [
      "🏃 View run capricious-foal-299 at: https://dagshub.com/Naman12769/uber-demand-prediction.mlflow/#/experiments/0/runs/168f73605c8847cea55247d2811d3fee\n",
      "🧪 View experiment at: https://dagshub.com/Naman12769/uber-demand-prediction.mlflow/#/experiments/0\n"
     ]
    },
    {
     "name": "stderr",
     "output_type": "stream",
     "text": [
      "[I 2025-06-10 17:38:50,658] Trial 3 finished with value: 0.415421724319458 and parameters: {'model_name': 'XGBR', 'n_estimators_xgb': 40, 'learning_rate_xgb': 0.08841389736787204, 'max_depth_xgb': 3}. Best is trial 2 with value: 0.0793479028546311.\n"
     ]
    },
    {
     "name": "stdout",
     "output_type": "stream",
     "text": [
      "🏃 View run sincere-cat-659 at: https://dagshub.com/Naman12769/uber-demand-prediction.mlflow/#/experiments/0/runs/e25216451cbb4dbf9490b1b58e39daa7\n",
      "🧪 View experiment at: https://dagshub.com/Naman12769/uber-demand-prediction.mlflow/#/experiments/0\n"
     ]
    },
    {
     "name": "stderr",
     "output_type": "stream",
     "text": [
      "[I 2025-06-10 17:39:01,433] Trial 6 finished with value: 0.0793479028546311 and parameters: {'model_name': 'LR'}. Best is trial 2 with value: 0.0793479028546311.\n"
     ]
    },
    {
     "name": "stdout",
     "output_type": "stream",
     "text": [
      "🏃 View run fun-squid-261 at: https://dagshub.com/Naman12769/uber-demand-prediction.mlflow/#/experiments/0/runs/01899f5ce14c40c59aa2e9e819138dc7\n",
      "🧪 View experiment at: https://dagshub.com/Naman12769/uber-demand-prediction.mlflow/#/experiments/0\n"
     ]
    },
    {
     "name": "stderr",
     "output_type": "stream",
     "text": [
      "[I 2025-06-10 17:39:20,419] Trial 8 finished with value: 6.361810684204102 and parameters: {'model_name': 'XGBR', 'n_estimators_xgb': 40, 'learning_rate_xgb': 0.0008442566415787538, 'max_depth_xgb': 9}. Best is trial 2 with value: 0.0793479028546311.\n"
     ]
    },
    {
     "name": "stdout",
     "output_type": "stream",
     "text": [
      "🏃 View run dapper-perch-824 at: https://dagshub.com/Naman12769/uber-demand-prediction.mlflow/#/experiments/0/runs/6beefd22c8044d6f81e23656f83f3410\n",
      "🧪 View experiment at: https://dagshub.com/Naman12769/uber-demand-prediction.mlflow/#/experiments/0\n"
     ]
    },
    {
     "name": "stderr",
     "output_type": "stream",
     "text": [
      "[I 2025-06-10 17:39:59,502] Trial 4 finished with value: 6.361350745022831 and parameters: {'model_name': 'GBR', 'n_estimators_gb': 50, 'learning_rate_gb': 0.0007085446174870617}. Best is trial 2 with value: 0.0793479028546311.\n"
     ]
    },
    {
     "name": "stdout",
     "output_type": "stream",
     "text": [
      "🏃 View run suave-doe-251 at: https://dagshub.com/Naman12769/uber-demand-prediction.mlflow/#/experiments/0/runs/7822341ee10e47718002c57837908607\n",
      "🧪 View experiment at: https://dagshub.com/Naman12769/uber-demand-prediction.mlflow/#/experiments/0\n"
     ]
    },
    {
     "name": "stderr",
     "output_type": "stream",
     "text": [
      "[I 2025-06-10 17:40:29,541] Trial 9 finished with value: 0.17650979550655893 and parameters: {'model_name': 'RF', 'n_estimators_rf': 100, 'max_depth_rf': 7}. Best is trial 2 with value: 0.0793479028546311.\n"
     ]
    },
    {
     "name": "stdout",
     "output_type": "stream",
     "text": [
      "🏃 View run spiffy-crab-283 at: https://dagshub.com/Naman12769/uber-demand-prediction.mlflow/#/experiments/0/runs/02b50b520be649fdb13654ce5316e726\n",
      "🧪 View experiment at: https://dagshub.com/Naman12769/uber-demand-prediction.mlflow/#/experiments/0\n"
     ]
    },
    {
     "name": "stderr",
     "output_type": "stream",
     "text": [
      "[I 2025-06-10 17:40:37,221] Trial 7 finished with value: 6.24914347976934 and parameters: {'model_name': 'GBR', 'n_estimators_gb': 70, 'learning_rate_gb': 0.000776436125898945}. Best is trial 2 with value: 0.0793479028546311.\n"
     ]
    },
    {
     "name": "stdout",
     "output_type": "stream",
     "text": [
      "🏃 View run debonair-grouse-985 at: https://dagshub.com/Naman12769/uber-demand-prediction.mlflow/#/experiments/0/runs/153b32c91ab6437b807496b78a03c303\n",
      "🧪 View experiment at: https://dagshub.com/Naman12769/uber-demand-prediction.mlflow/#/experiments/0\n"
     ]
    },
    {
     "name": "stderr",
     "output_type": "stream",
     "text": [
      "[I 2025-06-10 17:40:45,080] Trial 5 finished with value: 0.8282738296617987 and parameters: {'model_name': 'GBR', 'n_estimators_gb': 80, 'learning_rate_gb': 0.02949024185491895}. Best is trial 2 with value: 0.0793479028546311.\n"
     ]
    },
    {
     "name": "stdout",
     "output_type": "stream",
     "text": [
      "🏃 View run dazzling-pig-66 at: https://dagshub.com/Naman12769/uber-demand-prediction.mlflow/#/experiments/0/runs/b790efcecf254c0782136b23568faf8c\n",
      "🧪 View experiment at: https://dagshub.com/Naman12769/uber-demand-prediction.mlflow/#/experiments/0\n"
     ]
    },
    {
     "name": "stderr",
     "output_type": "stream",
     "text": [
      "[I 2025-06-10 17:40:45,454] Trial 10 finished with value: 6.536756028818556 and parameters: {'model_name': 'GBR', 'n_estimators_gb': 30, 'learning_rate_gb': 0.00021973024429761354}. Best is trial 2 with value: 0.0793479028546311.\n"
     ]
    },
    {
     "name": "stdout",
     "output_type": "stream",
     "text": [
      "🏃 View run spiffy-midge-260 at: https://dagshub.com/Naman12769/uber-demand-prediction.mlflow/#/experiments/0/runs/53824968ef3a4e399cfdb967c4529d08\n",
      "🧪 View experiment at: https://dagshub.com/Naman12769/uber-demand-prediction.mlflow/#/experiments/0\n",
      "🏃 View run clumsy-toad-347 at: https://dagshub.com/Naman12769/uber-demand-prediction.mlflow/#/experiments/0/runs/c6c56ffdd1cc4088a6c4a677b5ce1f3c\n",
      "🧪 View experiment at: https://dagshub.com/Naman12769/uber-demand-prediction.mlflow/#/experiments/0\n"
     ]
    },
    {
     "name": "stderr",
     "output_type": "stream",
     "text": [
      "[I 2025-06-10 17:40:50,338] Trial 13 finished with value: 0.0793479028546311 and parameters: {'model_name': 'LR'}. Best is trial 2 with value: 0.0793479028546311.\n",
      "[I 2025-06-10 17:40:51,189] Trial 14 finished with value: 0.0793479028546311 and parameters: {'model_name': 'LR'}. Best is trial 2 with value: 0.0793479028546311.\n"
     ]
    },
    {
     "name": "stdout",
     "output_type": "stream",
     "text": [
      "🏃 View run sneaky-horse-511 at: https://dagshub.com/Naman12769/uber-demand-prediction.mlflow/#/experiments/0/runs/5b6a4fcf371c4c00aa710a86c5d2b6a6\n",
      "🧪 View experiment at: https://dagshub.com/Naman12769/uber-demand-prediction.mlflow/#/experiments/0\n"
     ]
    },
    {
     "name": "stderr",
     "output_type": "stream",
     "text": [
      "[I 2025-06-10 17:40:59,209] Trial 12 finished with value: 0.3467551195659892 and parameters: {'model_name': 'RF', 'n_estimators_rf': 40, 'max_depth_rf': 4}. Best is trial 2 with value: 0.0793479028546311.\n"
     ]
    },
    {
     "name": "stdout",
     "output_type": "stream",
     "text": [
      "🏃 View run treasured-ant-635 at: https://dagshub.com/Naman12769/uber-demand-prediction.mlflow/#/experiments/0/runs/88dbfd54f08648dcad2cc93eb898c47f\n",
      "🧪 View experiment at: https://dagshub.com/Naman12769/uber-demand-prediction.mlflow/#/experiments/0\n",
      "🏃 View run aged-mule-82 at: https://dagshub.com/Naman12769/uber-demand-prediction.mlflow/#/experiments/0/runs/87e4f0256072404b9d7660a50e1f7379\n",
      "🧪 View experiment at: https://dagshub.com/Naman12769/uber-demand-prediction.mlflow/#/experiments/0\n"
     ]
    },
    {
     "name": "stderr",
     "output_type": "stream",
     "text": [
      "[I 2025-06-10 17:41:07,183] Trial 15 finished with value: 0.0793479028546311 and parameters: {'model_name': 'LR'}. Best is trial 2 with value: 0.0793479028546311.\n",
      "[I 2025-06-10 17:41:09,217] Trial 16 finished with value: 0.0793479028546311 and parameters: {'model_name': 'LR'}. Best is trial 2 with value: 0.0793479028546311.\n"
     ]
    },
    {
     "name": "stdout",
     "output_type": "stream",
     "text": [
      "🏃 View run orderly-slug-983 at: https://dagshub.com/Naman12769/uber-demand-prediction.mlflow/#/experiments/0/runs/f4879119ab2a42b3af49a9d2e1e78346\n",
      "🧪 View experiment at: https://dagshub.com/Naman12769/uber-demand-prediction.mlflow/#/experiments/0\n"
     ]
    },
    {
     "name": "stderr",
     "output_type": "stream",
     "text": [
      "[I 2025-06-10 17:41:17,185] Trial 17 finished with value: 0.0793479028546311 and parameters: {'model_name': 'LR'}. Best is trial 2 with value: 0.0793479028546311.\n"
     ]
    },
    {
     "name": "stdout",
     "output_type": "stream",
     "text": [
      "🏃 View run peaceful-colt-102 at: https://dagshub.com/Naman12769/uber-demand-prediction.mlflow/#/experiments/0/runs/640428c0808e4492891699f2cba01a50\n",
      "🧪 View experiment at: https://dagshub.com/Naman12769/uber-demand-prediction.mlflow/#/experiments/0\n",
      "🏃 View run respected-smelt-291 at: https://dagshub.com/Naman12769/uber-demand-prediction.mlflow/#/experiments/0/runs/9fb35dbfd8c9410787870d249775e8bd\n",
      "🧪 View experiment at: https://dagshub.com/Naman12769/uber-demand-prediction.mlflow/#/experiments/0\n"
     ]
    },
    {
     "name": "stderr",
     "output_type": "stream",
     "text": [
      "[I 2025-06-10 17:41:25,164] Trial 18 finished with value: 0.0793479028546311 and parameters: {'model_name': 'LR'}. Best is trial 2 with value: 0.0793479028546311.\n",
      "[I 2025-06-10 17:41:27,278] Trial 19 finished with value: 0.0793479028546311 and parameters: {'model_name': 'LR'}. Best is trial 2 with value: 0.0793479028546311.\n"
     ]
    },
    {
     "name": "stdout",
     "output_type": "stream",
     "text": [
      "🏃 View run unequaled-ray-944 at: https://dagshub.com/Naman12769/uber-demand-prediction.mlflow/#/experiments/0/runs/607ed75fa5f046c9a48ca3ed5fa51f7b\n",
      "🧪 View experiment at: https://dagshub.com/Naman12769/uber-demand-prediction.mlflow/#/experiments/0\n"
     ]
    },
    {
     "name": "stderr",
     "output_type": "stream",
     "text": [
      "[I 2025-06-10 17:41:35,193] Trial 20 finished with value: 0.0793479028546311 and parameters: {'model_name': 'LR'}. Best is trial 2 with value: 0.0793479028546311.\n"
     ]
    },
    {
     "name": "stdout",
     "output_type": "stream",
     "text": [
      "🏃 View run traveling-moose-790 at: https://dagshub.com/Naman12769/uber-demand-prediction.mlflow/#/experiments/0/runs/305fbc237e334c608459eee651a82efa\n",
      "🧪 View experiment at: https://dagshub.com/Naman12769/uber-demand-prediction.mlflow/#/experiments/0\n"
     ]
    },
    {
     "name": "stderr",
     "output_type": "stream",
     "text": [
      "[I 2025-06-10 17:41:49,598] Trial 22 finished with value: 0.13029011350572198 and parameters: {'model_name': 'RF', 'n_estimators_rf': 10, 'max_depth_rf': 10}. Best is trial 2 with value: 0.0793479028546311.\n"
     ]
    },
    {
     "name": "stdout",
     "output_type": "stream",
     "text": [
      "🏃 View run gentle-cow-222 at: https://dagshub.com/Naman12769/uber-demand-prediction.mlflow/#/experiments/0/runs/1b847e936aea46c496054991dc3976a2\n",
      "🧪 View experiment at: https://dagshub.com/Naman12769/uber-demand-prediction.mlflow/#/experiments/0\n"
     ]
    },
    {
     "name": "stderr",
     "output_type": "stream",
     "text": [
      "[I 2025-06-10 17:41:53,384] Trial 24 finished with value: 0.0793479028546311 and parameters: {'model_name': 'LR'}. Best is trial 2 with value: 0.0793479028546311.\n"
     ]
    },
    {
     "name": "stdout",
     "output_type": "stream",
     "text": [
      "🏃 View run brawny-snake-296 at: https://dagshub.com/Naman12769/uber-demand-prediction.mlflow/#/experiments/0/runs/0e4afa63537a4e8d9d01a6888567c878\n",
      "🧪 View experiment at: https://dagshub.com/Naman12769/uber-demand-prediction.mlflow/#/experiments/0\n"
     ]
    },
    {
     "name": "stderr",
     "output_type": "stream",
     "text": [
      "[I 2025-06-10 17:41:57,747] Trial 21 finished with value: 6.512824058532715 and parameters: {'model_name': 'XGBR', 'n_estimators_xgb': 100, 'learning_rate_xgb': 0.00010077020089217495, 'max_depth_xgb': 5}. Best is trial 2 with value: 0.0793479028546311.\n"
     ]
    },
    {
     "name": "stdout",
     "output_type": "stream",
     "text": [
      "🏃 View run adorable-snipe-69 at: https://dagshub.com/Naman12769/uber-demand-prediction.mlflow/#/experiments/0/runs/019b9554499446748b72e4ca7b8a80ac\n",
      "🧪 View experiment at: https://dagshub.com/Naman12769/uber-demand-prediction.mlflow/#/experiments/0\n"
     ]
    },
    {
     "name": "stderr",
     "output_type": "stream",
     "text": [
      "[I 2025-06-10 17:42:02,080] Trial 26 finished with value: 0.0793479028546311 and parameters: {'model_name': 'LR'}. Best is trial 2 with value: 0.0793479028546311.\n"
     ]
    },
    {
     "name": "stdout",
     "output_type": "stream",
     "text": [
      "🏃 View run bouncy-gull-483 at: https://dagshub.com/Naman12769/uber-demand-prediction.mlflow/#/experiments/0/runs/ebe5263a367b4202aceb77d3d82ef33e\n",
      "🧪 View experiment at: https://dagshub.com/Naman12769/uber-demand-prediction.mlflow/#/experiments/0\n",
      "🏃 View run colorful-panda-221 at: https://dagshub.com/Naman12769/uber-demand-prediction.mlflow/#/experiments/0/runs/984c884a5ebd4b1ca74f7086f020644b\n",
      "🧪 View experiment at: https://dagshub.com/Naman12769/uber-demand-prediction.mlflow/#/experiments/0\n"
     ]
    },
    {
     "name": "stderr",
     "output_type": "stream",
     "text": [
      "[I 2025-06-10 17:42:08,192] Trial 27 finished with value: 0.0793479028546311 and parameters: {'model_name': 'LR'}. Best is trial 2 with value: 0.0793479028546311.\n",
      "[I 2025-06-10 17:42:09,181] Trial 23 finished with value: 6.508543968200684 and parameters: {'model_name': 'XGBR', 'n_estimators_xgb': 100, 'learning_rate_xgb': 0.00010899712172546308, 'max_depth_xgb': 4}. Best is trial 2 with value: 0.0793479028546311.\n"
     ]
    },
    {
     "name": "stdout",
     "output_type": "stream",
     "text": [
      "🏃 View run stylish-fawn-913 at: https://dagshub.com/Naman12769/uber-demand-prediction.mlflow/#/experiments/0/runs/cf7e2fc9a77243ee847fb7ef14ca0fad\n",
      "🧪 View experiment at: https://dagshub.com/Naman12769/uber-demand-prediction.mlflow/#/experiments/0\n",
      "🏃 View run defiant-slug-235 at: https://dagshub.com/Naman12769/uber-demand-prediction.mlflow/#/experiments/0/runs/11c13ad68610482dab22370e4f4a22ca\n",
      "🧪 View experiment at: https://dagshub.com/Naman12769/uber-demand-prediction.mlflow/#/experiments/0\n"
     ]
    },
    {
     "name": "stderr",
     "output_type": "stream",
     "text": [
      "[I 2025-06-10 17:42:21,188] Trial 11 finished with value: 0.24126300873877268 and parameters: {'model_name': 'GBR', 'n_estimators_gb': 100, 'learning_rate_gb': 0.07831330159457117}. Best is trial 2 with value: 0.0793479028546311.\n"
     ]
    },
    {
     "name": "stdout",
     "output_type": "stream",
     "text": [
      "🏃 View run bold-koi-791 at: https://dagshub.com/Naman12769/uber-demand-prediction.mlflow/#/experiments/0/runs/5a6769d3e5bc4c18b4c97eb9162e9c5b\n",
      "🧪 View experiment at: https://dagshub.com/Naman12769/uber-demand-prediction.mlflow/#/experiments/0\n"
     ]
    },
    {
     "name": "stderr",
     "output_type": "stream",
     "text": [
      "[I 2025-06-10 17:42:23,268] Trial 28 finished with value: 0.0793479028546311 and parameters: {'model_name': 'LR'}. Best is trial 2 with value: 0.0793479028546311.\n",
      "[I 2025-06-10 17:42:26,338] Trial 29 finished with value: 0.0793479028546311 and parameters: {'model_name': 'LR'}. Best is trial 2 with value: 0.0793479028546311.\n"
     ]
    },
    {
     "name": "stdout",
     "output_type": "stream",
     "text": [
      "🏃 View run languid-calf-511 at: https://dagshub.com/Naman12769/uber-demand-prediction.mlflow/#/experiments/0/runs/2d862547abc04d9398445d00a355d047\n",
      "🧪 View experiment at: https://dagshub.com/Naman12769/uber-demand-prediction.mlflow/#/experiments/0\n"
     ]
    },
    {
     "name": "stderr",
     "output_type": "stream",
     "text": [
      "[I 2025-06-10 17:42:33,383] Trial 25 finished with value: 6.490295886993408 and parameters: {'model_name': 'XGBR', 'n_estimators_xgb': 100, 'learning_rate_xgb': 0.00013804275533374152, 'max_depth_xgb': 4}. Best is trial 2 with value: 0.0793479028546311.\n"
     ]
    },
    {
     "name": "stdout",
     "output_type": "stream",
     "text": [
      "🏃 View run calm-ape-268 at: https://dagshub.com/Naman12769/uber-demand-prediction.mlflow/#/experiments/0/runs/b093c1ec6ae44336973b041693e213f2\n",
      "🧪 View experiment at: https://dagshub.com/Naman12769/uber-demand-prediction.mlflow/#/experiments/0\n"
     ]
    },
    {
     "name": "stderr",
     "output_type": "stream",
     "text": [
      "[I 2025-06-10 17:42:41,386] Trial 30 finished with value: 0.0793479028546311 and parameters: {'model_name': 'LR'}. Best is trial 2 with value: 0.0793479028546311.\n"
     ]
    },
    {
     "name": "stdout",
     "output_type": "stream",
     "text": [
      "🏃 View run resilient-bat-617 at: https://dagshub.com/Naman12769/uber-demand-prediction.mlflow/#/experiments/0/runs/67525a9c81ac428e804ee09e4241f7e1\n",
      "🧪 View experiment at: https://dagshub.com/Naman12769/uber-demand-prediction.mlflow/#/experiments/0\n"
     ]
    },
    {
     "name": "stderr",
     "output_type": "stream",
     "text": [
      "[I 2025-06-10 17:42:50,468] Trial 34 finished with value: 0.0793479028546311 and parameters: {'model_name': 'LR'}. Best is trial 2 with value: 0.0793479028546311.\n"
     ]
    },
    {
     "name": "stdout",
     "output_type": "stream",
     "text": [
      "🏃 View run abrasive-dog-561 at: https://dagshub.com/Naman12769/uber-demand-prediction.mlflow/#/experiments/0/runs/b96ad9f54abf4699a4f39efe06c740e8\n",
      "🧪 View experiment at: https://dagshub.com/Naman12769/uber-demand-prediction.mlflow/#/experiments/0\n"
     ]
    },
    {
     "name": "stderr",
     "output_type": "stream",
     "text": [
      "[I 2025-06-10 17:42:55,499] Trial 35 finished with value: 0.0793479028546311 and parameters: {'model_name': 'LR'}. Best is trial 2 with value: 0.0793479028546311.\n"
     ]
    },
    {
     "name": "stdout",
     "output_type": "stream",
     "text": [
      "🏃 View run enchanting-cow-838 at: https://dagshub.com/Naman12769/uber-demand-prediction.mlflow/#/experiments/0/runs/87b4949a9e214aeba924e5a1725186a9\n",
      "🧪 View experiment at: https://dagshub.com/Naman12769/uber-demand-prediction.mlflow/#/experiments/0\n"
     ]
    },
    {
     "name": "stderr",
     "output_type": "stream",
     "text": [
      "[I 2025-06-10 17:43:01,513] Trial 36 finished with value: 0.0793479028546311 and parameters: {'model_name': 'LR'}. Best is trial 2 with value: 0.0793479028546311.\n"
     ]
    },
    {
     "name": "stdout",
     "output_type": "stream",
     "text": [
      "🏃 View run sassy-skunk-885 at: https://dagshub.com/Naman12769/uber-demand-prediction.mlflow/#/experiments/0/runs/e52f5724cb6646f5bc6089d094ded15f\n",
      "🧪 View experiment at: https://dagshub.com/Naman12769/uber-demand-prediction.mlflow/#/experiments/0\n"
     ]
    },
    {
     "name": "stderr",
     "output_type": "stream",
     "text": [
      "[I 2025-06-10 17:43:38,343] Trial 31 finished with value: 0.5443209920941997 and parameters: {'model_name': 'RF', 'n_estimators_rf': 100, 'max_depth_rf': 3}. Best is trial 2 with value: 0.0793479028546311.\n"
     ]
    },
    {
     "name": "stdout",
     "output_type": "stream",
     "text": [
      "🏃 View run silent-dog-126 at: https://dagshub.com/Naman12769/uber-demand-prediction.mlflow/#/experiments/0/runs/791cc83feeee4f9a99459326ed230e35\n",
      "🧪 View experiment at: https://dagshub.com/Naman12769/uber-demand-prediction.mlflow/#/experiments/0\n"
     ]
    },
    {
     "name": "stderr",
     "output_type": "stream",
     "text": [
      "[I 2025-06-10 17:43:43,458] Trial 38 finished with value: 0.0793479028546311 and parameters: {'model_name': 'LR'}. Best is trial 2 with value: 0.0793479028546311.\n"
     ]
    },
    {
     "name": "stdout",
     "output_type": "stream",
     "text": [
      "🏃 View run big-kit-706 at: https://dagshub.com/Naman12769/uber-demand-prediction.mlflow/#/experiments/0/runs/34014c9c615e464489fb7985d3d9c59e\n",
      "🧪 View experiment at: https://dagshub.com/Naman12769/uber-demand-prediction.mlflow/#/experiments/0\n"
     ]
    },
    {
     "name": "stderr",
     "output_type": "stream",
     "text": [
      "[I 2025-06-10 17:43:46,788] Trial 32 finished with value: 0.5443209920941997 and parameters: {'model_name': 'RF', 'n_estimators_rf': 100, 'max_depth_rf': 3}. Best is trial 2 with value: 0.0793479028546311.\n"
     ]
    },
    {
     "name": "stdout",
     "output_type": "stream",
     "text": [
      "🏃 View run gifted-crane-396 at: https://dagshub.com/Naman12769/uber-demand-prediction.mlflow/#/experiments/0/runs/e6db62c2c4374cbc9c67aa98b91760bf\n",
      "🧪 View experiment at: https://dagshub.com/Naman12769/uber-demand-prediction.mlflow/#/experiments/0\n"
     ]
    },
    {
     "name": "stderr",
     "output_type": "stream",
     "text": [
      "[I 2025-06-10 17:43:51,147] Trial 33 finished with value: 0.5443209920941997 and parameters: {'model_name': 'RF', 'n_estimators_rf': 100, 'max_depth_rf': 3}. Best is trial 2 with value: 0.0793479028546311.\n"
     ]
    },
    {
     "name": "stdout",
     "output_type": "stream",
     "text": [
      "🏃 View run rumbling-bee-974 at: https://dagshub.com/Naman12769/uber-demand-prediction.mlflow/#/experiments/0/runs/322f959f8a334d06a88d1e6546298094\n",
      "🧪 View experiment at: https://dagshub.com/Naman12769/uber-demand-prediction.mlflow/#/experiments/0\n"
     ]
    },
    {
     "name": "stderr",
     "output_type": "stream",
     "text": [
      "[I 2025-06-10 17:43:57,858] Trial 37 finished with value: 0.5443209920941997 and parameters: {'model_name': 'RF', 'n_estimators_rf': 100, 'max_depth_rf': 3}. Best is trial 2 with value: 0.0793479028546311.\n"
     ]
    },
    {
     "name": "stdout",
     "output_type": "stream",
     "text": [
      "🏃 View run classy-skink-344 at: https://dagshub.com/Naman12769/uber-demand-prediction.mlflow/#/experiments/0/runs/306ad4bff38a4761bb4b7c3654537e05\n",
      "🧪 View experiment at: https://dagshub.com/Naman12769/uber-demand-prediction.mlflow/#/experiments/0\n"
     ]
    },
    {
     "name": "stderr",
     "output_type": "stream",
     "text": [
      "[I 2025-06-10 17:44:01,491] Trial 39 finished with value: 6.291502827557266 and parameters: {'model_name': 'GBR', 'n_estimators_gb': 10, 'learning_rate_gb': 0.004707820592364525}. Best is trial 2 with value: 0.0793479028546311.\n"
     ]
    },
    {
     "name": "stdout",
     "output_type": "stream",
     "text": [
      "🏃 View run spiffy-cub-478 at: https://dagshub.com/Naman12769/uber-demand-prediction.mlflow/#/experiments/0/runs/5fe6277354e141459f1b037c28fccb4f\n",
      "🧪 View experiment at: https://dagshub.com/Naman12769/uber-demand-prediction.mlflow/#/experiments/0\n"
     ]
    },
    {
     "name": "stderr",
     "output_type": "stream",
     "text": [
      "[I 2025-06-10 17:44:05,187] Trial 40 finished with value: 6.091215486436146 and parameters: {'model_name': 'GBR', 'n_estimators_gb': 10, 'learning_rate_gb': 0.008135161402433684}. Best is trial 2 with value: 0.0793479028546311.\n"
     ]
    },
    {
     "name": "stdout",
     "output_type": "stream",
     "text": [
      "🏃 View run puzzled-bee-180 at: https://dagshub.com/Naman12769/uber-demand-prediction.mlflow/#/experiments/0/runs/456e0d4dc10145a8ad3610743ef98a53\n",
      "🧪 View experiment at: https://dagshub.com/Naman12769/uber-demand-prediction.mlflow/#/experiments/0\n"
     ]
    },
    {
     "name": "stderr",
     "output_type": "stream",
     "text": [
      "[I 2025-06-10 17:44:10,017] Trial 41 finished with value: 6.099819225648569 and parameters: {'model_name': 'GBR', 'n_estimators_gb': 10, 'learning_rate_gb': 0.007985911991400065}. Best is trial 2 with value: 0.0793479028546311.\n"
     ]
    },
    {
     "name": "stdout",
     "output_type": "stream",
     "text": [
      "🏃 View run amusing-smelt-710 at: https://dagshub.com/Naman12769/uber-demand-prediction.mlflow/#/experiments/0/runs/0929834f79074b09a0316048df9b84fb\n",
      "🧪 View experiment at: https://dagshub.com/Naman12769/uber-demand-prediction.mlflow/#/experiments/0\n",
      "🏃 View run traveling-mole-197 at: https://dagshub.com/Naman12769/uber-demand-prediction.mlflow/#/experiments/0/runs/f0f8a1c90cfe47f180ffb4272f4063a1\n",
      "🧪 View experiment at: https://dagshub.com/Naman12769/uber-demand-prediction.mlflow/#/experiments/0\n"
     ]
    },
    {
     "name": "stderr",
     "output_type": "stream",
     "text": [
      "[I 2025-06-10 17:44:18,978] Trial 42 finished with value: 6.322555425323046 and parameters: {'model_name': 'GBR', 'n_estimators_gb': 10, 'learning_rate_gb': 0.004185499373322745}. Best is trial 2 with value: 0.0793479028546311.\n"
     ]
    },
    {
     "name": "stdout",
     "output_type": "stream",
     "text": [
      "🏃 View run handsome-hawk-629 at: https://dagshub.com/Naman12769/uber-demand-prediction.mlflow/#/experiments/0/runs/b4d839ff61b04c42bba4ff819b2b9e6b\n",
      "🧪 View experiment at: https://dagshub.com/Naman12769/uber-demand-prediction.mlflow/#/experiments/0\n"
     ]
    },
    {
     "name": "stderr",
     "output_type": "stream",
     "text": [
      "[I 2025-06-10 17:44:21,898] Trial 43 finished with value: 6.05066441767426 and parameters: {'model_name': 'GBR', 'n_estimators_gb': 10, 'learning_rate_gb': 0.008842927397026008}. Best is trial 2 with value: 0.0793479028546311.\n",
      "[I 2025-06-10 17:44:24,097] Trial 44 finished with value: 0.0793479028546311 and parameters: {'model_name': 'LR'}. Best is trial 2 with value: 0.0793479028546311.\n"
     ]
    },
    {
     "name": "stdout",
     "output_type": "stream",
     "text": [
      "🏃 View run vaunted-crow-604 at: https://dagshub.com/Naman12769/uber-demand-prediction.mlflow/#/experiments/0/runs/7e91689f778e40d88c450e96dc82b1a8\n",
      "🧪 View experiment at: https://dagshub.com/Naman12769/uber-demand-prediction.mlflow/#/experiments/0\n"
     ]
    },
    {
     "name": "stderr",
     "output_type": "stream",
     "text": [
      "[I 2025-06-10 17:44:33,057] Trial 45 finished with value: 0.0793479028546311 and parameters: {'model_name': 'LR'}. Best is trial 2 with value: 0.0793479028546311.\n"
     ]
    },
    {
     "name": "stdout",
     "output_type": "stream",
     "text": [
      "🏃 View run upset-loon-90 at: https://dagshub.com/Naman12769/uber-demand-prediction.mlflow/#/experiments/0/runs/f19821548b41402a989b0e65dcbf4ea4\n",
      "🧪 View experiment at: https://dagshub.com/Naman12769/uber-demand-prediction.mlflow/#/experiments/0\n",
      "🏃 View run wistful-squid-453 at: https://dagshub.com/Naman12769/uber-demand-prediction.mlflow/#/experiments/0/runs/499d6b5aa6a94fddad93abe37f17f7f4\n",
      "🧪 View experiment at: https://dagshub.com/Naman12769/uber-demand-prediction.mlflow/#/experiments/0\n"
     ]
    },
    {
     "name": "stderr",
     "output_type": "stream",
     "text": [
      "[I 2025-06-10 17:44:42,909] Trial 46 finished with value: 0.0793479028546311 and parameters: {'model_name': 'LR'}. Best is trial 2 with value: 0.0793479028546311.\n"
     ]
    },
    {
     "name": "stdout",
     "output_type": "stream",
     "text": [
      "🏃 View run brawny-stork-79 at: https://dagshub.com/Naman12769/uber-demand-prediction.mlflow/#/experiments/0/runs/f8f647bc6f7b4014b7c5e8496f29475f\n",
      "🧪 View experiment at: https://dagshub.com/Naman12769/uber-demand-prediction.mlflow/#/experiments/0\n"
     ]
    },
    {
     "name": "stderr",
     "output_type": "stream",
     "text": [
      "[I 2025-06-10 17:44:45,912] Trial 47 finished with value: 0.0793479028546311 and parameters: {'model_name': 'LR'}. Best is trial 2 with value: 0.0793479028546311.\n",
      "[I 2025-06-10 17:44:46,886] Trial 48 finished with value: 0.0793479028546311 and parameters: {'model_name': 'LR'}. Best is trial 2 with value: 0.0793479028546311.\n"
     ]
    },
    {
     "name": "stdout",
     "output_type": "stream",
     "text": [
      "🏃 View run blushing-kite-974 at: https://dagshub.com/Naman12769/uber-demand-prediction.mlflow/#/experiments/0/runs/e033669c39db4c0b907f5e53f4692691\n",
      "🧪 View experiment at: https://dagshub.com/Naman12769/uber-demand-prediction.mlflow/#/experiments/0\n"
     ]
    },
    {
     "name": "stderr",
     "output_type": "stream",
     "text": [
      "[I 2025-06-10 17:44:49,899] Trial 49 finished with value: 0.0793479028546311 and parameters: {'model_name': 'LR'}. Best is trial 2 with value: 0.0793479028546311.\n"
     ]
    },
    {
     "name": "stdout",
     "output_type": "stream",
     "text": [
      "🏃 View run best_model at: https://dagshub.com/Naman12769/uber-demand-prediction.mlflow/#/experiments/0/runs/f9cbb597bd01409187ed52dafb3fcd33\n",
      "🧪 View experiment at: https://dagshub.com/Naman12769/uber-demand-prediction.mlflow/#/experiments/0\n"
     ]
    }
   ],
   "source": [
    "with mlflow.start_run(run_name=\"best_model\",nested=True) as parent:\n",
    "  study=optuna.create_study(study_name=\"model_selection\",direction=\"minimize\")\n",
    "  study.optimize(func=objective,n_trials=50,n_jobs=-1)\n",
    "  mlflow.log_params(study.best_params)\n",
    "  mlflow.log_metric(\"BEST MAPE\",study.best_value)"
   ]
  },
  {
   "cell_type": "code",
   "execution_count": 23,
   "id": "7cbfebf6",
   "metadata": {},
   "outputs": [
    {
     "data": {
      "text/plain": [
       "0.0793479028546311"
      ]
     },
     "execution_count": 23,
     "metadata": {},
     "output_type": "execute_result"
    }
   ],
   "source": [
    "\n",
    "# best value\n",
    "\n",
    "study.best_value"
   ]
  },
  {
   "cell_type": "code",
   "execution_count": 24,
   "metadata": {},
   "outputs": [
    {
     "data": {
      "text/plain": [
       "{'model_name': 'LR'}"
      ]
     },
     "execution_count": 24,
     "metadata": {},
     "output_type": "execute_result"
    }
   ],
   "source": [
    "\n",
    "# best parameters\n",
    "\n",
    "study.best_params"
   ]
  },
  {
   "cell_type": "code",
   "execution_count": 25,
   "metadata": {},
   "outputs": [
    {
     "data": {
      "text/plain": [
       "params_model_name\n",
       "LR      28\n",
       "GBR     10\n",
       "RF       7\n",
       "XGBR     5\n",
       "Name: count, dtype: int64"
      ]
     },
     "execution_count": 25,
     "metadata": {},
     "output_type": "execute_result"
    }
   ],
   "source": [
    "# model value counts\n",
    "\n",
    "study.trials_dataframe()['params_model_name'].value_counts()"
   ]
  },
  {
   "cell_type": "code",
   "execution_count": 26,
   "metadata": {},
   "outputs": [],
   "source": [
    "from optuna.visualization import (\n",
    "    plot_optimization_history, \n",
    "    plot_parallel_coordinate, \n",
    "    plot_param_importances\n",
    ")"
   ]
  },
  {
   "cell_type": "code",
   "execution_count": 27,
   "id": "13f3513b",
   "metadata": {},
   "outputs": [
    {
     "ename": "ValueError",
     "evalue": "Mime type rendering requires nbformat>=4.2.0 but it is not installed",
     "output_type": "error",
     "traceback": [
      "\u001b[31m---------------------------------------------------------------------------\u001b[39m",
      "\u001b[31mValueError\u001b[39m                                Traceback (most recent call last)",
      "\u001b[36mFile \u001b[39m\u001b[32mc:\\Users\\hi\\AppData\\Local\\Programs\\Python\\Python313\\Lib\\site-packages\\IPython\\core\\formatters.py:984\u001b[39m, in \u001b[36mIPythonDisplayFormatter.__call__\u001b[39m\u001b[34m(self, obj)\u001b[39m\n\u001b[32m    982\u001b[39m method = get_real_method(obj, \u001b[38;5;28mself\u001b[39m.print_method)\n\u001b[32m    983\u001b[39m \u001b[38;5;28;01mif\u001b[39;00m method \u001b[38;5;129;01mis\u001b[39;00m \u001b[38;5;129;01mnot\u001b[39;00m \u001b[38;5;28;01mNone\u001b[39;00m:\n\u001b[32m--> \u001b[39m\u001b[32m984\u001b[39m     \u001b[43mmethod\u001b[49m\u001b[43m(\u001b[49m\u001b[43m)\u001b[49m\n\u001b[32m    985\u001b[39m     \u001b[38;5;28;01mreturn\u001b[39;00m \u001b[38;5;28;01mTrue\u001b[39;00m\n",
      "\u001b[36mFile \u001b[39m\u001b[32mc:\\Users\\hi\\AppData\\Local\\Programs\\Python\\Python313\\Lib\\site-packages\\plotly\\basedatatypes.py:833\u001b[39m, in \u001b[36mBaseFigure._ipython_display_\u001b[39m\u001b[34m(self)\u001b[39m\n\u001b[32m    830\u001b[39m \u001b[38;5;28;01mimport\u001b[39;00m\u001b[38;5;250m \u001b[39m\u001b[34;01mplotly\u001b[39;00m\u001b[34;01m.\u001b[39;00m\u001b[34;01mio\u001b[39;00m\u001b[38;5;250m \u001b[39m\u001b[38;5;28;01mas\u001b[39;00m\u001b[38;5;250m \u001b[39m\u001b[34;01mpio\u001b[39;00m\n\u001b[32m    832\u001b[39m \u001b[38;5;28;01mif\u001b[39;00m pio.renderers.render_on_display \u001b[38;5;129;01mand\u001b[39;00m pio.renderers.default:\n\u001b[32m--> \u001b[39m\u001b[32m833\u001b[39m     \u001b[43mpio\u001b[49m\u001b[43m.\u001b[49m\u001b[43mshow\u001b[49m\u001b[43m(\u001b[49m\u001b[38;5;28;43mself\u001b[39;49m\u001b[43m)\u001b[49m\n\u001b[32m    834\u001b[39m \u001b[38;5;28;01melse\u001b[39;00m:\n\u001b[32m    835\u001b[39m     \u001b[38;5;28mprint\u001b[39m(\u001b[38;5;28mrepr\u001b[39m(\u001b[38;5;28mself\u001b[39m))\n",
      "\u001b[36mFile \u001b[39m\u001b[32mc:\\Users\\hi\\AppData\\Local\\Programs\\Python\\Python313\\Lib\\site-packages\\plotly\\io\\_renderers.py:425\u001b[39m, in \u001b[36mshow\u001b[39m\u001b[34m(fig, renderer, validate, **kwargs)\u001b[39m\n\u001b[32m    420\u001b[39m     \u001b[38;5;28;01mraise\u001b[39;00m \u001b[38;5;167;01mValueError\u001b[39;00m(\n\u001b[32m    421\u001b[39m         \u001b[33m\"\u001b[39m\u001b[33mMime type rendering requires ipython but it is not installed\u001b[39m\u001b[33m\"\u001b[39m\n\u001b[32m    422\u001b[39m     )\n\u001b[32m    424\u001b[39m \u001b[38;5;28;01mif\u001b[39;00m \u001b[38;5;129;01mnot\u001b[39;00m nbformat \u001b[38;5;129;01mor\u001b[39;00m Version(nbformat.__version__) < Version(\u001b[33m\"\u001b[39m\u001b[33m4.2.0\u001b[39m\u001b[33m\"\u001b[39m):\n\u001b[32m--> \u001b[39m\u001b[32m425\u001b[39m     \u001b[38;5;28;01mraise\u001b[39;00m \u001b[38;5;167;01mValueError\u001b[39;00m(\n\u001b[32m    426\u001b[39m         \u001b[33m\"\u001b[39m\u001b[33mMime type rendering requires nbformat>=4.2.0 but it is not installed\u001b[39m\u001b[33m\"\u001b[39m\n\u001b[32m    427\u001b[39m     )\n\u001b[32m    429\u001b[39m display_jupyter_version_warnings()\n\u001b[32m    431\u001b[39m ipython_display.display(bundle, raw=\u001b[38;5;28;01mTrue\u001b[39;00m)\n",
      "\u001b[31mValueError\u001b[39m: Mime type rendering requires nbformat>=4.2.0 but it is not installed"
     ]
    },
    {
     "data": {
      "application/vnd.plotly.v1+json": {
       "config": {
        "plotlyServerURL": "https://plot.ly"
       },
       "data": [
        {
         "mode": "markers",
         "name": "Objective Value",
         "type": "scatter",
         "x": [
          0,
          1,
          2,
          3,
          4,
          5,
          6,
          7,
          8,
          9,
          10,
          11,
          12,
          13,
          14,
          15,
          16,
          17,
          18,
          19,
          20,
          21,
          22,
          23,
          24,
          25,
          26,
          27,
          28,
          29,
          30,
          31,
          32,
          33,
          34,
          35,
          36,
          37,
          38,
          39,
          40,
          41,
          42,
          43,
          44,
          45,
          46,
          47,
          48,
          49
         ],
         "y": [
          0.0793479028546311,
          0.0793479028546311,
          0.0793479028546311,
          0.415421724319458,
          6.361350745022831,
          0.8282738296617987,
          0.0793479028546311,
          6.24914347976934,
          6.361810684204102,
          0.17650979550655893,
          6.536756028818556,
          0.24126300873877268,
          0.3467551195659892,
          0.0793479028546311,
          0.0793479028546311,
          0.0793479028546311,
          0.0793479028546311,
          0.0793479028546311,
          0.0793479028546311,
          0.0793479028546311,
          0.0793479028546311,
          6.512824058532715,
          0.13029011350572198,
          6.508543968200684,
          0.0793479028546311,
          6.490295886993408,
          0.0793479028546311,
          0.0793479028546311,
          0.0793479028546311,
          0.0793479028546311,
          0.0793479028546311,
          0.5443209920941997,
          0.5443209920941997,
          0.5443209920941997,
          0.0793479028546311,
          0.0793479028546311,
          0.0793479028546311,
          0.5443209920941997,
          0.0793479028546311,
          6.291502827557266,
          6.091215486436146,
          6.099819225648569,
          6.322555425323046,
          6.05066441767426,
          0.0793479028546311,
          0.0793479028546311,
          0.0793479028546311,
          0.0793479028546311,
          0.0793479028546311,
          0.0793479028546311
         ]
        },
        {
         "mode": "lines",
         "name": "Best Value",
         "type": "scatter",
         "x": [
          0,
          1,
          2,
          3,
          4,
          5,
          6,
          7,
          8,
          9,
          10,
          11,
          12,
          13,
          14,
          15,
          16,
          17,
          18,
          19,
          20,
          21,
          22,
          23,
          24,
          25,
          26,
          27,
          28,
          29,
          30,
          31,
          32,
          33,
          34,
          35,
          36,
          37,
          38,
          39,
          40,
          41,
          42,
          43,
          44,
          45,
          46,
          47,
          48,
          49
         ],
         "y": [
          0.0793479028546311,
          0.0793479028546311,
          0.0793479028546311,
          0.0793479028546311,
          0.0793479028546311,
          0.0793479028546311,
          0.0793479028546311,
          0.0793479028546311,
          0.0793479028546311,
          0.0793479028546311,
          0.0793479028546311,
          0.0793479028546311,
          0.0793479028546311,
          0.0793479028546311,
          0.0793479028546311,
          0.0793479028546311,
          0.0793479028546311,
          0.0793479028546311,
          0.0793479028546311,
          0.0793479028546311,
          0.0793479028546311,
          0.0793479028546311,
          0.0793479028546311,
          0.0793479028546311,
          0.0793479028546311,
          0.0793479028546311,
          0.0793479028546311,
          0.0793479028546311,
          0.0793479028546311,
          0.0793479028546311,
          0.0793479028546311,
          0.0793479028546311,
          0.0793479028546311,
          0.0793479028546311,
          0.0793479028546311,
          0.0793479028546311,
          0.0793479028546311,
          0.0793479028546311,
          0.0793479028546311,
          0.0793479028546311,
          0.0793479028546311,
          0.0793479028546311,
          0.0793479028546311,
          0.0793479028546311,
          0.0793479028546311,
          0.0793479028546311,
          0.0793479028546311,
          0.0793479028546311,
          0.0793479028546311,
          0.0793479028546311
         ]
        },
        {
         "marker": {
          "color": "#cccccc"
         },
         "mode": "markers",
         "name": "Infeasible Trial",
         "showlegend": false,
         "type": "scatter",
         "x": [],
         "y": []
        }
       ],
       "layout": {
        "template": {
         "data": {
          "bar": [
           {
            "error_x": {
             "color": "#2a3f5f"
            },
            "error_y": {
             "color": "#2a3f5f"
            },
            "marker": {
             "line": {
              "color": "#E5ECF6",
              "width": 0.5
             },
             "pattern": {
              "fillmode": "overlay",
              "size": 10,
              "solidity": 0.2
             }
            },
            "type": "bar"
           }
          ],
          "barpolar": [
           {
            "marker": {
             "line": {
              "color": "#E5ECF6",
              "width": 0.5
             },
             "pattern": {
              "fillmode": "overlay",
              "size": 10,
              "solidity": 0.2
             }
            },
            "type": "barpolar"
           }
          ],
          "carpet": [
           {
            "aaxis": {
             "endlinecolor": "#2a3f5f",
             "gridcolor": "white",
             "linecolor": "white",
             "minorgridcolor": "white",
             "startlinecolor": "#2a3f5f"
            },
            "baxis": {
             "endlinecolor": "#2a3f5f",
             "gridcolor": "white",
             "linecolor": "white",
             "minorgridcolor": "white",
             "startlinecolor": "#2a3f5f"
            },
            "type": "carpet"
           }
          ],
          "choropleth": [
           {
            "colorbar": {
             "outlinewidth": 0,
             "ticks": ""
            },
            "type": "choropleth"
           }
          ],
          "contour": [
           {
            "colorbar": {
             "outlinewidth": 0,
             "ticks": ""
            },
            "colorscale": [
             [
              0,
              "#0d0887"
             ],
             [
              0.1111111111111111,
              "#46039f"
             ],
             [
              0.2222222222222222,
              "#7201a8"
             ],
             [
              0.3333333333333333,
              "#9c179e"
             ],
             [
              0.4444444444444444,
              "#bd3786"
             ],
             [
              0.5555555555555556,
              "#d8576b"
             ],
             [
              0.6666666666666666,
              "#ed7953"
             ],
             [
              0.7777777777777778,
              "#fb9f3a"
             ],
             [
              0.8888888888888888,
              "#fdca26"
             ],
             [
              1,
              "#f0f921"
             ]
            ],
            "type": "contour"
           }
          ],
          "contourcarpet": [
           {
            "colorbar": {
             "outlinewidth": 0,
             "ticks": ""
            },
            "type": "contourcarpet"
           }
          ],
          "heatmap": [
           {
            "colorbar": {
             "outlinewidth": 0,
             "ticks": ""
            },
            "colorscale": [
             [
              0,
              "#0d0887"
             ],
             [
              0.1111111111111111,
              "#46039f"
             ],
             [
              0.2222222222222222,
              "#7201a8"
             ],
             [
              0.3333333333333333,
              "#9c179e"
             ],
             [
              0.4444444444444444,
              "#bd3786"
             ],
             [
              0.5555555555555556,
              "#d8576b"
             ],
             [
              0.6666666666666666,
              "#ed7953"
             ],
             [
              0.7777777777777778,
              "#fb9f3a"
             ],
             [
              0.8888888888888888,
              "#fdca26"
             ],
             [
              1,
              "#f0f921"
             ]
            ],
            "type": "heatmap"
           }
          ],
          "histogram": [
           {
            "marker": {
             "pattern": {
              "fillmode": "overlay",
              "size": 10,
              "solidity": 0.2
             }
            },
            "type": "histogram"
           }
          ],
          "histogram2d": [
           {
            "colorbar": {
             "outlinewidth": 0,
             "ticks": ""
            },
            "colorscale": [
             [
              0,
              "#0d0887"
             ],
             [
              0.1111111111111111,
              "#46039f"
             ],
             [
              0.2222222222222222,
              "#7201a8"
             ],
             [
              0.3333333333333333,
              "#9c179e"
             ],
             [
              0.4444444444444444,
              "#bd3786"
             ],
             [
              0.5555555555555556,
              "#d8576b"
             ],
             [
              0.6666666666666666,
              "#ed7953"
             ],
             [
              0.7777777777777778,
              "#fb9f3a"
             ],
             [
              0.8888888888888888,
              "#fdca26"
             ],
             [
              1,
              "#f0f921"
             ]
            ],
            "type": "histogram2d"
           }
          ],
          "histogram2dcontour": [
           {
            "colorbar": {
             "outlinewidth": 0,
             "ticks": ""
            },
            "colorscale": [
             [
              0,
              "#0d0887"
             ],
             [
              0.1111111111111111,
              "#46039f"
             ],
             [
              0.2222222222222222,
              "#7201a8"
             ],
             [
              0.3333333333333333,
              "#9c179e"
             ],
             [
              0.4444444444444444,
              "#bd3786"
             ],
             [
              0.5555555555555556,
              "#d8576b"
             ],
             [
              0.6666666666666666,
              "#ed7953"
             ],
             [
              0.7777777777777778,
              "#fb9f3a"
             ],
             [
              0.8888888888888888,
              "#fdca26"
             ],
             [
              1,
              "#f0f921"
             ]
            ],
            "type": "histogram2dcontour"
           }
          ],
          "mesh3d": [
           {
            "colorbar": {
             "outlinewidth": 0,
             "ticks": ""
            },
            "type": "mesh3d"
           }
          ],
          "parcoords": [
           {
            "line": {
             "colorbar": {
              "outlinewidth": 0,
              "ticks": ""
             }
            },
            "type": "parcoords"
           }
          ],
          "pie": [
           {
            "automargin": true,
            "type": "pie"
           }
          ],
          "scatter": [
           {
            "fillpattern": {
             "fillmode": "overlay",
             "size": 10,
             "solidity": 0.2
            },
            "type": "scatter"
           }
          ],
          "scatter3d": [
           {
            "line": {
             "colorbar": {
              "outlinewidth": 0,
              "ticks": ""
             }
            },
            "marker": {
             "colorbar": {
              "outlinewidth": 0,
              "ticks": ""
             }
            },
            "type": "scatter3d"
           }
          ],
          "scattercarpet": [
           {
            "marker": {
             "colorbar": {
              "outlinewidth": 0,
              "ticks": ""
             }
            },
            "type": "scattercarpet"
           }
          ],
          "scattergeo": [
           {
            "marker": {
             "colorbar": {
              "outlinewidth": 0,
              "ticks": ""
             }
            },
            "type": "scattergeo"
           }
          ],
          "scattergl": [
           {
            "marker": {
             "colorbar": {
              "outlinewidth": 0,
              "ticks": ""
             }
            },
            "type": "scattergl"
           }
          ],
          "scattermap": [
           {
            "marker": {
             "colorbar": {
              "outlinewidth": 0,
              "ticks": ""
             }
            },
            "type": "scattermap"
           }
          ],
          "scattermapbox": [
           {
            "marker": {
             "colorbar": {
              "outlinewidth": 0,
              "ticks": ""
             }
            },
            "type": "scattermapbox"
           }
          ],
          "scatterpolar": [
           {
            "marker": {
             "colorbar": {
              "outlinewidth": 0,
              "ticks": ""
             }
            },
            "type": "scatterpolar"
           }
          ],
          "scatterpolargl": [
           {
            "marker": {
             "colorbar": {
              "outlinewidth": 0,
              "ticks": ""
             }
            },
            "type": "scatterpolargl"
           }
          ],
          "scatterternary": [
           {
            "marker": {
             "colorbar": {
              "outlinewidth": 0,
              "ticks": ""
             }
            },
            "type": "scatterternary"
           }
          ],
          "surface": [
           {
            "colorbar": {
             "outlinewidth": 0,
             "ticks": ""
            },
            "colorscale": [
             [
              0,
              "#0d0887"
             ],
             [
              0.1111111111111111,
              "#46039f"
             ],
             [
              0.2222222222222222,
              "#7201a8"
             ],
             [
              0.3333333333333333,
              "#9c179e"
             ],
             [
              0.4444444444444444,
              "#bd3786"
             ],
             [
              0.5555555555555556,
              "#d8576b"
             ],
             [
              0.6666666666666666,
              "#ed7953"
             ],
             [
              0.7777777777777778,
              "#fb9f3a"
             ],
             [
              0.8888888888888888,
              "#fdca26"
             ],
             [
              1,
              "#f0f921"
             ]
            ],
            "type": "surface"
           }
          ],
          "table": [
           {
            "cells": {
             "fill": {
              "color": "#EBF0F8"
             },
             "line": {
              "color": "white"
             }
            },
            "header": {
             "fill": {
              "color": "#C8D4E3"
             },
             "line": {
              "color": "white"
             }
            },
            "type": "table"
           }
          ]
         },
         "layout": {
          "annotationdefaults": {
           "arrowcolor": "#2a3f5f",
           "arrowhead": 0,
           "arrowwidth": 1
          },
          "autotypenumbers": "strict",
          "coloraxis": {
           "colorbar": {
            "outlinewidth": 0,
            "ticks": ""
           }
          },
          "colorscale": {
           "diverging": [
            [
             0,
             "#8e0152"
            ],
            [
             0.1,
             "#c51b7d"
            ],
            [
             0.2,
             "#de77ae"
            ],
            [
             0.3,
             "#f1b6da"
            ],
            [
             0.4,
             "#fde0ef"
            ],
            [
             0.5,
             "#f7f7f7"
            ],
            [
             0.6,
             "#e6f5d0"
            ],
            [
             0.7,
             "#b8e186"
            ],
            [
             0.8,
             "#7fbc41"
            ],
            [
             0.9,
             "#4d9221"
            ],
            [
             1,
             "#276419"
            ]
           ],
           "sequential": [
            [
             0,
             "#0d0887"
            ],
            [
             0.1111111111111111,
             "#46039f"
            ],
            [
             0.2222222222222222,
             "#7201a8"
            ],
            [
             0.3333333333333333,
             "#9c179e"
            ],
            [
             0.4444444444444444,
             "#bd3786"
            ],
            [
             0.5555555555555556,
             "#d8576b"
            ],
            [
             0.6666666666666666,
             "#ed7953"
            ],
            [
             0.7777777777777778,
             "#fb9f3a"
            ],
            [
             0.8888888888888888,
             "#fdca26"
            ],
            [
             1,
             "#f0f921"
            ]
           ],
           "sequentialminus": [
            [
             0,
             "#0d0887"
            ],
            [
             0.1111111111111111,
             "#46039f"
            ],
            [
             0.2222222222222222,
             "#7201a8"
            ],
            [
             0.3333333333333333,
             "#9c179e"
            ],
            [
             0.4444444444444444,
             "#bd3786"
            ],
            [
             0.5555555555555556,
             "#d8576b"
            ],
            [
             0.6666666666666666,
             "#ed7953"
            ],
            [
             0.7777777777777778,
             "#fb9f3a"
            ],
            [
             0.8888888888888888,
             "#fdca26"
            ],
            [
             1,
             "#f0f921"
            ]
           ]
          },
          "colorway": [
           "#636efa",
           "#EF553B",
           "#00cc96",
           "#ab63fa",
           "#FFA15A",
           "#19d3f3",
           "#FF6692",
           "#B6E880",
           "#FF97FF",
           "#FECB52"
          ],
          "font": {
           "color": "#2a3f5f"
          },
          "geo": {
           "bgcolor": "white",
           "lakecolor": "white",
           "landcolor": "#E5ECF6",
           "showlakes": true,
           "showland": true,
           "subunitcolor": "white"
          },
          "hoverlabel": {
           "align": "left"
          },
          "hovermode": "closest",
          "mapbox": {
           "style": "light"
          },
          "paper_bgcolor": "white",
          "plot_bgcolor": "#E5ECF6",
          "polar": {
           "angularaxis": {
            "gridcolor": "white",
            "linecolor": "white",
            "ticks": ""
           },
           "bgcolor": "#E5ECF6",
           "radialaxis": {
            "gridcolor": "white",
            "linecolor": "white",
            "ticks": ""
           }
          },
          "scene": {
           "xaxis": {
            "backgroundcolor": "#E5ECF6",
            "gridcolor": "white",
            "gridwidth": 2,
            "linecolor": "white",
            "showbackground": true,
            "ticks": "",
            "zerolinecolor": "white"
           },
           "yaxis": {
            "backgroundcolor": "#E5ECF6",
            "gridcolor": "white",
            "gridwidth": 2,
            "linecolor": "white",
            "showbackground": true,
            "ticks": "",
            "zerolinecolor": "white"
           },
           "zaxis": {
            "backgroundcolor": "#E5ECF6",
            "gridcolor": "white",
            "gridwidth": 2,
            "linecolor": "white",
            "showbackground": true,
            "ticks": "",
            "zerolinecolor": "white"
           }
          },
          "shapedefaults": {
           "line": {
            "color": "#2a3f5f"
           }
          },
          "ternary": {
           "aaxis": {
            "gridcolor": "white",
            "linecolor": "white",
            "ticks": ""
           },
           "baxis": {
            "gridcolor": "white",
            "linecolor": "white",
            "ticks": ""
           },
           "bgcolor": "#E5ECF6",
           "caxis": {
            "gridcolor": "white",
            "linecolor": "white",
            "ticks": ""
           }
          },
          "title": {
           "x": 0.05
          },
          "xaxis": {
           "automargin": true,
           "gridcolor": "white",
           "linecolor": "white",
           "ticks": "",
           "title": {
            "standoff": 15
           },
           "zerolinecolor": "white",
           "zerolinewidth": 2
          },
          "yaxis": {
           "automargin": true,
           "gridcolor": "white",
           "linecolor": "white",
           "ticks": "",
           "title": {
            "standoff": 15
           },
           "zerolinecolor": "white",
           "zerolinewidth": 2
          }
         }
        },
        "title": {
         "text": "Optimization History Plot"
        },
        "xaxis": {
         "title": {
          "text": "Trial"
         }
        },
        "yaxis": {
         "title": {
          "text": "Objective Value"
         }
        }
       }
      },
      "text/html": [
       "<div>                        <script type=\"text/javascript\">window.PlotlyConfig = {MathJaxConfig: 'local'};</script>\n",
       "        <script charset=\"utf-8\" src=\"https://cdn.plot.ly/plotly-3.0.1.min.js\"></script>                <div id=\"e39e90ff-6c69-45ab-9c1a-4bf6b6dfe87b\" class=\"plotly-graph-div\" style=\"height:100%; width:100%;\"></div>            <script type=\"text/javascript\">                window.PLOTLYENV=window.PLOTLYENV || {};                                if (document.getElementById(\"e39e90ff-6c69-45ab-9c1a-4bf6b6dfe87b\")) {                    Plotly.newPlot(                        \"e39e90ff-6c69-45ab-9c1a-4bf6b6dfe87b\",                        [{\"mode\":\"markers\",\"name\":\"Objective Value\",\"x\":[0,1,2,3,4,5,6,7,8,9,10,11,12,13,14,15,16,17,18,19,20,21,22,23,24,25,26,27,28,29,30,31,32,33,34,35,36,37,38,39,40,41,42,43,44,45,46,47,48,49],\"y\":[0.0793479028546311,0.0793479028546311,0.0793479028546311,0.415421724319458,6.361350745022831,0.8282738296617987,0.0793479028546311,6.24914347976934,6.361810684204102,0.17650979550655893,6.536756028818556,0.24126300873877268,0.3467551195659892,0.0793479028546311,0.0793479028546311,0.0793479028546311,0.0793479028546311,0.0793479028546311,0.0793479028546311,0.0793479028546311,0.0793479028546311,6.512824058532715,0.13029011350572198,6.508543968200684,0.0793479028546311,6.490295886993408,0.0793479028546311,0.0793479028546311,0.0793479028546311,0.0793479028546311,0.0793479028546311,0.5443209920941997,0.5443209920941997,0.5443209920941997,0.0793479028546311,0.0793479028546311,0.0793479028546311,0.5443209920941997,0.0793479028546311,6.291502827557266,6.091215486436146,6.099819225648569,6.322555425323046,6.05066441767426,0.0793479028546311,0.0793479028546311,0.0793479028546311,0.0793479028546311,0.0793479028546311,0.0793479028546311],\"type\":\"scatter\"},{\"mode\":\"lines\",\"name\":\"Best Value\",\"x\":[0,1,2,3,4,5,6,7,8,9,10,11,12,13,14,15,16,17,18,19,20,21,22,23,24,25,26,27,28,29,30,31,32,33,34,35,36,37,38,39,40,41,42,43,44,45,46,47,48,49],\"y\":[0.0793479028546311,0.0793479028546311,0.0793479028546311,0.0793479028546311,0.0793479028546311,0.0793479028546311,0.0793479028546311,0.0793479028546311,0.0793479028546311,0.0793479028546311,0.0793479028546311,0.0793479028546311,0.0793479028546311,0.0793479028546311,0.0793479028546311,0.0793479028546311,0.0793479028546311,0.0793479028546311,0.0793479028546311,0.0793479028546311,0.0793479028546311,0.0793479028546311,0.0793479028546311,0.0793479028546311,0.0793479028546311,0.0793479028546311,0.0793479028546311,0.0793479028546311,0.0793479028546311,0.0793479028546311,0.0793479028546311,0.0793479028546311,0.0793479028546311,0.0793479028546311,0.0793479028546311,0.0793479028546311,0.0793479028546311,0.0793479028546311,0.0793479028546311,0.0793479028546311,0.0793479028546311,0.0793479028546311,0.0793479028546311,0.0793479028546311,0.0793479028546311,0.0793479028546311,0.0793479028546311,0.0793479028546311,0.0793479028546311,0.0793479028546311],\"type\":\"scatter\"},{\"marker\":{\"color\":\"#cccccc\"},\"mode\":\"markers\",\"name\":\"Infeasible Trial\",\"showlegend\":false,\"x\":[],\"y\":[],\"type\":\"scatter\"}],                        {\"title\":{\"text\":\"Optimization History Plot\"},\"xaxis\":{\"title\":{\"text\":\"Trial\"}},\"yaxis\":{\"title\":{\"text\":\"Objective Value\"}},\"template\":{\"data\":{\"histogram2dcontour\":[{\"type\":\"histogram2dcontour\",\"colorbar\":{\"outlinewidth\":0,\"ticks\":\"\"},\"colorscale\":[[0.0,\"#0d0887\"],[0.1111111111111111,\"#46039f\"],[0.2222222222222222,\"#7201a8\"],[0.3333333333333333,\"#9c179e\"],[0.4444444444444444,\"#bd3786\"],[0.5555555555555556,\"#d8576b\"],[0.6666666666666666,\"#ed7953\"],[0.7777777777777778,\"#fb9f3a\"],[0.8888888888888888,\"#fdca26\"],[1.0,\"#f0f921\"]]}],\"choropleth\":[{\"type\":\"choropleth\",\"colorbar\":{\"outlinewidth\":0,\"ticks\":\"\"}}],\"histogram2d\":[{\"type\":\"histogram2d\",\"colorbar\":{\"outlinewidth\":0,\"ticks\":\"\"},\"colorscale\":[[0.0,\"#0d0887\"],[0.1111111111111111,\"#46039f\"],[0.2222222222222222,\"#7201a8\"],[0.3333333333333333,\"#9c179e\"],[0.4444444444444444,\"#bd3786\"],[0.5555555555555556,\"#d8576b\"],[0.6666666666666666,\"#ed7953\"],[0.7777777777777778,\"#fb9f3a\"],[0.8888888888888888,\"#fdca26\"],[1.0,\"#f0f921\"]]}],\"heatmap\":[{\"type\":\"heatmap\",\"colorbar\":{\"outlinewidth\":0,\"ticks\":\"\"},\"colorscale\":[[0.0,\"#0d0887\"],[0.1111111111111111,\"#46039f\"],[0.2222222222222222,\"#7201a8\"],[0.3333333333333333,\"#9c179e\"],[0.4444444444444444,\"#bd3786\"],[0.5555555555555556,\"#d8576b\"],[0.6666666666666666,\"#ed7953\"],[0.7777777777777778,\"#fb9f3a\"],[0.8888888888888888,\"#fdca26\"],[1.0,\"#f0f921\"]]}],\"contourcarpet\":[{\"type\":\"contourcarpet\",\"colorbar\":{\"outlinewidth\":0,\"ticks\":\"\"}}],\"contour\":[{\"type\":\"contour\",\"colorbar\":{\"outlinewidth\":0,\"ticks\":\"\"},\"colorscale\":[[0.0,\"#0d0887\"],[0.1111111111111111,\"#46039f\"],[0.2222222222222222,\"#7201a8\"],[0.3333333333333333,\"#9c179e\"],[0.4444444444444444,\"#bd3786\"],[0.5555555555555556,\"#d8576b\"],[0.6666666666666666,\"#ed7953\"],[0.7777777777777778,\"#fb9f3a\"],[0.8888888888888888,\"#fdca26\"],[1.0,\"#f0f921\"]]}],\"surface\":[{\"type\":\"surface\",\"colorbar\":{\"outlinewidth\":0,\"ticks\":\"\"},\"colorscale\":[[0.0,\"#0d0887\"],[0.1111111111111111,\"#46039f\"],[0.2222222222222222,\"#7201a8\"],[0.3333333333333333,\"#9c179e\"],[0.4444444444444444,\"#bd3786\"],[0.5555555555555556,\"#d8576b\"],[0.6666666666666666,\"#ed7953\"],[0.7777777777777778,\"#fb9f3a\"],[0.8888888888888888,\"#fdca26\"],[1.0,\"#f0f921\"]]}],\"mesh3d\":[{\"type\":\"mesh3d\",\"colorbar\":{\"outlinewidth\":0,\"ticks\":\"\"}}],\"scatter\":[{\"fillpattern\":{\"fillmode\":\"overlay\",\"size\":10,\"solidity\":0.2},\"type\":\"scatter\"}],\"parcoords\":[{\"type\":\"parcoords\",\"line\":{\"colorbar\":{\"outlinewidth\":0,\"ticks\":\"\"}}}],\"scatterpolargl\":[{\"type\":\"scatterpolargl\",\"marker\":{\"colorbar\":{\"outlinewidth\":0,\"ticks\":\"\"}}}],\"bar\":[{\"error_x\":{\"color\":\"#2a3f5f\"},\"error_y\":{\"color\":\"#2a3f5f\"},\"marker\":{\"line\":{\"color\":\"#E5ECF6\",\"width\":0.5},\"pattern\":{\"fillmode\":\"overlay\",\"size\":10,\"solidity\":0.2}},\"type\":\"bar\"}],\"scattergeo\":[{\"type\":\"scattergeo\",\"marker\":{\"colorbar\":{\"outlinewidth\":0,\"ticks\":\"\"}}}],\"scatterpolar\":[{\"type\":\"scatterpolar\",\"marker\":{\"colorbar\":{\"outlinewidth\":0,\"ticks\":\"\"}}}],\"histogram\":[{\"marker\":{\"pattern\":{\"fillmode\":\"overlay\",\"size\":10,\"solidity\":0.2}},\"type\":\"histogram\"}],\"scattergl\":[{\"type\":\"scattergl\",\"marker\":{\"colorbar\":{\"outlinewidth\":0,\"ticks\":\"\"}}}],\"scatter3d\":[{\"type\":\"scatter3d\",\"line\":{\"colorbar\":{\"outlinewidth\":0,\"ticks\":\"\"}},\"marker\":{\"colorbar\":{\"outlinewidth\":0,\"ticks\":\"\"}}}],\"scattermap\":[{\"type\":\"scattermap\",\"marker\":{\"colorbar\":{\"outlinewidth\":0,\"ticks\":\"\"}}}],\"scattermapbox\":[{\"type\":\"scattermapbox\",\"marker\":{\"colorbar\":{\"outlinewidth\":0,\"ticks\":\"\"}}}],\"scatterternary\":[{\"type\":\"scatterternary\",\"marker\":{\"colorbar\":{\"outlinewidth\":0,\"ticks\":\"\"}}}],\"scattercarpet\":[{\"type\":\"scattercarpet\",\"marker\":{\"colorbar\":{\"outlinewidth\":0,\"ticks\":\"\"}}}],\"carpet\":[{\"aaxis\":{\"endlinecolor\":\"#2a3f5f\",\"gridcolor\":\"white\",\"linecolor\":\"white\",\"minorgridcolor\":\"white\",\"startlinecolor\":\"#2a3f5f\"},\"baxis\":{\"endlinecolor\":\"#2a3f5f\",\"gridcolor\":\"white\",\"linecolor\":\"white\",\"minorgridcolor\":\"white\",\"startlinecolor\":\"#2a3f5f\"},\"type\":\"carpet\"}],\"table\":[{\"cells\":{\"fill\":{\"color\":\"#EBF0F8\"},\"line\":{\"color\":\"white\"}},\"header\":{\"fill\":{\"color\":\"#C8D4E3\"},\"line\":{\"color\":\"white\"}},\"type\":\"table\"}],\"barpolar\":[{\"marker\":{\"line\":{\"color\":\"#E5ECF6\",\"width\":0.5},\"pattern\":{\"fillmode\":\"overlay\",\"size\":10,\"solidity\":0.2}},\"type\":\"barpolar\"}],\"pie\":[{\"automargin\":true,\"type\":\"pie\"}]},\"layout\":{\"autotypenumbers\":\"strict\",\"colorway\":[\"#636efa\",\"#EF553B\",\"#00cc96\",\"#ab63fa\",\"#FFA15A\",\"#19d3f3\",\"#FF6692\",\"#B6E880\",\"#FF97FF\",\"#FECB52\"],\"font\":{\"color\":\"#2a3f5f\"},\"hovermode\":\"closest\",\"hoverlabel\":{\"align\":\"left\"},\"paper_bgcolor\":\"white\",\"plot_bgcolor\":\"#E5ECF6\",\"polar\":{\"bgcolor\":\"#E5ECF6\",\"angularaxis\":{\"gridcolor\":\"white\",\"linecolor\":\"white\",\"ticks\":\"\"},\"radialaxis\":{\"gridcolor\":\"white\",\"linecolor\":\"white\",\"ticks\":\"\"}},\"ternary\":{\"bgcolor\":\"#E5ECF6\",\"aaxis\":{\"gridcolor\":\"white\",\"linecolor\":\"white\",\"ticks\":\"\"},\"baxis\":{\"gridcolor\":\"white\",\"linecolor\":\"white\",\"ticks\":\"\"},\"caxis\":{\"gridcolor\":\"white\",\"linecolor\":\"white\",\"ticks\":\"\"}},\"coloraxis\":{\"colorbar\":{\"outlinewidth\":0,\"ticks\":\"\"}},\"colorscale\":{\"sequential\":[[0.0,\"#0d0887\"],[0.1111111111111111,\"#46039f\"],[0.2222222222222222,\"#7201a8\"],[0.3333333333333333,\"#9c179e\"],[0.4444444444444444,\"#bd3786\"],[0.5555555555555556,\"#d8576b\"],[0.6666666666666666,\"#ed7953\"],[0.7777777777777778,\"#fb9f3a\"],[0.8888888888888888,\"#fdca26\"],[1.0,\"#f0f921\"]],\"sequentialminus\":[[0.0,\"#0d0887\"],[0.1111111111111111,\"#46039f\"],[0.2222222222222222,\"#7201a8\"],[0.3333333333333333,\"#9c179e\"],[0.4444444444444444,\"#bd3786\"],[0.5555555555555556,\"#d8576b\"],[0.6666666666666666,\"#ed7953\"],[0.7777777777777778,\"#fb9f3a\"],[0.8888888888888888,\"#fdca26\"],[1.0,\"#f0f921\"]],\"diverging\":[[0,\"#8e0152\"],[0.1,\"#c51b7d\"],[0.2,\"#de77ae\"],[0.3,\"#f1b6da\"],[0.4,\"#fde0ef\"],[0.5,\"#f7f7f7\"],[0.6,\"#e6f5d0\"],[0.7,\"#b8e186\"],[0.8,\"#7fbc41\"],[0.9,\"#4d9221\"],[1,\"#276419\"]]},\"xaxis\":{\"gridcolor\":\"white\",\"linecolor\":\"white\",\"ticks\":\"\",\"title\":{\"standoff\":15},\"zerolinecolor\":\"white\",\"automargin\":true,\"zerolinewidth\":2},\"yaxis\":{\"gridcolor\":\"white\",\"linecolor\":\"white\",\"ticks\":\"\",\"title\":{\"standoff\":15},\"zerolinecolor\":\"white\",\"automargin\":true,\"zerolinewidth\":2},\"scene\":{\"xaxis\":{\"backgroundcolor\":\"#E5ECF6\",\"gridcolor\":\"white\",\"linecolor\":\"white\",\"showbackground\":true,\"ticks\":\"\",\"zerolinecolor\":\"white\",\"gridwidth\":2},\"yaxis\":{\"backgroundcolor\":\"#E5ECF6\",\"gridcolor\":\"white\",\"linecolor\":\"white\",\"showbackground\":true,\"ticks\":\"\",\"zerolinecolor\":\"white\",\"gridwidth\":2},\"zaxis\":{\"backgroundcolor\":\"#E5ECF6\",\"gridcolor\":\"white\",\"linecolor\":\"white\",\"showbackground\":true,\"ticks\":\"\",\"zerolinecolor\":\"white\",\"gridwidth\":2}},\"shapedefaults\":{\"line\":{\"color\":\"#2a3f5f\"}},\"annotationdefaults\":{\"arrowcolor\":\"#2a3f5f\",\"arrowhead\":0,\"arrowwidth\":1},\"geo\":{\"bgcolor\":\"white\",\"landcolor\":\"#E5ECF6\",\"subunitcolor\":\"white\",\"showland\":true,\"showlakes\":true,\"lakecolor\":\"white\"},\"title\":{\"x\":0.05},\"mapbox\":{\"style\":\"light\"}}}},                        {\"responsive\": true}                    )                };            </script>        </div>"
      ],
      "text/plain": [
       "Figure({\n",
       "    'data': [{'mode': 'markers',\n",
       "              'name': 'Objective Value',\n",
       "              'type': 'scatter',\n",
       "              'x': [0, 1, 2, 3, 4, 5, 6, 7, 8, 9, 10, 11, 12, 13, 14, 15, 16, 17,\n",
       "                    18, 19, 20, 21, 22, 23, 24, 25, 26, 27, 28, 29, 30, 31, 32, 33,\n",
       "                    34, 35, 36, 37, 38, 39, 40, 41, 42, 43, 44, 45, 46, 47, 48, 49],\n",
       "              'y': [0.0793479028546311, 0.0793479028546311, 0.0793479028546311,\n",
       "                    0.415421724319458, 6.361350745022831, 0.8282738296617987,\n",
       "                    0.0793479028546311, 6.24914347976934, 6.361810684204102,\n",
       "                    0.17650979550655893, 6.536756028818556, 0.24126300873877268,\n",
       "                    0.3467551195659892, 0.0793479028546311, 0.0793479028546311,\n",
       "                    0.0793479028546311, 0.0793479028546311, 0.0793479028546311,\n",
       "                    0.0793479028546311, 0.0793479028546311, 0.0793479028546311,\n",
       "                    6.512824058532715, 0.13029011350572198, 6.508543968200684,\n",
       "                    0.0793479028546311, 6.490295886993408, 0.0793479028546311,\n",
       "                    0.0793479028546311, 0.0793479028546311, 0.0793479028546311,\n",
       "                    0.0793479028546311, 0.5443209920941997, 0.5443209920941997,\n",
       "                    0.5443209920941997, 0.0793479028546311, 0.0793479028546311,\n",
       "                    0.0793479028546311, 0.5443209920941997, 0.0793479028546311,\n",
       "                    6.291502827557266, 6.091215486436146, 6.099819225648569,\n",
       "                    6.322555425323046, 6.05066441767426, 0.0793479028546311,\n",
       "                    0.0793479028546311, 0.0793479028546311, 0.0793479028546311,\n",
       "                    0.0793479028546311, 0.0793479028546311]},\n",
       "             {'mode': 'lines',\n",
       "              'name': 'Best Value',\n",
       "              'type': 'scatter',\n",
       "              'x': [0, 1, 2, 3, 4, 5, 6, 7, 8, 9, 10, 11, 12, 13, 14, 15, 16, 17,\n",
       "                    18, 19, 20, 21, 22, 23, 24, 25, 26, 27, 28, 29, 30, 31, 32, 33,\n",
       "                    34, 35, 36, 37, 38, 39, 40, 41, 42, 43, 44, 45, 46, 47, 48, 49],\n",
       "              'y': [0.0793479028546311, 0.0793479028546311, 0.0793479028546311,\n",
       "                    0.0793479028546311, 0.0793479028546311, 0.0793479028546311,\n",
       "                    0.0793479028546311, 0.0793479028546311, 0.0793479028546311,\n",
       "                    0.0793479028546311, 0.0793479028546311, 0.0793479028546311,\n",
       "                    0.0793479028546311, 0.0793479028546311, 0.0793479028546311,\n",
       "                    0.0793479028546311, 0.0793479028546311, 0.0793479028546311,\n",
       "                    0.0793479028546311, 0.0793479028546311, 0.0793479028546311,\n",
       "                    0.0793479028546311, 0.0793479028546311, 0.0793479028546311,\n",
       "                    0.0793479028546311, 0.0793479028546311, 0.0793479028546311,\n",
       "                    0.0793479028546311, 0.0793479028546311, 0.0793479028546311,\n",
       "                    0.0793479028546311, 0.0793479028546311, 0.0793479028546311,\n",
       "                    0.0793479028546311, 0.0793479028546311, 0.0793479028546311,\n",
       "                    0.0793479028546311, 0.0793479028546311, 0.0793479028546311,\n",
       "                    0.0793479028546311, 0.0793479028546311, 0.0793479028546311,\n",
       "                    0.0793479028546311, 0.0793479028546311, 0.0793479028546311,\n",
       "                    0.0793479028546311, 0.0793479028546311, 0.0793479028546311,\n",
       "                    0.0793479028546311, 0.0793479028546311]},\n",
       "             {'marker': {'color': '#cccccc'},\n",
       "              'mode': 'markers',\n",
       "              'name': 'Infeasible Trial',\n",
       "              'showlegend': False,\n",
       "              'type': 'scatter',\n",
       "              'x': [],\n",
       "              'y': []}],\n",
       "    'layout': {'template': '...',\n",
       "               'title': {'text': 'Optimization History Plot'},\n",
       "               'xaxis': {'title': {'text': 'Trial'}},\n",
       "               'yaxis': {'title': {'text': 'Objective Value'}}}\n",
       "})"
      ]
     },
     "execution_count": 27,
     "metadata": {},
     "output_type": "execute_result"
    }
   ],
   "source": [
    "plot_optimization_history(study)"
   ]
  },
  {
   "cell_type": "code",
   "execution_count": 28,
   "metadata": {},
   "outputs": [
    {
     "ename": "ValueError",
     "evalue": "Mime type rendering requires nbformat>=4.2.0 but it is not installed",
     "output_type": "error",
     "traceback": [
      "\u001b[31m---------------------------------------------------------------------------\u001b[39m",
      "\u001b[31mValueError\u001b[39m                                Traceback (most recent call last)",
      "\u001b[36mFile \u001b[39m\u001b[32mc:\\Users\\hi\\AppData\\Local\\Programs\\Python\\Python313\\Lib\\site-packages\\IPython\\core\\formatters.py:984\u001b[39m, in \u001b[36mIPythonDisplayFormatter.__call__\u001b[39m\u001b[34m(self, obj)\u001b[39m\n\u001b[32m    982\u001b[39m method = get_real_method(obj, \u001b[38;5;28mself\u001b[39m.print_method)\n\u001b[32m    983\u001b[39m \u001b[38;5;28;01mif\u001b[39;00m method \u001b[38;5;129;01mis\u001b[39;00m \u001b[38;5;129;01mnot\u001b[39;00m \u001b[38;5;28;01mNone\u001b[39;00m:\n\u001b[32m--> \u001b[39m\u001b[32m984\u001b[39m     \u001b[43mmethod\u001b[49m\u001b[43m(\u001b[49m\u001b[43m)\u001b[49m\n\u001b[32m    985\u001b[39m     \u001b[38;5;28;01mreturn\u001b[39;00m \u001b[38;5;28;01mTrue\u001b[39;00m\n",
      "\u001b[36mFile \u001b[39m\u001b[32mc:\\Users\\hi\\AppData\\Local\\Programs\\Python\\Python313\\Lib\\site-packages\\plotly\\basedatatypes.py:833\u001b[39m, in \u001b[36mBaseFigure._ipython_display_\u001b[39m\u001b[34m(self)\u001b[39m\n\u001b[32m    830\u001b[39m \u001b[38;5;28;01mimport\u001b[39;00m\u001b[38;5;250m \u001b[39m\u001b[34;01mplotly\u001b[39;00m\u001b[34;01m.\u001b[39;00m\u001b[34;01mio\u001b[39;00m\u001b[38;5;250m \u001b[39m\u001b[38;5;28;01mas\u001b[39;00m\u001b[38;5;250m \u001b[39m\u001b[34;01mpio\u001b[39;00m\n\u001b[32m    832\u001b[39m \u001b[38;5;28;01mif\u001b[39;00m pio.renderers.render_on_display \u001b[38;5;129;01mand\u001b[39;00m pio.renderers.default:\n\u001b[32m--> \u001b[39m\u001b[32m833\u001b[39m     \u001b[43mpio\u001b[49m\u001b[43m.\u001b[49m\u001b[43mshow\u001b[49m\u001b[43m(\u001b[49m\u001b[38;5;28;43mself\u001b[39;49m\u001b[43m)\u001b[49m\n\u001b[32m    834\u001b[39m \u001b[38;5;28;01melse\u001b[39;00m:\n\u001b[32m    835\u001b[39m     \u001b[38;5;28mprint\u001b[39m(\u001b[38;5;28mrepr\u001b[39m(\u001b[38;5;28mself\u001b[39m))\n",
      "\u001b[36mFile \u001b[39m\u001b[32mc:\\Users\\hi\\AppData\\Local\\Programs\\Python\\Python313\\Lib\\site-packages\\plotly\\io\\_renderers.py:425\u001b[39m, in \u001b[36mshow\u001b[39m\u001b[34m(fig, renderer, validate, **kwargs)\u001b[39m\n\u001b[32m    420\u001b[39m     \u001b[38;5;28;01mraise\u001b[39;00m \u001b[38;5;167;01mValueError\u001b[39;00m(\n\u001b[32m    421\u001b[39m         \u001b[33m\"\u001b[39m\u001b[33mMime type rendering requires ipython but it is not installed\u001b[39m\u001b[33m\"\u001b[39m\n\u001b[32m    422\u001b[39m     )\n\u001b[32m    424\u001b[39m \u001b[38;5;28;01mif\u001b[39;00m \u001b[38;5;129;01mnot\u001b[39;00m nbformat \u001b[38;5;129;01mor\u001b[39;00m Version(nbformat.__version__) < Version(\u001b[33m\"\u001b[39m\u001b[33m4.2.0\u001b[39m\u001b[33m\"\u001b[39m):\n\u001b[32m--> \u001b[39m\u001b[32m425\u001b[39m     \u001b[38;5;28;01mraise\u001b[39;00m \u001b[38;5;167;01mValueError\u001b[39;00m(\n\u001b[32m    426\u001b[39m         \u001b[33m\"\u001b[39m\u001b[33mMime type rendering requires nbformat>=4.2.0 but it is not installed\u001b[39m\u001b[33m\"\u001b[39m\n\u001b[32m    427\u001b[39m     )\n\u001b[32m    429\u001b[39m display_jupyter_version_warnings()\n\u001b[32m    431\u001b[39m ipython_display.display(bundle, raw=\u001b[38;5;28;01mTrue\u001b[39;00m)\n",
      "\u001b[31mValueError\u001b[39m: Mime type rendering requires nbformat>=4.2.0 but it is not installed"
     ]
    },
    {
     "data": {
      "application/vnd.plotly.v1+json": {
       "config": {
        "plotlyServerURL": "https://plot.ly"
       },
       "data": [
        {
         "dimensions": [
          {
           "label": "Objective Value",
           "range": [
            0.0793479028546311,
            6.536756028818556
           ],
           "values": [
            0.0793479028546311,
            0.0793479028546311,
            0.0793479028546311,
            0.415421724319458,
            6.361350745022831,
            0.8282738296617987,
            0.0793479028546311,
            6.24914347976934,
            6.361810684204102,
            0.17650979550655893,
            6.536756028818556,
            0.24126300873877268,
            0.3467551195659892,
            0.0793479028546311,
            0.0793479028546311,
            0.0793479028546311,
            0.0793479028546311,
            0.0793479028546311,
            0.0793479028546311,
            0.0793479028546311,
            0.0793479028546311,
            6.512824058532715,
            0.13029011350572198,
            6.508543968200684,
            0.0793479028546311,
            6.490295886993408,
            0.0793479028546311,
            0.0793479028546311,
            0.0793479028546311,
            0.0793479028546311,
            0.0793479028546311,
            0.5443209920941997,
            0.5443209920941997,
            0.5443209920941997,
            0.0793479028546311,
            0.0793479028546311,
            0.0793479028546311,
            0.5443209920941997,
            0.0793479028546311,
            6.291502827557266,
            6.091215486436146,
            6.099819225648569,
            6.322555425323046,
            6.05066441767426,
            0.0793479028546311,
            0.0793479028546311,
            0.0793479028546311,
            0.0793479028546311,
            0.0793479028546311,
            0.0793479028546311
           ]
          },
          {
           "label": "model_name",
           "range": [
            0,
            3
           ],
           "ticktext": [
            "LR",
            "XGBR",
            "GBR",
            "RF"
           ],
           "tickvals": [
            0,
            1,
            2,
            3
           ],
           "values": [
            0,
            0,
            0,
            1,
            2,
            2,
            0,
            2,
            1,
            3,
            2,
            2,
            3,
            0,
            0,
            0,
            0,
            0,
            0,
            0,
            0,
            1,
            3,
            1,
            0,
            1,
            0,
            0,
            0,
            0,
            0,
            3,
            3,
            3,
            0,
            0,
            0,
            3,
            0,
            2,
            2,
            2,
            2,
            2,
            0,
            0,
            0,
            0,
            0,
            0
           ]
          }
         ],
         "labelangle": 30,
         "labelside": "bottom",
         "line": {
          "color": [
           0.0793479028546311,
           0.0793479028546311,
           0.0793479028546311,
           0.415421724319458,
           6.361350745022831,
           0.8282738296617987,
           0.0793479028546311,
           6.24914347976934,
           6.361810684204102,
           0.17650979550655893,
           6.536756028818556,
           0.24126300873877268,
           0.3467551195659892,
           0.0793479028546311,
           0.0793479028546311,
           0.0793479028546311,
           0.0793479028546311,
           0.0793479028546311,
           0.0793479028546311,
           0.0793479028546311,
           0.0793479028546311,
           6.512824058532715,
           0.13029011350572198,
           6.508543968200684,
           0.0793479028546311,
           6.490295886993408,
           0.0793479028546311,
           0.0793479028546311,
           0.0793479028546311,
           0.0793479028546311,
           0.0793479028546311,
           0.5443209920941997,
           0.5443209920941997,
           0.5443209920941997,
           0.0793479028546311,
           0.0793479028546311,
           0.0793479028546311,
           0.5443209920941997,
           0.0793479028546311,
           6.291502827557266,
           6.091215486436146,
           6.099819225648569,
           6.322555425323046,
           6.05066441767426,
           0.0793479028546311,
           0.0793479028546311,
           0.0793479028546311,
           0.0793479028546311,
           0.0793479028546311,
           0.0793479028546311
          ],
          "colorbar": {
           "title": {
            "text": "Objective Value"
           }
          },
          "colorscale": [
           [
            0,
            "rgb(247,251,255)"
           ],
           [
            0.125,
            "rgb(222,235,247)"
           ],
           [
            0.25,
            "rgb(198,219,239)"
           ],
           [
            0.375,
            "rgb(158,202,225)"
           ],
           [
            0.5,
            "rgb(107,174,214)"
           ],
           [
            0.625,
            "rgb(66,146,198)"
           ],
           [
            0.75,
            "rgb(33,113,181)"
           ],
           [
            0.875,
            "rgb(8,81,156)"
           ],
           [
            1,
            "rgb(8,48,107)"
           ]
          ],
          "reversescale": true,
          "showscale": true
         },
         "type": "parcoords"
        }
       ],
       "layout": {
        "template": {
         "data": {
          "bar": [
           {
            "error_x": {
             "color": "#2a3f5f"
            },
            "error_y": {
             "color": "#2a3f5f"
            },
            "marker": {
             "line": {
              "color": "#E5ECF6",
              "width": 0.5
             },
             "pattern": {
              "fillmode": "overlay",
              "size": 10,
              "solidity": 0.2
             }
            },
            "type": "bar"
           }
          ],
          "barpolar": [
           {
            "marker": {
             "line": {
              "color": "#E5ECF6",
              "width": 0.5
             },
             "pattern": {
              "fillmode": "overlay",
              "size": 10,
              "solidity": 0.2
             }
            },
            "type": "barpolar"
           }
          ],
          "carpet": [
           {
            "aaxis": {
             "endlinecolor": "#2a3f5f",
             "gridcolor": "white",
             "linecolor": "white",
             "minorgridcolor": "white",
             "startlinecolor": "#2a3f5f"
            },
            "baxis": {
             "endlinecolor": "#2a3f5f",
             "gridcolor": "white",
             "linecolor": "white",
             "minorgridcolor": "white",
             "startlinecolor": "#2a3f5f"
            },
            "type": "carpet"
           }
          ],
          "choropleth": [
           {
            "colorbar": {
             "outlinewidth": 0,
             "ticks": ""
            },
            "type": "choropleth"
           }
          ],
          "contour": [
           {
            "colorbar": {
             "outlinewidth": 0,
             "ticks": ""
            },
            "colorscale": [
             [
              0,
              "#0d0887"
             ],
             [
              0.1111111111111111,
              "#46039f"
             ],
             [
              0.2222222222222222,
              "#7201a8"
             ],
             [
              0.3333333333333333,
              "#9c179e"
             ],
             [
              0.4444444444444444,
              "#bd3786"
             ],
             [
              0.5555555555555556,
              "#d8576b"
             ],
             [
              0.6666666666666666,
              "#ed7953"
             ],
             [
              0.7777777777777778,
              "#fb9f3a"
             ],
             [
              0.8888888888888888,
              "#fdca26"
             ],
             [
              1,
              "#f0f921"
             ]
            ],
            "type": "contour"
           }
          ],
          "contourcarpet": [
           {
            "colorbar": {
             "outlinewidth": 0,
             "ticks": ""
            },
            "type": "contourcarpet"
           }
          ],
          "heatmap": [
           {
            "colorbar": {
             "outlinewidth": 0,
             "ticks": ""
            },
            "colorscale": [
             [
              0,
              "#0d0887"
             ],
             [
              0.1111111111111111,
              "#46039f"
             ],
             [
              0.2222222222222222,
              "#7201a8"
             ],
             [
              0.3333333333333333,
              "#9c179e"
             ],
             [
              0.4444444444444444,
              "#bd3786"
             ],
             [
              0.5555555555555556,
              "#d8576b"
             ],
             [
              0.6666666666666666,
              "#ed7953"
             ],
             [
              0.7777777777777778,
              "#fb9f3a"
             ],
             [
              0.8888888888888888,
              "#fdca26"
             ],
             [
              1,
              "#f0f921"
             ]
            ],
            "type": "heatmap"
           }
          ],
          "histogram": [
           {
            "marker": {
             "pattern": {
              "fillmode": "overlay",
              "size": 10,
              "solidity": 0.2
             }
            },
            "type": "histogram"
           }
          ],
          "histogram2d": [
           {
            "colorbar": {
             "outlinewidth": 0,
             "ticks": ""
            },
            "colorscale": [
             [
              0,
              "#0d0887"
             ],
             [
              0.1111111111111111,
              "#46039f"
             ],
             [
              0.2222222222222222,
              "#7201a8"
             ],
             [
              0.3333333333333333,
              "#9c179e"
             ],
             [
              0.4444444444444444,
              "#bd3786"
             ],
             [
              0.5555555555555556,
              "#d8576b"
             ],
             [
              0.6666666666666666,
              "#ed7953"
             ],
             [
              0.7777777777777778,
              "#fb9f3a"
             ],
             [
              0.8888888888888888,
              "#fdca26"
             ],
             [
              1,
              "#f0f921"
             ]
            ],
            "type": "histogram2d"
           }
          ],
          "histogram2dcontour": [
           {
            "colorbar": {
             "outlinewidth": 0,
             "ticks": ""
            },
            "colorscale": [
             [
              0,
              "#0d0887"
             ],
             [
              0.1111111111111111,
              "#46039f"
             ],
             [
              0.2222222222222222,
              "#7201a8"
             ],
             [
              0.3333333333333333,
              "#9c179e"
             ],
             [
              0.4444444444444444,
              "#bd3786"
             ],
             [
              0.5555555555555556,
              "#d8576b"
             ],
             [
              0.6666666666666666,
              "#ed7953"
             ],
             [
              0.7777777777777778,
              "#fb9f3a"
             ],
             [
              0.8888888888888888,
              "#fdca26"
             ],
             [
              1,
              "#f0f921"
             ]
            ],
            "type": "histogram2dcontour"
           }
          ],
          "mesh3d": [
           {
            "colorbar": {
             "outlinewidth": 0,
             "ticks": ""
            },
            "type": "mesh3d"
           }
          ],
          "parcoords": [
           {
            "line": {
             "colorbar": {
              "outlinewidth": 0,
              "ticks": ""
             }
            },
            "type": "parcoords"
           }
          ],
          "pie": [
           {
            "automargin": true,
            "type": "pie"
           }
          ],
          "scatter": [
           {
            "fillpattern": {
             "fillmode": "overlay",
             "size": 10,
             "solidity": 0.2
            },
            "type": "scatter"
           }
          ],
          "scatter3d": [
           {
            "line": {
             "colorbar": {
              "outlinewidth": 0,
              "ticks": ""
             }
            },
            "marker": {
             "colorbar": {
              "outlinewidth": 0,
              "ticks": ""
             }
            },
            "type": "scatter3d"
           }
          ],
          "scattercarpet": [
           {
            "marker": {
             "colorbar": {
              "outlinewidth": 0,
              "ticks": ""
             }
            },
            "type": "scattercarpet"
           }
          ],
          "scattergeo": [
           {
            "marker": {
             "colorbar": {
              "outlinewidth": 0,
              "ticks": ""
             }
            },
            "type": "scattergeo"
           }
          ],
          "scattergl": [
           {
            "marker": {
             "colorbar": {
              "outlinewidth": 0,
              "ticks": ""
             }
            },
            "type": "scattergl"
           }
          ],
          "scattermap": [
           {
            "marker": {
             "colorbar": {
              "outlinewidth": 0,
              "ticks": ""
             }
            },
            "type": "scattermap"
           }
          ],
          "scattermapbox": [
           {
            "marker": {
             "colorbar": {
              "outlinewidth": 0,
              "ticks": ""
             }
            },
            "type": "scattermapbox"
           }
          ],
          "scatterpolar": [
           {
            "marker": {
             "colorbar": {
              "outlinewidth": 0,
              "ticks": ""
             }
            },
            "type": "scatterpolar"
           }
          ],
          "scatterpolargl": [
           {
            "marker": {
             "colorbar": {
              "outlinewidth": 0,
              "ticks": ""
             }
            },
            "type": "scatterpolargl"
           }
          ],
          "scatterternary": [
           {
            "marker": {
             "colorbar": {
              "outlinewidth": 0,
              "ticks": ""
             }
            },
            "type": "scatterternary"
           }
          ],
          "surface": [
           {
            "colorbar": {
             "outlinewidth": 0,
             "ticks": ""
            },
            "colorscale": [
             [
              0,
              "#0d0887"
             ],
             [
              0.1111111111111111,
              "#46039f"
             ],
             [
              0.2222222222222222,
              "#7201a8"
             ],
             [
              0.3333333333333333,
              "#9c179e"
             ],
             [
              0.4444444444444444,
              "#bd3786"
             ],
             [
              0.5555555555555556,
              "#d8576b"
             ],
             [
              0.6666666666666666,
              "#ed7953"
             ],
             [
              0.7777777777777778,
              "#fb9f3a"
             ],
             [
              0.8888888888888888,
              "#fdca26"
             ],
             [
              1,
              "#f0f921"
             ]
            ],
            "type": "surface"
           }
          ],
          "table": [
           {
            "cells": {
             "fill": {
              "color": "#EBF0F8"
             },
             "line": {
              "color": "white"
             }
            },
            "header": {
             "fill": {
              "color": "#C8D4E3"
             },
             "line": {
              "color": "white"
             }
            },
            "type": "table"
           }
          ]
         },
         "layout": {
          "annotationdefaults": {
           "arrowcolor": "#2a3f5f",
           "arrowhead": 0,
           "arrowwidth": 1
          },
          "autotypenumbers": "strict",
          "coloraxis": {
           "colorbar": {
            "outlinewidth": 0,
            "ticks": ""
           }
          },
          "colorscale": {
           "diverging": [
            [
             0,
             "#8e0152"
            ],
            [
             0.1,
             "#c51b7d"
            ],
            [
             0.2,
             "#de77ae"
            ],
            [
             0.3,
             "#f1b6da"
            ],
            [
             0.4,
             "#fde0ef"
            ],
            [
             0.5,
             "#f7f7f7"
            ],
            [
             0.6,
             "#e6f5d0"
            ],
            [
             0.7,
             "#b8e186"
            ],
            [
             0.8,
             "#7fbc41"
            ],
            [
             0.9,
             "#4d9221"
            ],
            [
             1,
             "#276419"
            ]
           ],
           "sequential": [
            [
             0,
             "#0d0887"
            ],
            [
             0.1111111111111111,
             "#46039f"
            ],
            [
             0.2222222222222222,
             "#7201a8"
            ],
            [
             0.3333333333333333,
             "#9c179e"
            ],
            [
             0.4444444444444444,
             "#bd3786"
            ],
            [
             0.5555555555555556,
             "#d8576b"
            ],
            [
             0.6666666666666666,
             "#ed7953"
            ],
            [
             0.7777777777777778,
             "#fb9f3a"
            ],
            [
             0.8888888888888888,
             "#fdca26"
            ],
            [
             1,
             "#f0f921"
            ]
           ],
           "sequentialminus": [
            [
             0,
             "#0d0887"
            ],
            [
             0.1111111111111111,
             "#46039f"
            ],
            [
             0.2222222222222222,
             "#7201a8"
            ],
            [
             0.3333333333333333,
             "#9c179e"
            ],
            [
             0.4444444444444444,
             "#bd3786"
            ],
            [
             0.5555555555555556,
             "#d8576b"
            ],
            [
             0.6666666666666666,
             "#ed7953"
            ],
            [
             0.7777777777777778,
             "#fb9f3a"
            ],
            [
             0.8888888888888888,
             "#fdca26"
            ],
            [
             1,
             "#f0f921"
            ]
           ]
          },
          "colorway": [
           "#636efa",
           "#EF553B",
           "#00cc96",
           "#ab63fa",
           "#FFA15A",
           "#19d3f3",
           "#FF6692",
           "#B6E880",
           "#FF97FF",
           "#FECB52"
          ],
          "font": {
           "color": "#2a3f5f"
          },
          "geo": {
           "bgcolor": "white",
           "lakecolor": "white",
           "landcolor": "#E5ECF6",
           "showlakes": true,
           "showland": true,
           "subunitcolor": "white"
          },
          "hoverlabel": {
           "align": "left"
          },
          "hovermode": "closest",
          "mapbox": {
           "style": "light"
          },
          "paper_bgcolor": "white",
          "plot_bgcolor": "#E5ECF6",
          "polar": {
           "angularaxis": {
            "gridcolor": "white",
            "linecolor": "white",
            "ticks": ""
           },
           "bgcolor": "#E5ECF6",
           "radialaxis": {
            "gridcolor": "white",
            "linecolor": "white",
            "ticks": ""
           }
          },
          "scene": {
           "xaxis": {
            "backgroundcolor": "#E5ECF6",
            "gridcolor": "white",
            "gridwidth": 2,
            "linecolor": "white",
            "showbackground": true,
            "ticks": "",
            "zerolinecolor": "white"
           },
           "yaxis": {
            "backgroundcolor": "#E5ECF6",
            "gridcolor": "white",
            "gridwidth": 2,
            "linecolor": "white",
            "showbackground": true,
            "ticks": "",
            "zerolinecolor": "white"
           },
           "zaxis": {
            "backgroundcolor": "#E5ECF6",
            "gridcolor": "white",
            "gridwidth": 2,
            "linecolor": "white",
            "showbackground": true,
            "ticks": "",
            "zerolinecolor": "white"
           }
          },
          "shapedefaults": {
           "line": {
            "color": "#2a3f5f"
           }
          },
          "ternary": {
           "aaxis": {
            "gridcolor": "white",
            "linecolor": "white",
            "ticks": ""
           },
           "baxis": {
            "gridcolor": "white",
            "linecolor": "white",
            "ticks": ""
           },
           "bgcolor": "#E5ECF6",
           "caxis": {
            "gridcolor": "white",
            "linecolor": "white",
            "ticks": ""
           }
          },
          "title": {
           "x": 0.05
          },
          "xaxis": {
           "automargin": true,
           "gridcolor": "white",
           "linecolor": "white",
           "ticks": "",
           "title": {
            "standoff": 15
           },
           "zerolinecolor": "white",
           "zerolinewidth": 2
          },
          "yaxis": {
           "automargin": true,
           "gridcolor": "white",
           "linecolor": "white",
           "ticks": "",
           "title": {
            "standoff": 15
           },
           "zerolinecolor": "white",
           "zerolinewidth": 2
          }
         }
        },
        "title": {
         "text": "Parallel Coordinate Plot"
        }
       }
      },
      "text/html": [
       "<div>                        <script type=\"text/javascript\">window.PlotlyConfig = {MathJaxConfig: 'local'};</script>\n",
       "        <script charset=\"utf-8\" src=\"https://cdn.plot.ly/plotly-3.0.1.min.js\"></script>                <div id=\"38ce4ef2-f9b9-43b8-9dc1-76ebbb6f1800\" class=\"plotly-graph-div\" style=\"height:100%; width:100%;\"></div>            <script type=\"text/javascript\">                window.PLOTLYENV=window.PLOTLYENV || {};                                if (document.getElementById(\"38ce4ef2-f9b9-43b8-9dc1-76ebbb6f1800\")) {                    Plotly.newPlot(                        \"38ce4ef2-f9b9-43b8-9dc1-76ebbb6f1800\",                        [{\"dimensions\":[{\"label\":\"Objective Value\",\"range\":[0.0793479028546311,6.536756028818556],\"values\":[0.0793479028546311,0.0793479028546311,0.0793479028546311,0.415421724319458,6.361350745022831,0.8282738296617987,0.0793479028546311,6.24914347976934,6.361810684204102,0.17650979550655893,6.536756028818556,0.24126300873877268,0.3467551195659892,0.0793479028546311,0.0793479028546311,0.0793479028546311,0.0793479028546311,0.0793479028546311,0.0793479028546311,0.0793479028546311,0.0793479028546311,6.512824058532715,0.13029011350572198,6.508543968200684,0.0793479028546311,6.490295886993408,0.0793479028546311,0.0793479028546311,0.0793479028546311,0.0793479028546311,0.0793479028546311,0.5443209920941997,0.5443209920941997,0.5443209920941997,0.0793479028546311,0.0793479028546311,0.0793479028546311,0.5443209920941997,0.0793479028546311,6.291502827557266,6.091215486436146,6.099819225648569,6.322555425323046,6.05066441767426,0.0793479028546311,0.0793479028546311,0.0793479028546311,0.0793479028546311,0.0793479028546311,0.0793479028546311]},{\"label\":\"model_name\",\"range\":[0,3],\"ticktext\":[\"LR\",\"XGBR\",\"GBR\",\"RF\"],\"tickvals\":[0,1,2,3],\"values\":[0,0,0,1,2,2,0,2,1,3,2,2,3,0,0,0,0,0,0,0,0,1,3,1,0,1,0,0,0,0,0,3,3,3,0,0,0,3,0,2,2,2,2,2,0,0,0,0,0,0]}],\"labelangle\":30,\"labelside\":\"bottom\",\"line\":{\"color\":[0.0793479028546311,0.0793479028546311,0.0793479028546311,0.415421724319458,6.361350745022831,0.8282738296617987,0.0793479028546311,6.24914347976934,6.361810684204102,0.17650979550655893,6.536756028818556,0.24126300873877268,0.3467551195659892,0.0793479028546311,0.0793479028546311,0.0793479028546311,0.0793479028546311,0.0793479028546311,0.0793479028546311,0.0793479028546311,0.0793479028546311,6.512824058532715,0.13029011350572198,6.508543968200684,0.0793479028546311,6.490295886993408,0.0793479028546311,0.0793479028546311,0.0793479028546311,0.0793479028546311,0.0793479028546311,0.5443209920941997,0.5443209920941997,0.5443209920941997,0.0793479028546311,0.0793479028546311,0.0793479028546311,0.5443209920941997,0.0793479028546311,6.291502827557266,6.091215486436146,6.099819225648569,6.322555425323046,6.05066441767426,0.0793479028546311,0.0793479028546311,0.0793479028546311,0.0793479028546311,0.0793479028546311,0.0793479028546311],\"colorbar\":{\"title\":{\"text\":\"Objective Value\"}},\"colorscale\":[[0.0,\"rgb(247,251,255)\"],[0.125,\"rgb(222,235,247)\"],[0.25,\"rgb(198,219,239)\"],[0.375,\"rgb(158,202,225)\"],[0.5,\"rgb(107,174,214)\"],[0.625,\"rgb(66,146,198)\"],[0.75,\"rgb(33,113,181)\"],[0.875,\"rgb(8,81,156)\"],[1.0,\"rgb(8,48,107)\"]],\"reversescale\":true,\"showscale\":true},\"type\":\"parcoords\"}],                        {\"title\":{\"text\":\"Parallel Coordinate Plot\"},\"template\":{\"data\":{\"histogram2dcontour\":[{\"type\":\"histogram2dcontour\",\"colorbar\":{\"outlinewidth\":0,\"ticks\":\"\"},\"colorscale\":[[0.0,\"#0d0887\"],[0.1111111111111111,\"#46039f\"],[0.2222222222222222,\"#7201a8\"],[0.3333333333333333,\"#9c179e\"],[0.4444444444444444,\"#bd3786\"],[0.5555555555555556,\"#d8576b\"],[0.6666666666666666,\"#ed7953\"],[0.7777777777777778,\"#fb9f3a\"],[0.8888888888888888,\"#fdca26\"],[1.0,\"#f0f921\"]]}],\"choropleth\":[{\"type\":\"choropleth\",\"colorbar\":{\"outlinewidth\":0,\"ticks\":\"\"}}],\"histogram2d\":[{\"type\":\"histogram2d\",\"colorbar\":{\"outlinewidth\":0,\"ticks\":\"\"},\"colorscale\":[[0.0,\"#0d0887\"],[0.1111111111111111,\"#46039f\"],[0.2222222222222222,\"#7201a8\"],[0.3333333333333333,\"#9c179e\"],[0.4444444444444444,\"#bd3786\"],[0.5555555555555556,\"#d8576b\"],[0.6666666666666666,\"#ed7953\"],[0.7777777777777778,\"#fb9f3a\"],[0.8888888888888888,\"#fdca26\"],[1.0,\"#f0f921\"]]}],\"heatmap\":[{\"type\":\"heatmap\",\"colorbar\":{\"outlinewidth\":0,\"ticks\":\"\"},\"colorscale\":[[0.0,\"#0d0887\"],[0.1111111111111111,\"#46039f\"],[0.2222222222222222,\"#7201a8\"],[0.3333333333333333,\"#9c179e\"],[0.4444444444444444,\"#bd3786\"],[0.5555555555555556,\"#d8576b\"],[0.6666666666666666,\"#ed7953\"],[0.7777777777777778,\"#fb9f3a\"],[0.8888888888888888,\"#fdca26\"],[1.0,\"#f0f921\"]]}],\"contourcarpet\":[{\"type\":\"contourcarpet\",\"colorbar\":{\"outlinewidth\":0,\"ticks\":\"\"}}],\"contour\":[{\"type\":\"contour\",\"colorbar\":{\"outlinewidth\":0,\"ticks\":\"\"},\"colorscale\":[[0.0,\"#0d0887\"],[0.1111111111111111,\"#46039f\"],[0.2222222222222222,\"#7201a8\"],[0.3333333333333333,\"#9c179e\"],[0.4444444444444444,\"#bd3786\"],[0.5555555555555556,\"#d8576b\"],[0.6666666666666666,\"#ed7953\"],[0.7777777777777778,\"#fb9f3a\"],[0.8888888888888888,\"#fdca26\"],[1.0,\"#f0f921\"]]}],\"surface\":[{\"type\":\"surface\",\"colorbar\":{\"outlinewidth\":0,\"ticks\":\"\"},\"colorscale\":[[0.0,\"#0d0887\"],[0.1111111111111111,\"#46039f\"],[0.2222222222222222,\"#7201a8\"],[0.3333333333333333,\"#9c179e\"],[0.4444444444444444,\"#bd3786\"],[0.5555555555555556,\"#d8576b\"],[0.6666666666666666,\"#ed7953\"],[0.7777777777777778,\"#fb9f3a\"],[0.8888888888888888,\"#fdca26\"],[1.0,\"#f0f921\"]]}],\"mesh3d\":[{\"type\":\"mesh3d\",\"colorbar\":{\"outlinewidth\":0,\"ticks\":\"\"}}],\"scatter\":[{\"fillpattern\":{\"fillmode\":\"overlay\",\"size\":10,\"solidity\":0.2},\"type\":\"scatter\"}],\"parcoords\":[{\"type\":\"parcoords\",\"line\":{\"colorbar\":{\"outlinewidth\":0,\"ticks\":\"\"}}}],\"scatterpolargl\":[{\"type\":\"scatterpolargl\",\"marker\":{\"colorbar\":{\"outlinewidth\":0,\"ticks\":\"\"}}}],\"bar\":[{\"error_x\":{\"color\":\"#2a3f5f\"},\"error_y\":{\"color\":\"#2a3f5f\"},\"marker\":{\"line\":{\"color\":\"#E5ECF6\",\"width\":0.5},\"pattern\":{\"fillmode\":\"overlay\",\"size\":10,\"solidity\":0.2}},\"type\":\"bar\"}],\"scattergeo\":[{\"type\":\"scattergeo\",\"marker\":{\"colorbar\":{\"outlinewidth\":0,\"ticks\":\"\"}}}],\"scatterpolar\":[{\"type\":\"scatterpolar\",\"marker\":{\"colorbar\":{\"outlinewidth\":0,\"ticks\":\"\"}}}],\"histogram\":[{\"marker\":{\"pattern\":{\"fillmode\":\"overlay\",\"size\":10,\"solidity\":0.2}},\"type\":\"histogram\"}],\"scattergl\":[{\"type\":\"scattergl\",\"marker\":{\"colorbar\":{\"outlinewidth\":0,\"ticks\":\"\"}}}],\"scatter3d\":[{\"type\":\"scatter3d\",\"line\":{\"colorbar\":{\"outlinewidth\":0,\"ticks\":\"\"}},\"marker\":{\"colorbar\":{\"outlinewidth\":0,\"ticks\":\"\"}}}],\"scattermap\":[{\"type\":\"scattermap\",\"marker\":{\"colorbar\":{\"outlinewidth\":0,\"ticks\":\"\"}}}],\"scattermapbox\":[{\"type\":\"scattermapbox\",\"marker\":{\"colorbar\":{\"outlinewidth\":0,\"ticks\":\"\"}}}],\"scatterternary\":[{\"type\":\"scatterternary\",\"marker\":{\"colorbar\":{\"outlinewidth\":0,\"ticks\":\"\"}}}],\"scattercarpet\":[{\"type\":\"scattercarpet\",\"marker\":{\"colorbar\":{\"outlinewidth\":0,\"ticks\":\"\"}}}],\"carpet\":[{\"aaxis\":{\"endlinecolor\":\"#2a3f5f\",\"gridcolor\":\"white\",\"linecolor\":\"white\",\"minorgridcolor\":\"white\",\"startlinecolor\":\"#2a3f5f\"},\"baxis\":{\"endlinecolor\":\"#2a3f5f\",\"gridcolor\":\"white\",\"linecolor\":\"white\",\"minorgridcolor\":\"white\",\"startlinecolor\":\"#2a3f5f\"},\"type\":\"carpet\"}],\"table\":[{\"cells\":{\"fill\":{\"color\":\"#EBF0F8\"},\"line\":{\"color\":\"white\"}},\"header\":{\"fill\":{\"color\":\"#C8D4E3\"},\"line\":{\"color\":\"white\"}},\"type\":\"table\"}],\"barpolar\":[{\"marker\":{\"line\":{\"color\":\"#E5ECF6\",\"width\":0.5},\"pattern\":{\"fillmode\":\"overlay\",\"size\":10,\"solidity\":0.2}},\"type\":\"barpolar\"}],\"pie\":[{\"automargin\":true,\"type\":\"pie\"}]},\"layout\":{\"autotypenumbers\":\"strict\",\"colorway\":[\"#636efa\",\"#EF553B\",\"#00cc96\",\"#ab63fa\",\"#FFA15A\",\"#19d3f3\",\"#FF6692\",\"#B6E880\",\"#FF97FF\",\"#FECB52\"],\"font\":{\"color\":\"#2a3f5f\"},\"hovermode\":\"closest\",\"hoverlabel\":{\"align\":\"left\"},\"paper_bgcolor\":\"white\",\"plot_bgcolor\":\"#E5ECF6\",\"polar\":{\"bgcolor\":\"#E5ECF6\",\"angularaxis\":{\"gridcolor\":\"white\",\"linecolor\":\"white\",\"ticks\":\"\"},\"radialaxis\":{\"gridcolor\":\"white\",\"linecolor\":\"white\",\"ticks\":\"\"}},\"ternary\":{\"bgcolor\":\"#E5ECF6\",\"aaxis\":{\"gridcolor\":\"white\",\"linecolor\":\"white\",\"ticks\":\"\"},\"baxis\":{\"gridcolor\":\"white\",\"linecolor\":\"white\",\"ticks\":\"\"},\"caxis\":{\"gridcolor\":\"white\",\"linecolor\":\"white\",\"ticks\":\"\"}},\"coloraxis\":{\"colorbar\":{\"outlinewidth\":0,\"ticks\":\"\"}},\"colorscale\":{\"sequential\":[[0.0,\"#0d0887\"],[0.1111111111111111,\"#46039f\"],[0.2222222222222222,\"#7201a8\"],[0.3333333333333333,\"#9c179e\"],[0.4444444444444444,\"#bd3786\"],[0.5555555555555556,\"#d8576b\"],[0.6666666666666666,\"#ed7953\"],[0.7777777777777778,\"#fb9f3a\"],[0.8888888888888888,\"#fdca26\"],[1.0,\"#f0f921\"]],\"sequentialminus\":[[0.0,\"#0d0887\"],[0.1111111111111111,\"#46039f\"],[0.2222222222222222,\"#7201a8\"],[0.3333333333333333,\"#9c179e\"],[0.4444444444444444,\"#bd3786\"],[0.5555555555555556,\"#d8576b\"],[0.6666666666666666,\"#ed7953\"],[0.7777777777777778,\"#fb9f3a\"],[0.8888888888888888,\"#fdca26\"],[1.0,\"#f0f921\"]],\"diverging\":[[0,\"#8e0152\"],[0.1,\"#c51b7d\"],[0.2,\"#de77ae\"],[0.3,\"#f1b6da\"],[0.4,\"#fde0ef\"],[0.5,\"#f7f7f7\"],[0.6,\"#e6f5d0\"],[0.7,\"#b8e186\"],[0.8,\"#7fbc41\"],[0.9,\"#4d9221\"],[1,\"#276419\"]]},\"xaxis\":{\"gridcolor\":\"white\",\"linecolor\":\"white\",\"ticks\":\"\",\"title\":{\"standoff\":15},\"zerolinecolor\":\"white\",\"automargin\":true,\"zerolinewidth\":2},\"yaxis\":{\"gridcolor\":\"white\",\"linecolor\":\"white\",\"ticks\":\"\",\"title\":{\"standoff\":15},\"zerolinecolor\":\"white\",\"automargin\":true,\"zerolinewidth\":2},\"scene\":{\"xaxis\":{\"backgroundcolor\":\"#E5ECF6\",\"gridcolor\":\"white\",\"linecolor\":\"white\",\"showbackground\":true,\"ticks\":\"\",\"zerolinecolor\":\"white\",\"gridwidth\":2},\"yaxis\":{\"backgroundcolor\":\"#E5ECF6\",\"gridcolor\":\"white\",\"linecolor\":\"white\",\"showbackground\":true,\"ticks\":\"\",\"zerolinecolor\":\"white\",\"gridwidth\":2},\"zaxis\":{\"backgroundcolor\":\"#E5ECF6\",\"gridcolor\":\"white\",\"linecolor\":\"white\",\"showbackground\":true,\"ticks\":\"\",\"zerolinecolor\":\"white\",\"gridwidth\":2}},\"shapedefaults\":{\"line\":{\"color\":\"#2a3f5f\"}},\"annotationdefaults\":{\"arrowcolor\":\"#2a3f5f\",\"arrowhead\":0,\"arrowwidth\":1},\"geo\":{\"bgcolor\":\"white\",\"landcolor\":\"#E5ECF6\",\"subunitcolor\":\"white\",\"showland\":true,\"showlakes\":true,\"lakecolor\":\"white\"},\"title\":{\"x\":0.05},\"mapbox\":{\"style\":\"light\"}}}},                        {\"responsive\": true}                    )                };            </script>        </div>"
      ],
      "text/plain": [
       "Figure({\n",
       "    'data': [{'dimensions': [{'label': 'Objective Value',\n",
       "                              'range': [0.0793479028546311, 6.536756028818556],\n",
       "                              'values': [0.0793479028546311, 0.0793479028546311,\n",
       "                                         0.0793479028546311, 0.415421724319458,\n",
       "                                         6.361350745022831, 0.8282738296617987,\n",
       "                                         0.0793479028546311, 6.24914347976934,\n",
       "                                         6.361810684204102, 0.17650979550655893,\n",
       "                                         6.536756028818556, 0.24126300873877268,\n",
       "                                         0.3467551195659892, 0.0793479028546311,\n",
       "                                         0.0793479028546311, 0.0793479028546311,\n",
       "                                         0.0793479028546311, 0.0793479028546311,\n",
       "                                         0.0793479028546311, 0.0793479028546311,\n",
       "                                         0.0793479028546311, 6.512824058532715,\n",
       "                                         0.13029011350572198, 6.508543968200684,\n",
       "                                         0.0793479028546311, 6.490295886993408,\n",
       "                                         0.0793479028546311, 0.0793479028546311,\n",
       "                                         0.0793479028546311, 0.0793479028546311,\n",
       "                                         0.0793479028546311, 0.5443209920941997,\n",
       "                                         0.5443209920941997, 0.5443209920941997,\n",
       "                                         0.0793479028546311, 0.0793479028546311,\n",
       "                                         0.0793479028546311, 0.5443209920941997,\n",
       "                                         0.0793479028546311, 6.291502827557266,\n",
       "                                         6.091215486436146, 6.099819225648569,\n",
       "                                         6.322555425323046, 6.05066441767426,\n",
       "                                         0.0793479028546311, 0.0793479028546311,\n",
       "                                         0.0793479028546311, 0.0793479028546311,\n",
       "                                         0.0793479028546311, 0.0793479028546311]},\n",
       "                             {'label': 'model_name',\n",
       "                              'range': [0, 3],\n",
       "                              'ticktext': [LR, XGBR, GBR, RF],\n",
       "                              'tickvals': [0, 1, 2, 3],\n",
       "                              'values': [0, 0, 0, 1, 2, 2, 0, 2, 1, 3, 2, 2, 3, 0,\n",
       "                                         0, 0, 0, 0, 0, 0, 0, 1, 3, 1, 0, 1, 0, 0,\n",
       "                                         0, 0, 0, 3, 3, 3, 0, 0, 0, 3, 0, 2, 2, 2,\n",
       "                                         2, 2, 0, 0, 0, 0, 0, 0]}],\n",
       "              'labelangle': 30,\n",
       "              'labelside': 'bottom',\n",
       "              'line': {'color': [0.0793479028546311, 0.0793479028546311,\n",
       "                                 0.0793479028546311, 0.415421724319458,\n",
       "                                 6.361350745022831, 0.8282738296617987,\n",
       "                                 0.0793479028546311, 6.24914347976934,\n",
       "                                 6.361810684204102, 0.17650979550655893,\n",
       "                                 6.536756028818556, 0.24126300873877268,\n",
       "                                 0.3467551195659892, 0.0793479028546311,\n",
       "                                 0.0793479028546311, 0.0793479028546311,\n",
       "                                 0.0793479028546311, 0.0793479028546311,\n",
       "                                 0.0793479028546311, 0.0793479028546311,\n",
       "                                 0.0793479028546311, 6.512824058532715,\n",
       "                                 0.13029011350572198, 6.508543968200684,\n",
       "                                 0.0793479028546311, 6.490295886993408,\n",
       "                                 0.0793479028546311, 0.0793479028546311,\n",
       "                                 0.0793479028546311, 0.0793479028546311,\n",
       "                                 0.0793479028546311, 0.5443209920941997,\n",
       "                                 0.5443209920941997, 0.5443209920941997,\n",
       "                                 0.0793479028546311, 0.0793479028546311,\n",
       "                                 0.0793479028546311, 0.5443209920941997,\n",
       "                                 0.0793479028546311, 6.291502827557266,\n",
       "                                 6.091215486436146, 6.099819225648569,\n",
       "                                 6.322555425323046, 6.05066441767426,\n",
       "                                 0.0793479028546311, 0.0793479028546311,\n",
       "                                 0.0793479028546311, 0.0793479028546311,\n",
       "                                 0.0793479028546311, 0.0793479028546311],\n",
       "                       'colorbar': {'title': {'text': 'Objective Value'}},\n",
       "                       'colorscale': [[0.0, 'rgb(247,251,255)'], [0.125,\n",
       "                                      'rgb(222,235,247)'], [0.25,\n",
       "                                      'rgb(198,219,239)'], [0.375,\n",
       "                                      'rgb(158,202,225)'], [0.5,\n",
       "                                      'rgb(107,174,214)'], [0.625,\n",
       "                                      'rgb(66,146,198)'], [0.75,\n",
       "                                      'rgb(33,113,181)'], [0.875, 'rgb(8,81,156)'],\n",
       "                                      [1.0, 'rgb(8,48,107)']],\n",
       "                       'reversescale': True,\n",
       "                       'showscale': True},\n",
       "              'type': 'parcoords'}],\n",
       "    'layout': {'template': '...', 'title': {'text': 'Parallel Coordinate Plot'}}\n",
       "})"
      ]
     },
     "execution_count": 28,
     "metadata": {},
     "output_type": "execute_result"
    }
   ],
   "source": [
    "\n",
    "plot_parallel_coordinate(study, params=[\"model_name\"])"
   ]
  },
  {
   "cell_type": "code",
   "execution_count": 29,
   "metadata": {},
   "outputs": [
    {
     "name": "stdout",
     "output_type": "stream",
     "text": [
      "The training error is  0.08778013304566602\n",
      "The test error is  0.0793479028546311\n"
     ]
    }
   ],
   "source": [
    "\n",
    "# train the linear regression model\n",
    "\n",
    "lr = LinearRegression()\n",
    "\n",
    "lr.fit(X_train_encoded, y_train)\n",
    "\n",
    "# get predictions\n",
    "y_pred_train = lr.predict(X_train_encoded) \n",
    "y_pred_test = lr.predict(X_test_encoded)\n",
    "\n",
    "# loss\n",
    "\n",
    "mape_train = mean_absolute_percentage_error(y_train, y_pred_train)\n",
    "mape_test = mean_absolute_percentage_error(y_test, y_pred_test)\n",
    "\n",
    "print(\"The training error is \", mape_train)\n",
    "print(\"The test error is \", mape_test)"
   ]
  },
  {
   "cell_type": "code",
   "execution_count": 30,
   "metadata": {},
   "outputs": [
    {
     "data": {
      "text/plain": [
       "array([-2.33737604,  0.71512405, -0.55601505, -1.25311068, -3.20463231,\n",
       "       -0.86685973, -2.79925402, -3.62516859,  0.41386463, -2.9376376 ,\n",
       "       -1.97624678, -3.75050442,  0.51806283, -2.54033388, -2.43297463,\n",
       "        0.47632075,  0.61254786, -4.7417372 , -2.03077217, -1.26960984,\n",
       "       -4.03690273, -2.08863167, -1.0414428 ,  0.73561736, -0.99999442,\n",
       "       -0.85944985, -2.43098478,  0.67112238,  0.57385071, -0.11719951,\n",
       "       -0.28045898, -0.37180749, -0.5238324 , -0.4233113 , -0.34045774,\n",
       "       -0.54170892, -0.36264553, -0.2493965 , -0.31905518,  2.4912456 ])"
      ]
     },
     "execution_count": 30,
     "metadata": {},
     "output_type": "execute_result"
    }
   ],
   "source": [
    "lr.coef_"
   ]
  },
  {
   "cell_type": "code",
   "execution_count": 31,
   "metadata": {},
   "outputs": [],
   "source": [
    "\n",
    "def tune_ridge(trial):\n",
    "    # hyperparameter space\n",
    "    alpha = trial.suggest_float(\"alpha\",30,100)\n",
    "    \n",
    "    # make the model object\n",
    "    ridge = Ridge(alpha=alpha, random_state=42)\n",
    "    \n",
    "    # train the model\n",
    "    ridge.fit(X_train_encoded, y_train)\n",
    "    \n",
    "    # get predictions\n",
    "    y_pred = ridge.predict(X_test_encoded)\n",
    "    \n",
    "    # calculate loss\n",
    "    loss = mean_absolute_percentage_error(y_test, y_pred)\n",
    "\n",
    "    return loss"
   ]
  },
  {
   "cell_type": "code",
   "execution_count": 32,
   "metadata": {},
   "outputs": [
    {
     "name": "stderr",
     "output_type": "stream",
     "text": [
      "[I 2025-06-10 17:48:13,209] A new study created in memory with name: tune_model\n"
     ]
    }
   ],
   "source": [
    "study = optuna.create_study(study_name=\"tune_model\", direction=\"minimize\")"
   ]
  },
  {
   "cell_type": "code",
   "execution_count": 33,
   "metadata": {},
   "outputs": [
    {
     "name": "stderr",
     "output_type": "stream",
     "text": [
      "                                                                                     \r"
     ]
    },
    {
     "name": "stdout",
     "output_type": "stream",
     "text": [
      "[I 2025-06-10 17:48:17,458] Trial 1 finished with value: 0.07921972105922186 and parameters: {'alpha': 60.674787242813174}. Best is trial 1 with value: 0.07921972105922186.\n",
      "[I 2025-06-10 17:48:17,551] Trial 0 finished with value: 0.07925458705716804 and parameters: {'alpha': 40.68586307441356}. Best is trial 1 with value: 0.07921972105922186.\n",
      "[I 2025-06-10 17:48:17,624] Trial 2 finished with value: 0.07919568917240144 and parameters: {'alpha': 76.50578547095813}. Best is trial 2 with value: 0.07919568917240144.\n"
     ]
    },
    {
     "name": "stderr",
     "output_type": "stream",
     "text": [
      "Best trial: 4. Best value: 0.0791733:   5%|▌         | 5/100 [00:05<01:52,  1.19s/it]"
     ]
    },
    {
     "name": "stdout",
     "output_type": "stream",
     "text": [
      "[I 2025-06-10 17:48:19,469] Trial 3 finished with value: 0.07922769502339565 and parameters: {'alpha': 55.79002528642387}. Best is trial 2 with value: 0.07919568917240144.\n",
      "[I 2025-06-10 17:48:19,492] Trial 4 finished with value: 0.07917328839154779 and parameters: {'alpha': 92.70202738858858}. Best is trial 4 with value: 0.07917328839154779.\n",
      "[I 2025-06-10 17:48:19,500] Trial 6 finished with value: 0.07921375400582292 and parameters: {'alpha': 64.4487047252864}. Best is trial 4 with value: 0.07917328839154779.\n"
     ]
    },
    {
     "name": "stderr",
     "output_type": "stream",
     "text": [
      "Best trial: 4. Best value: 0.0791733:   8%|▊         | 8/100 [00:05<00:59,  1.54it/s]"
     ]
    },
    {
     "name": "stdout",
     "output_type": "stream",
     "text": [
      "[I 2025-06-10 17:48:20,341] Trial 5 finished with value: 0.0792179410706045 and parameters: {'alpha': 61.78950662774614}. Best is trial 4 with value: 0.07917328839154779.\n",
      "[I 2025-06-10 17:48:20,355] Trial 7 finished with value: 0.07920823563405295 and parameters: {'alpha': 68.0449594423406}. Best is trial 4 with value: 0.07917328839154779.\n",
      "[I 2025-06-10 17:48:20,359] Trial 8 finished with value: 0.07926888643550939 and parameters: {'alpha': 33.36003477976577}. Best is trial 4 with value: 0.07917328839154779.\n"
     ]
    },
    {
     "name": "stderr",
     "output_type": "stream",
     "text": [
      "Best trial: 10. Best value: 0.0791673:  12%|█▏        | 12/100 [00:06<00:31,  2.77it/s]"
     ]
    },
    {
     "name": "stdout",
     "output_type": "stream",
     "text": [
      "[I 2025-06-10 17:48:21,207] Trial 10 finished with value: 0.07916727232590566 and parameters: {'alpha': 97.4063678562755}. Best is trial 10 with value: 0.07916727232590566.\n",
      "[I 2025-06-10 17:48:21,226] Trial 11 finished with value: 0.07922802035642347 and parameters: {'alpha': 55.595274251402756}. Best is trial 10 with value: 0.07916727232590566.\n",
      "[I 2025-06-10 17:48:21,250] Trial 9 finished with value: 0.07927350330960782 and parameters: {'alpha': 31.086242559338}. Best is trial 10 with value: 0.07916727232590566.\n"
     ]
    },
    {
     "name": "stderr",
     "output_type": "stream",
     "text": [
      "Best trial: 10. Best value: 0.0791673:  15%|█▌        | 15/100 [00:08<00:27,  3.05it/s]"
     ]
    },
    {
     "name": "stdout",
     "output_type": "stream",
     "text": [
      "[I 2025-06-10 17:48:22,323] Trial 12 finished with value: 0.0792173725888323 and parameters: {'alpha': 62.14653794428765}. Best is trial 10 with value: 0.07916727232590566.\n",
      "[I 2025-06-10 17:48:22,357] Trial 13 finished with value: 0.07916780976240244 and parameters: {'alpha': 96.97718536506196}. Best is trial 10 with value: 0.07916727232590566.\n",
      "[I 2025-06-10 17:48:22,363] Trial 14 finished with value: 0.07916915351701977 and parameters: {'alpha': 95.90933757878165}. Best is trial 10 with value: 0.07916727232590566.\n"
     ]
    },
    {
     "name": "stderr",
     "output_type": "stream",
     "text": [
      "Best trial: 15. Best value: 0.079167:  18%|█▊        | 18/100 [00:08<00:24,  3.40it/s] "
     ]
    },
    {
     "name": "stdout",
     "output_type": "stream",
     "text": [
      "[I 2025-06-10 17:48:23,259] Trial 16 finished with value: 0.07918548549649963 and parameters: {'alpha': 83.6601467630016}. Best is trial 10 with value: 0.07916727232590566.\n",
      "[I 2025-06-10 17:48:23,295] Trial 18 finished with value: 0.07918325369840423 and parameters: {'alpha': 85.27470372837345}. Best is trial 10 with value: 0.07916727232590566.\n",
      "[I 2025-06-10 17:48:23,298] Trial 15 finished with value: 0.07916704797639132 and parameters: {'alpha': 97.58617987245427}. Best is trial 15 with value: 0.07916704797639132.\n"
     ]
    },
    {
     "name": "stderr",
     "output_type": "stream",
     "text": [
      "                                                                                      "
     ]
    },
    {
     "name": "stdout",
     "output_type": "stream",
     "text": [
      "[I 2025-06-10 17:48:25,395] Trial 20 finished with value: 0.07918231614325368 and parameters: {'alpha': 85.96003456234773}. Best is trial 15 with value: 0.07916704797639132.\n"
     ]
    },
    {
     "name": "stderr",
     "output_type": "stream",
     "text": [
      "                                                                                      "
     ]
    },
    {
     "name": "stdout",
     "output_type": "stream",
     "text": [
      "[I 2025-06-10 17:48:25,455] Trial 19 finished with value: 0.07918257112802189 and parameters: {'alpha': 85.77318636255156}. Best is trial 15 with value: 0.07916704797639132.\n",
      "[I 2025-06-10 17:48:25,627] Trial 17 finished with value: 0.07918309748533797 and parameters: {'alpha': 85.38870776537298}. Best is trial 15 with value: 0.07916704797639132.\n"
     ]
    },
    {
     "name": "stderr",
     "output_type": "stream",
     "text": [
      "Best trial: 15. Best value: 0.079167:  22%|██▏       | 22/100 [00:11<00:32,  2.38it/s]"
     ]
    },
    {
     "name": "stdout",
     "output_type": "stream",
     "text": [
      "[I 2025-06-10 17:48:25,677] Trial 21 finished with value: 0.0791809015542627 and parameters: {'alpha': 87.00095263107598}. Best is trial 15 with value: 0.07916704797639132.\n"
     ]
    },
    {
     "name": "stderr",
     "output_type": "stream",
     "text": [
      "Best trial: 22. Best value: 0.079165:  24%|██▍       | 24/100 [00:12<00:34,  2.23it/s] "
     ]
    },
    {
     "name": "stdout",
     "output_type": "stream",
     "text": [
      "[I 2025-06-10 17:48:26,807] Trial 24 finished with value: 0.07916654215438573 and parameters: {'alpha': 97.99350937957682}. Best is trial 24 with value: 0.07916654215438573.\n",
      "[I 2025-06-10 17:48:26,848] Trial 23 finished with value: 0.07916506641800984 and parameters: {'alpha': 99.1850591444}. Best is trial 23 with value: 0.07916506641800984.\n",
      "[I 2025-06-10 17:48:26,856] Trial 22 finished with value: 0.07916498883468015 and parameters: {'alpha': 99.24816175737888}. Best is trial 22 with value: 0.07916498883468015.\n"
     ]
    },
    {
     "name": "stderr",
     "output_type": "stream",
     "text": [
      "Best trial: 22. Best value: 0.079165:  27%|██▋       | 27/100 [00:13<00:31,  2.34it/s]"
     ]
    },
    {
     "name": "stdout",
     "output_type": "stream",
     "text": [
      "[I 2025-06-10 17:48:27,600] Trial 25 finished with value: 0.07916605786684086 and parameters: {'alpha': 98.38376224706515}. Best is trial 22 with value: 0.07916498883468015.\n",
      "[I 2025-06-10 17:48:27,671] Trial 27 finished with value: 0.07919380120108725 and parameters: {'alpha': 77.80505406148728}. Best is trial 22 with value: 0.07916498883468015.\n",
      "[I 2025-06-10 17:48:27,718] Trial 26 finished with value: 0.07919760164809454 and parameters: {'alpha': 75.19618851051503}. Best is trial 22 with value: 0.07916498883468015.\n"
     ]
    },
    {
     "name": "stderr",
     "output_type": "stream",
     "text": [
      "Best trial: 22. Best value: 0.079165:  28%|██▊       | 28/100 [00:13<00:23,  3.02it/s]"
     ]
    },
    {
     "name": "stdout",
     "output_type": "stream",
     "text": [
      "[I 2025-06-10 17:48:27,803] Trial 28 finished with value: 0.07919178710698024 and parameters: {'alpha': 79.2079445363052}. Best is trial 22 with value: 0.07916498883468015.\n"
     ]
    },
    {
     "name": "stderr",
     "output_type": "stream",
     "text": [
      "Best trial: 22. Best value: 0.079165:  32%|███▏      | 32/100 [00:14<00:16,  4.10it/s]"
     ]
    },
    {
     "name": "stdout",
     "output_type": "stream",
     "text": [
      "[I 2025-06-10 17:48:28,470] Trial 32 finished with value: 0.07917522006773116 and parameters: {'alpha': 91.2371843931247}. Best is trial 22 with value: 0.07916498883468015.\n",
      "[I 2025-06-10 17:48:28,508] Trial 31 finished with value: 0.07917471964560106 and parameters: {'alpha': 91.61583655746975}. Best is trial 22 with value: 0.07916498883468015.\n",
      "[I 2025-06-10 17:48:28,548] Trial 30 finished with value: 0.07917414985431821 and parameters: {'alpha': 92.04739452523953}. Best is trial 22 with value: 0.07916498883468015.\n",
      "[I 2025-06-10 17:48:28,552] Trial 29 finished with value: 0.07917489774746235 and parameters: {'alpha': 91.48100637523449}. Best is trial 22 with value: 0.07916498883468015.\n"
     ]
    },
    {
     "name": "stderr",
     "output_type": "stream",
     "text": [
      "                                                                                       "
     ]
    },
    {
     "name": "stdout",
     "output_type": "stream",
     "text": [
      "[I 2025-06-10 17:48:29,296] Trial 33 finished with value: 0.07916484622208025 and parameters: {'alpha': 99.36424966452299}. Best is trial 33 with value: 0.07916484622208025.\n",
      "[I 2025-06-10 17:48:29,299] Trial 35 finished with value: 0.07916431885954123 and parameters: {'alpha': 99.79366684416628}. Best is trial 35 with value: 0.07916431885954123.\n",
      "[I 2025-06-10 17:48:29,303] Trial 34 finished with value: 0.0791642883900662 and parameters: {'alpha': 99.81848497371304}. Best is trial 34 with value: 0.0791642883900662.\n"
     ]
    },
    {
     "name": "stderr",
     "output_type": "stream",
     "text": [
      "Best trial: 34. Best value: 0.0791643:  37%|███▋      | 37/100 [00:15<00:11,  5.36it/s]"
     ]
    },
    {
     "name": "stdout",
     "output_type": "stream",
     "text": [
      "[I 2025-06-10 17:48:29,321] Trial 36 finished with value: 0.07916441563398022 and parameters: {'alpha': 99.7148449842095}. Best is trial 34 with value: 0.0791642883900662.\n"
     ]
    },
    {
     "name": "stderr",
     "output_type": "stream",
     "text": [
      "Best trial: 34. Best value: 0.0791643:  40%|████      | 40/100 [00:15<00:12,  5.00it/s]"
     ]
    },
    {
     "name": "stdout",
     "output_type": "stream",
     "text": [
      "[I 2025-06-10 17:48:30,197] Trial 39 finished with value: 0.07925217853913559 and parameters: {'alpha': 41.95551585009066}. Best is trial 34 with value: 0.0791642883900662.\n",
      "[I 2025-06-10 17:48:30,226] Trial 37 finished with value: 0.07917143433401523 and parameters: {'alpha': 94.12365866194367}. Best is trial 34 with value: 0.0791642883900662.\n",
      "[I 2025-06-10 17:48:30,228] Trial 40 finished with value: 0.07924690769512438 and parameters: {'alpha': 44.76781885277091}. Best is trial 34 with value: 0.0791642883900662.\n",
      "[I 2025-06-10 17:48:30,266] Trial 38 finished with value: 0.07920252466448265 and parameters: {'alpha': 71.85624544498145}. Best is trial 34 with value: 0.0791642883900662.\n"
     ]
    },
    {
     "name": "stderr",
     "output_type": "stream",
     "text": [
      "Best trial: 43. Best value: 0.0791642:  42%|████▏     | 42/100 [00:16<00:14,  4.04it/s]"
     ]
    },
    {
     "name": "stdout",
     "output_type": "stream",
     "text": [
      "[I 2025-06-10 17:48:30,932] Trial 42 finished with value: 0.07917851983763731 and parameters: {'alpha': 88.76551897533513}. Best is trial 34 with value: 0.0791642883900662.\n",
      "[I 2025-06-10 17:48:30,965] Trial 41 finished with value: 0.07917847731496931 and parameters: {'alpha': 88.79718254554744}. Best is trial 34 with value: 0.0791642883900662.\n"
     ]
    },
    {
     "name": "stderr",
     "output_type": "stream",
     "text": [
      "Best trial: 43. Best value: 0.0791642:  45%|████▌     | 45/100 [00:16<00:08,  6.16it/s]"
     ]
    },
    {
     "name": "stdout",
     "output_type": "stream",
     "text": [
      "[I 2025-06-10 17:48:30,969] Trial 43 finished with value: 0.07916422865548746 and parameters: {'alpha': 99.86714168324056}. Best is trial 43 with value: 0.07916422865548746.\n",
      "[I 2025-06-10 17:48:31,042] Trial 44 finished with value: 0.07917781221160707 and parameters: {'alpha': 89.29264669019983}. Best is trial 43 with value: 0.07916422865548746.\n"
     ]
    },
    {
     "name": "stderr",
     "output_type": "stream",
     "text": [
      "Best trial: 43. Best value: 0.0791642:  49%|████▉     | 49/100 [00:18<00:11,  4.52it/s]"
     ]
    },
    {
     "name": "stdout",
     "output_type": "stream",
     "text": [
      "[I 2025-06-10 17:48:32,319] Trial 45 finished with value: 0.07917113216502536 and parameters: {'alpha': 94.35799528522749}. Best is trial 43 with value: 0.07916422865548746.\n",
      "[I 2025-06-10 17:48:32,326] Trial 47 finished with value: 0.07917092708240005 and parameters: {'alpha': 94.51708758396575}. Best is trial 43 with value: 0.07916422865548746.\n",
      "[I 2025-06-10 17:48:32,334] Trial 46 finished with value: 0.07917077277925588 and parameters: {'alpha': 94.6368009484295}. Best is trial 43 with value: 0.07916422865548746.\n",
      "[I 2025-06-10 17:48:32,352] Trial 48 finished with value: 0.07917104466020394 and parameters: {'alpha': 94.42587448580247}. Best is trial 43 with value: 0.07916422865548746.\n"
     ]
    },
    {
     "name": "stderr",
     "output_type": "stream",
     "text": [
      "                                                                                       \r"
     ]
    },
    {
     "name": "stdout",
     "output_type": "stream",
     "text": [
      "[I 2025-06-10 17:48:33,199] Trial 51 finished with value: 0.07922777255048413 and parameters: {'alpha': 55.74360938556457}. Best is trial 43 with value: 0.07916422865548746.\n",
      "[I 2025-06-10 17:48:33,231] Trial 52 finished with value: 0.07916410010072902 and parameters: {'alpha': 99.9718622180297}. Best is trial 52 with value: 0.07916410010072902.\n",
      "[I 2025-06-10 17:48:33,362] Trial 50 finished with value: 0.07916408718242213 and parameters: {'alpha': 99.98238593929362}. Best is trial 50 with value: 0.07916408718242213.\n"
     ]
    },
    {
     "name": "stderr",
     "output_type": "stream",
     "text": [
      "Best trial: 50. Best value: 0.0791641:  53%|█████▎    | 53/100 [00:19<00:10,  4.59it/s]"
     ]
    },
    {
     "name": "stdout",
     "output_type": "stream",
     "text": [
      "[I 2025-06-10 17:48:33,365] Trial 49 finished with value: 0.0791876447562472 and parameters: {'alpha': 82.11832820478264}. Best is trial 50 with value: 0.07916408718242213.\n"
     ]
    },
    {
     "name": "stderr",
     "output_type": "stream",
     "text": [
      "Best trial: 50. Best value: 0.0791641:  55%|█████▌    | 55/100 [00:19<00:12,  3.66it/s]"
     ]
    },
    {
     "name": "stdout",
     "output_type": "stream",
     "text": [
      "[I 2025-06-10 17:48:34,213] Trial 56 finished with value: 0.07916823547894736 and parameters: {'alpha': 96.63836472832014}. Best is trial 50 with value: 0.07916408718242213.\n",
      "[I 2025-06-10 17:48:34,229] Trial 54 finished with value: 0.0791645186334798 and parameters: {'alpha': 99.63095836202623}. Best is trial 50 with value: 0.07916408718242213.\n",
      "[I 2025-06-10 17:48:34,232] Trial 53 finished with value: 0.07916412418970722 and parameters: {'alpha': 99.95223869870681}. Best is trial 50 with value: 0.07916408718242213.\n"
     ]
    },
    {
     "name": "stderr",
     "output_type": "stream",
     "text": [
      "Best trial: 50. Best value: 0.0791641:  59%|█████▉    | 59/100 [00:20<00:09,  4.28it/s]"
     ]
    },
    {
     "name": "stdout",
     "output_type": "stream",
     "text": [
      "[I 2025-06-10 17:48:35,023] Trial 57 finished with value: 0.0792379554463618 and parameters: {'alpha': 49.77197443758043}. Best is trial 50 with value: 0.07916408718242213.\n",
      "[I 2025-06-10 17:48:35,028] Trial 58 finished with value: 0.07916911370424151 and parameters: {'alpha': 95.94094224362001}. Best is trial 50 with value: 0.07916408718242213.\n",
      "[I 2025-06-10 17:48:35,035] Trial 55 finished with value: 0.07923607698809902 and parameters: {'alpha': 50.851110782554926}. Best is trial 50 with value: 0.07916408718242213.\n",
      "[I 2025-06-10 17:48:35,054] Trial 59 finished with value: 0.07916901905390478 and parameters: {'alpha': 96.01608201921125}. Best is trial 50 with value: 0.07916408718242213.\n"
     ]
    },
    {
     "name": "stderr",
     "output_type": "stream",
     "text": [
      "Best trial: 50. Best value: 0.0791641:  62%|██████▏   | 62/100 [00:21<00:12,  3.15it/s]"
     ]
    },
    {
     "name": "stdout",
     "output_type": "stream",
     "text": [
      "[I 2025-06-10 17:48:36,162] Trial 60 finished with value: 0.07917713935610607 and parameters: {'alpha': 89.79475314414643}. Best is trial 50 with value: 0.07916408718242213.\n",
      "[I 2025-06-10 17:48:36,211] Trial 61 finished with value: 0.07921179789296429 and parameters: {'alpha': 65.71290700737357}. Best is trial 50 with value: 0.07916408718242213.\n",
      "[I 2025-06-10 17:48:36,217] Trial 62 finished with value: 0.07917747730356466 and parameters: {'alpha': 89.54233009471638}. Best is trial 50 with value: 0.07916408718242213.\n"
     ]
    },
    {
     "name": "stderr",
     "output_type": "stream",
     "text": [
      "Best trial: 50. Best value: 0.0791641:  64%|██████▍   | 64/100 [00:22<00:08,  4.41it/s]"
     ]
    },
    {
     "name": "stdout",
     "output_type": "stream",
     "text": [
      "[I 2025-06-10 17:48:36,509] Trial 63 finished with value: 0.07918642958106277 and parameters: {'alpha': 82.98258989381432}. Best is trial 50 with value: 0.07916408718242213.\n"
     ]
    },
    {
     "name": "stderr",
     "output_type": "stream",
     "text": [
      "Best trial: 67. Best value: 0.0791641:  67%|██████▋   | 67/100 [00:22<00:07,  4.37it/s]"
     ]
    },
    {
     "name": "stdout",
     "output_type": "stream",
     "text": [
      "[I 2025-06-10 17:48:37,219] Trial 64 finished with value: 0.07916479220799774 and parameters: {'alpha': 99.40822042762412}. Best is trial 50 with value: 0.07916408718242213.\n",
      "[I 2025-06-10 17:48:37,222] Trial 65 finished with value: 0.07916414394615474 and parameters: {'alpha': 99.93614480253729}. Best is trial 50 with value: 0.07916408718242213.\n",
      "[I 2025-06-10 17:48:37,255] Trial 66 finished with value: 0.07916745097394123 and parameters: {'alpha': 97.26363229762846}. Best is trial 50 with value: 0.07916408718242213.\n",
      "[I 2025-06-10 17:48:37,260] Trial 67 finished with value: 0.07916407581574215 and parameters: {'alpha': 99.99164572579834}. Best is trial 67 with value: 0.07916407581574215.\n"
     ]
    },
    {
     "name": "stderr",
     "output_type": "stream",
     "text": [
      "                                                                                       \r"
     ]
    },
    {
     "name": "stdout",
     "output_type": "stream",
     "text": [
      "[I 2025-06-10 17:48:38,291] Trial 70 finished with value: 0.07917351907685344 and parameters: {'alpha': 92.52652541357249}. Best is trial 67 with value: 0.07916407581574215.\n",
      "[I 2025-06-10 17:48:38,330] Trial 69 finished with value: 0.07917294491748349 and parameters: {'alpha': 92.96434633987691}. Best is trial 67 with value: 0.07916407581574215.\n",
      "[I 2025-06-10 17:48:38,404] Trial 68 finished with value: 0.07917353596657092 and parameters: {'alpha': 92.5136816716406}. Best is trial 67 with value: 0.07916407581574215.\n"
     ]
    },
    {
     "name": "stderr",
     "output_type": "stream",
     "text": [
      "Best trial: 67. Best value: 0.0791641:  72%|███████▏  | 72/100 [00:24<00:05,  5.04it/s]"
     ]
    },
    {
     "name": "stdout",
     "output_type": "stream",
     "text": [
      "[I 2025-06-10 17:48:38,411] Trial 71 finished with value: 0.07916776850216518 and parameters: {'alpha': 97.01012301034625}. Best is trial 67 with value: 0.07916407581574215.\n"
     ]
    },
    {
     "name": "stderr",
     "output_type": "stream",
     "text": [
      "Best trial: 67. Best value: 0.0791641:  75%|███████▌  | 75/100 [00:24<00:06,  3.85it/s]"
     ]
    },
    {
     "name": "stdout",
     "output_type": "stream",
     "text": [
      "[I 2025-06-10 17:48:39,222] Trial 72 finished with value: 0.07916825969582332 and parameters: {'alpha': 96.6191236096418}. Best is trial 67 with value: 0.07916407581574215.\n",
      "[I 2025-06-10 17:48:39,244] Trial 73 finished with value: 0.07916804947100105 and parameters: {'alpha': 96.78622242599806}. Best is trial 67 with value: 0.07916407581574215.\n",
      "[I 2025-06-10 17:48:39,296] Trial 74 finished with value: 0.07916414109802575 and parameters: {'alpha': 99.93846491750897}. Best is trial 67 with value: 0.07916407581574215.\n",
      "[I 2025-06-10 17:48:39,317] Trial 75 finished with value: 0.07916742974893282 and parameters: {'alpha': 97.280579859164}. Best is trial 67 with value: 0.07916407581574215.\n"
     ]
    },
    {
     "name": "stderr",
     "output_type": "stream",
     "text": [
      "Best trial: 67. Best value: 0.0791641:  79%|███████▉  | 79/100 [00:25<00:03,  5.28it/s]"
     ]
    },
    {
     "name": "stdout",
     "output_type": "stream",
     "text": [
      "[I 2025-06-10 17:48:39,953] Trial 79 finished with value: 0.07917008964687995 and parameters: {'alpha': 95.1702824655482}. Best is trial 67 with value: 0.07916407581574215.\n",
      "[I 2025-06-10 17:48:39,956] Trial 77 finished with value: 0.07917029243278896 and parameters: {'alpha': 95.01184760265991}. Best is trial 67 with value: 0.07916407581574215.\n",
      "[I 2025-06-10 17:48:39,963] Trial 76 finished with value: 0.07916421057133459 and parameters: {'alpha': 99.88187247855662}. Best is trial 67 with value: 0.07916407581574215.\n",
      "[I 2025-06-10 17:48:39,986] Trial 78 finished with value: 0.07917030946609283 and parameters: {'alpha': 94.99854164037284}. Best is trial 67 with value: 0.07916407581574215.\n"
     ]
    },
    {
     "name": "stderr",
     "output_type": "stream",
     "text": [
      "Best trial: 67. Best value: 0.0791641:  83%|████████▎ | 83/100 [00:26<00:03,  5.07it/s]"
     ]
    },
    {
     "name": "stdout",
     "output_type": "stream",
     "text": [
      "[I 2025-06-10 17:48:40,647] Trial 81 finished with value: 0.07916596980213997 and parameters: {'alpha': 98.45474219890939}. Best is trial 67 with value: 0.07916407581574215.\n",
      "[I 2025-06-10 17:48:40,745] Trial 80 finished with value: 0.0791806180947404 and parameters: {'alpha': 87.21026723917979}. Best is trial 67 with value: 0.07916407581574215.\n",
      "[I 2025-06-10 17:48:40,749] Trial 82 finished with value: 0.07922311591585365 and parameters: {'alpha': 58.56664048614815}. Best is trial 67 with value: 0.07916407581574215.\n",
      "[I 2025-06-10 17:48:40,751] Trial 83 finished with value: 0.0791803222470004 and parameters: {'alpha': 87.42894161592423}. Best is trial 67 with value: 0.07916407581574215.\n"
     ]
    },
    {
     "name": "stderr",
     "output_type": "stream",
     "text": [
      "Best trial: 67. Best value: 0.0791641:  87%|████████▋ | 87/100 [00:26<00:01,  6.52it/s]"
     ]
    },
    {
     "name": "stdout",
     "output_type": "stream",
     "text": [
      "[I 2025-06-10 17:48:41,288] Trial 86 finished with value: 0.07916414663383642 and parameters: {'alpha': 99.93395539309577}. Best is trial 67 with value: 0.07916407581574215.\n",
      "[I 2025-06-10 17:48:41,292] Trial 84 finished with value: 0.07916414241085509 and parameters: {'alpha': 99.93739547239674}. Best is trial 67 with value: 0.07916407581574215.\n",
      "[I 2025-06-10 17:48:41,315] Trial 85 finished with value: 0.07916620116526193 and parameters: {'alpha': 98.26827525871389}. Best is trial 67 with value: 0.07916407581574215.\n"
     ]
    },
    {
     "name": "stderr",
     "output_type": "stream",
     "text": [
      "Best trial: 67. Best value: 0.0791641:  89%|████████▉ | 89/100 [00:27<00:01,  5.73it/s]"
     ]
    },
    {
     "name": "stdout",
     "output_type": "stream",
     "text": [
      "[I 2025-06-10 17:48:41,693] Trial 87 finished with value: 0.07916607192249378 and parameters: {'alpha': 98.37243403864264}. Best is trial 67 with value: 0.07916407581574215.\n",
      "[I 2025-06-10 17:48:41,870] Trial 90 finished with value: 0.0791759055456062 and parameters: {'alpha': 90.71994990145456}. Best is trial 67 with value: 0.07916407581574215.\n"
     ]
    },
    {
     "name": "stderr",
     "output_type": "stream",
     "text": [
      "Best trial: 67. Best value: 0.0791641:  89%|████████▉ | 89/100 [00:27<00:01,  5.73it/s]"
     ]
    },
    {
     "name": "stdout",
     "output_type": "stream",
     "text": [
      "[I 2025-06-10 17:48:41,917] Trial 88 finished with value: 0.07917317245267813 and parameters: {'alpha': 92.79054486169461}. Best is trial 67 with value: 0.07916407581574215.\n"
     ]
    },
    {
     "name": "stderr",
     "output_type": "stream",
     "text": [
      "Best trial: 67. Best value: 0.0791641:  93%|█████████▎| 93/100 [00:28<00:01,  6.09it/s]"
     ]
    },
    {
     "name": "stdout",
     "output_type": "stream",
     "text": [
      "[I 2025-06-10 17:48:42,423] Trial 89 finished with value: 0.0791755668357908 and parameters: {'alpha': 90.97540522939651}. Best is trial 67 with value: 0.07916407581574215.\n",
      "[I 2025-06-10 17:48:42,444] Trial 91 finished with value: 0.07917552518963059 and parameters: {'alpha': 91.00684109552694}. Best is trial 67 with value: 0.07916407581574215.\n",
      "[I 2025-06-10 17:48:42,484] Trial 93 finished with value: 0.07917202599677427 and parameters: {'alpha': 93.66806585659315}. Best is trial 67 with value: 0.07916407581574215.\n",
      "[I 2025-06-10 17:48:42,489] Trial 92 finished with value: 0.07917259399446783 and parameters: {'alpha': 93.23294429166918}. Best is trial 67 with value: 0.07916407581574215.\n"
     ]
    },
    {
     "name": "stderr",
     "output_type": "stream",
     "text": [
      "Best trial: 67. Best value: 0.0791641:  98%|█████████▊| 98/100 [00:28<00:00,  7.32it/s]"
     ]
    },
    {
     "name": "stdout",
     "output_type": "stream",
     "text": [
      "[I 2025-06-10 17:48:43,069] Trial 94 finished with value: 0.07916440712407302 and parameters: {'alpha': 99.72177602427786}. Best is trial 67 with value: 0.07916407581574215.\n",
      "[I 2025-06-10 17:48:43,125] Trial 95 finished with value: 0.07916658494840123 and parameters: {'alpha': 97.95903072486642}. Best is trial 67 with value: 0.07916407581574215.\n",
      "[I 2025-06-10 17:48:43,129] Trial 96 finished with value: 0.07916634479659379 and parameters: {'alpha': 98.15253092593538}. Best is trial 67 with value: 0.07916407581574215.\n",
      "[I 2025-06-10 17:48:43,209] Trial 97 finished with value: 0.07916415677396098 and parameters: {'alpha': 99.92569519175657}. Best is trial 67 with value: 0.07916407581574215.\n"
     ]
    },
    {
     "name": "stderr",
     "output_type": "stream",
     "text": [
      "Best trial: 67. Best value: 0.0791641: 100%|██████████| 100/100 [00:29<00:00,  3.43it/s]"
     ]
    },
    {
     "name": "stdout",
     "output_type": "stream",
     "text": [
      "[I 2025-06-10 17:48:43,543] Trial 98 finished with value: 0.07926792328606908 and parameters: {'alpha': 33.84070191313728}. Best is trial 67 with value: 0.07916407581574215.\n",
      "[I 2025-06-10 17:48:43,579] Trial 99 finished with value: 0.07926797199947895 and parameters: {'alpha': 33.81631556028432}. Best is trial 67 with value: 0.07916407581574215.\n"
     ]
    },
    {
     "name": "stderr",
     "output_type": "stream",
     "text": [
      "\n"
     ]
    }
   ],
   "source": [
    "\n",
    "# optimize\n",
    "\n",
    "study.optimize(func=tune_ridge, n_trials=100, n_jobs=-1, show_progress_bar=True)"
   ]
  },
  {
   "cell_type": "code",
   "execution_count": 34,
   "id": "d8d67ddd",
   "metadata": {},
   "outputs": [
    {
     "data": {
      "text/plain": [
       "{'alpha': 99.99164572579834}"
      ]
     },
     "execution_count": 34,
     "metadata": {},
     "output_type": "execute_result"
    }
   ],
   "source": [
    "\n",
    "study.best_params"
   ]
  },
  {
   "cell_type": "code",
   "execution_count": 35,
   "id": "43652422",
   "metadata": {},
   "outputs": [
    {
     "data": {
      "text/plain": [
       "0.07916407581574215"
      ]
     },
     "execution_count": 35,
     "metadata": {},
     "output_type": "execute_result"
    }
   ],
   "source": [
    "\n",
    "study.best_value"
   ]
  },
  {
   "cell_type": "code",
   "execution_count": null,
   "id": "b75ed939",
   "metadata": {},
   "outputs": [],
   "source": []
  }
 ],
 "metadata": {
  "kernelspec": {
   "display_name": "Python 3",
   "language": "python",
   "name": "python3"
  },
  "language_info": {
   "codemirror_mode": {
    "name": "ipython",
    "version": 3
   },
   "file_extension": ".py",
   "mimetype": "text/x-python",
   "name": "python",
   "nbconvert_exporter": "python",
   "pygments_lexer": "ipython3",
   "version": "3.13.2"
  }
 },
 "nbformat": 4,
 "nbformat_minor": 5
}
